{
 "cells": [
  {
   "cell_type": "code",
   "execution_count": 1,
   "metadata": {
    "ExecuteTime": {
     "end_time": "2020-04-20T22:02:38.504401Z",
     "start_time": "2020-04-20T22:02:37.264923Z"
    }
   },
   "outputs": [],
   "source": [
    "import numpy as np;\n",
    "import pandas as pd;"
   ]
  },
  {
   "cell_type": "markdown",
   "metadata": {},
   "source": [
    "## Initialize Parameters"
   ]
  },
  {
   "cell_type": "code",
   "execution_count": 2,
   "metadata": {
    "ExecuteTime": {
     "end_time": "2020-04-20T22:02:38.514241Z",
     "start_time": "2020-04-20T22:02:38.505772Z"
    }
   },
   "outputs": [],
   "source": [
    "## parameters and global variables\n",
    "\n",
    "mu = 0.01\n",
    "district = \"ksg\""
   ]
  },
  {
   "cell_type": "markdown",
   "metadata": {},
   "source": [
    "## Load and Initialize Data"
   ]
  },
  {
   "cell_type": "code",
   "execution_count": 3,
   "metadata": {
    "ExecuteTime": {
     "end_time": "2020-04-20T22:02:38.538277Z",
     "start_time": "2020-04-20T22:02:38.518361Z"
    }
   },
   "outputs": [],
   "source": [
    "## Load population data\n",
    "initDataDF = pd.read_csv(\"../data/\" + district + \"_init_data.csv\")\n",
    "\n",
    "## Load distance data\n",
    "distanceData = pd.read_csv(\"../data/\" + district + \"_distance_matrix.csv\")\n",
    "\n",
    "## Number of regions\n",
    "r = len(initDataDF.index)\n",
    "\n",
    "## Sort population data and distance data by name for easy matrix transformation\n",
    "initDataDF.sort_values(by=['name'], inplace=True)\n",
    "distanceData.sort_values(by=['fromName', 'toName'], inplace=True)"
   ]
  },
  {
   "cell_type": "markdown",
   "metadata": {},
   "source": [
    "## Prepare Distance matrix"
   ]
  },
  {
   "cell_type": "code",
   "execution_count": 4,
   "metadata": {
    "ExecuteTime": {
     "end_time": "2020-04-20T22:02:38.546269Z",
     "start_time": "2020-04-20T22:02:38.540806Z"
    }
   },
   "outputs": [],
   "source": [
    "distanceMatrix = distanceData['value'].to_numpy().reshape(r,r)\n",
    "#distanceMatrix[0][4]"
   ]
  },
  {
   "cell_type": "markdown",
   "metadata": {},
   "source": [
    "## Function Definitions"
   ]
  },
  {
   "cell_type": "code",
   "execution_count": 5,
   "metadata": {
    "ExecuteTime": {
     "end_time": "2020-04-20T22:02:38.554489Z",
     "start_time": "2020-04-20T22:02:38.548611Z"
    }
   },
   "outputs": [],
   "source": [
    "def getSij(i, j, distanceMatrix, initDataDF):\n",
    "    #print(distanceMatrix[i] <= distanceMatrix[i][j])\n",
    "    return(initDataDF[distanceMatrix[i] <= distanceMatrix[i][j]]['S'].sum() - initDataDF.iloc[i]['S'] - initDataDF.iloc[j]['S'])\n",
    "    \n",
    "#getSij(63,23,distanceMatrix, initDataDF)"
   ]
  },
  {
   "cell_type": "code",
   "execution_count": 6,
   "metadata": {
    "ExecuteTime": {
     "end_time": "2020-04-20T22:02:38.563389Z",
     "start_time": "2020-04-20T22:02:38.556864Z"
    }
   },
   "outputs": [],
   "source": [
    "def getTij(i,j, distanceMatrix, initDataDF):\n",
    "    Ni = initDataDF.iloc[i]['S']\n",
    "    Ti = mu*Ni\n",
    "\n",
    "    if(i==j):\n",
    "        return Ni - Ti;\n",
    "    \n",
    "    Nj = initDataDF.iloc[j]['S']\n",
    "    Sij = getSij(i,j,distanceMatrix, initDataDF)\n",
    "    Tij = Ti * ((Ni * Nj) /((Ni + Sij)*(Ni + Nj + Sij)))\n",
    "    return Tij\n",
    "    \n",
    "    "
   ]
  },
  {
   "cell_type": "markdown",
   "metadata": {},
   "source": [
    "## Compute TMatrix"
   ]
  },
  {
   "cell_type": "code",
   "execution_count": 7,
   "metadata": {
    "ExecuteTime": {
     "end_time": "2020-04-20T22:02:41.005986Z",
     "start_time": "2020-04-20T22:02:38.565356Z"
    }
   },
   "outputs": [],
   "source": [
    "data = []\n",
    "\n",
    "for i in range(0,r):\n",
    "    for j in range(0,r):\n",
    "        Tij = getTij(i,j,distanceMatrix, initDataDF)\n",
    "        #print(\"(\", i, \",\", j, \") \",  initDataDF.iloc[i]['name'], \" \", initDataDF.iloc[j]['name'], \" \" ,Tij)\n",
    "        data.append({'iName': initDataDF.iloc[i]['name'], 'jName': initDataDF.iloc[j]['name'], 'Tij': Tij});\n",
    "        \n",
    "resultsDF = pd.DataFrame(data);\n"
   ]
  },
  {
   "cell_type": "markdown",
   "metadata": {},
   "source": [
    "## Save output"
   ]
  },
  {
   "cell_type": "code",
   "execution_count": 8,
   "metadata": {
    "ExecuteTime": {
     "end_time": "2020-04-20T22:02:41.027431Z",
     "start_time": "2020-04-20T22:02:41.007734Z"
    }
   },
   "outputs": [],
   "source": [
    "resultsDF.to_csv(\"../output/\" + district + \"_tmatrix_results.csv\")"
   ]
  }
 ],
 "metadata": {
  "kernelspec": {
   "display_name": "Python 3",
   "language": "python",
   "name": "python3"
  },
  "language_info": {
   "codemirror_mode": {
    "name": "ipython",
    "version": 3
   },
   "file_extension": ".py",
   "mimetype": "text/x-python",
   "name": "python",
   "nbconvert_exporter": "python",
   "pygments_lexer": "ipython3",
   "version": "3.7.5"
  }
 },
 "nbformat": 4,
 "nbformat_minor": 2
}
