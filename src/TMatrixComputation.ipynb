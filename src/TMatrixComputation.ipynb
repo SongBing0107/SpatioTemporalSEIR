{
 "cells": [
  {
   "cell_type": "code",
   "execution_count": 1,
   "metadata": {},
   "outputs": [],
   "source": [
    "import numpy as np;\n",
    "import pandas as pd;"
   ]
  },
  {
   "cell_type": "code",
   "execution_count": 2,
   "metadata": {},
   "outputs": [],
   "source": [
    "mu = 0.01"
   ]
  },
  {
   "cell_type": "markdown",
   "metadata": {},
   "source": [
    "```\n",
    "                P1\n",
    "               /. \\\n",
    "     ----------    -------\n",
    "     |                   |\n",
    "     10                 10\n",
    "     |                   |\n",
    "     P1.1 ---- 10 ----- P1.2           \n",
    "     / \\                / \\\n",
    "    10  10            10  10 \n",
    "   /      \\          /      \\\n",
    "  P1.1.1  P1.1.2  P1.2.1.  P1.2.2 \n",
    "```"
   ]
  },
  {
   "cell_type": "code",
   "execution_count": 3,
   "metadata": {},
   "outputs": [
    {
     "data": {
      "text/html": [
       "<div>\n",
       "<style scoped>\n",
       "    .dataframe tbody tr th:only-of-type {\n",
       "        vertical-align: middle;\n",
       "    }\n",
       "\n",
       "    .dataframe tbody tr th {\n",
       "        vertical-align: top;\n",
       "    }\n",
       "\n",
       "    .dataframe thead th {\n",
       "        text-align: right;\n",
       "    }\n",
       "</style>\n",
       "<table border=\"1\" class=\"dataframe\">\n",
       "  <thead>\n",
       "    <tr style=\"text-align: right;\">\n",
       "      <th></th>\n",
       "      <th>name</th>\n",
       "      <th>S</th>\n",
       "      <th>E</th>\n",
       "      <th>I</th>\n",
       "      <th>H</th>\n",
       "      <th>R</th>\n",
       "    </tr>\n",
       "  </thead>\n",
       "  <tbody>\n",
       "    <tr>\n",
       "      <th>0</th>\n",
       "      <td>Amboori</td>\n",
       "      <td>15920</td>\n",
       "      <td>0</td>\n",
       "      <td>20</td>\n",
       "      <td>0</td>\n",
       "      <td>0</td>\n",
       "    </tr>\n",
       "    <tr>\n",
       "      <th>1</th>\n",
       "      <td>Anad</td>\n",
       "      <td>31687</td>\n",
       "      <td>0</td>\n",
       "      <td>0</td>\n",
       "      <td>0</td>\n",
       "      <td>0</td>\n",
       "    </tr>\n",
       "    <tr>\n",
       "      <th>2</th>\n",
       "      <td>Anchuthengu</td>\n",
       "      <td>17396</td>\n",
       "      <td>0</td>\n",
       "      <td>0</td>\n",
       "      <td>0</td>\n",
       "      <td>0</td>\n",
       "    </tr>\n",
       "    <tr>\n",
       "      <th>3</th>\n",
       "      <td>Andoorkonam</td>\n",
       "      <td>30781</td>\n",
       "      <td>0</td>\n",
       "      <td>0</td>\n",
       "      <td>0</td>\n",
       "      <td>0</td>\n",
       "    </tr>\n",
       "    <tr>\n",
       "      <th>4</th>\n",
       "      <td>Aruvikkara</td>\n",
       "      <td>33396</td>\n",
       "      <td>0</td>\n",
       "      <td>0</td>\n",
       "      <td>0</td>\n",
       "      <td>0</td>\n",
       "    </tr>\n",
       "    <tr>\n",
       "      <th>...</th>\n",
       "      <td>...</td>\n",
       "      <td>...</td>\n",
       "      <td>...</td>\n",
       "      <td>...</td>\n",
       "      <td>...</td>\n",
       "      <td>...</td>\n",
       "    </tr>\n",
       "    <tr>\n",
       "      <th>72</th>\n",
       "      <td>Venganoor</td>\n",
       "      <td>35963</td>\n",
       "      <td>0</td>\n",
       "      <td>0</td>\n",
       "      <td>0</td>\n",
       "      <td>0</td>\n",
       "    </tr>\n",
       "    <tr>\n",
       "      <th>73</th>\n",
       "      <td>Vettoor</td>\n",
       "      <td>18704</td>\n",
       "      <td>0</td>\n",
       "      <td>0</td>\n",
       "      <td>0</td>\n",
       "      <td>0</td>\n",
       "    </tr>\n",
       "    <tr>\n",
       "      <th>74</th>\n",
       "      <td>Vilappil</td>\n",
       "      <td>36212</td>\n",
       "      <td>0</td>\n",
       "      <td>0</td>\n",
       "      <td>0</td>\n",
       "      <td>0</td>\n",
       "    </tr>\n",
       "    <tr>\n",
       "      <th>75</th>\n",
       "      <td>Vilavoorkal</td>\n",
       "      <td>31761</td>\n",
       "      <td>0</td>\n",
       "      <td>0</td>\n",
       "      <td>0</td>\n",
       "      <td>0</td>\n",
       "    </tr>\n",
       "    <tr>\n",
       "      <th>76</th>\n",
       "      <td>Vithura</td>\n",
       "      <td>26249</td>\n",
       "      <td>0</td>\n",
       "      <td>0</td>\n",
       "      <td>0</td>\n",
       "      <td>0</td>\n",
       "    </tr>\n",
       "  </tbody>\n",
       "</table>\n",
       "<p>77 rows × 6 columns</p>\n",
       "</div>"
      ],
      "text/plain": [
       "           name      S  E   I  H  R\n",
       "0       Amboori  15920  0  20  0  0\n",
       "1          Anad  31687  0   0  0  0\n",
       "2   Anchuthengu  17396  0   0  0  0\n",
       "3   Andoorkonam  30781  0   0  0  0\n",
       "4    Aruvikkara  33396  0   0  0  0\n",
       "..          ...    ... ..  .. .. ..\n",
       "72    Venganoor  35963  0   0  0  0\n",
       "73      Vettoor  18704  0   0  0  0\n",
       "74     Vilappil  36212  0   0  0  0\n",
       "75  Vilavoorkal  31761  0   0  0  0\n",
       "76      Vithura  26249  0   0  0  0\n",
       "\n",
       "[77 rows x 6 columns]"
      ]
     },
     "execution_count": 3,
     "metadata": {},
     "output_type": "execute_result"
    }
   ],
   "source": [
    "initDataDF = pd.read_csv(\"../data/tvm_init_data.csv\")\n",
    "\n",
    "distanceData = pd.read_csv(\"../data/tvm_distance_matrix.csv\")\n",
    "\n",
    "r = len(initDataDF.index)\n",
    "initDataDF"
   ]
  },
  {
   "cell_type": "code",
   "execution_count": 4,
   "metadata": {},
   "outputs": [
    {
     "data": {
      "text/plain": [
       "19952"
      ]
     },
     "execution_count": 4,
     "metadata": {},
     "output_type": "execute_result"
    }
   ],
   "source": [
    "distanceMatrix = distanceData['value'].to_numpy().reshape(r,r)\n",
    "\n",
    "distanceMatrix[0][4]"
   ]
  },
  {
   "cell_type": "code",
   "execution_count": 5,
   "metadata": {},
   "outputs": [],
   "source": [
    "def getSij(i, j, distanceMatrix, initDataDF):\n",
    "    #print(distanceMatrix[i] <= distanceMatrix[i][j])\n",
    "    return(initDataDF[distanceMatrix[i] <= distanceMatrix[i][j]]['S'].sum() - initDataDF.iloc[i]['S'] - initDataDF.iloc[j]['S'])\n",
    "    \n"
   ]
  },
  {
   "cell_type": "code",
   "execution_count": 6,
   "metadata": {},
   "outputs": [
    {
     "data": {
      "text/plain": [
       "0"
      ]
     },
     "execution_count": 6,
     "metadata": {},
     "output_type": "execute_result"
    }
   ],
   "source": [
    "getSij(63,23,distanceMatrix, initDataDF)"
   ]
  },
  {
   "cell_type": "code",
   "execution_count": 7,
   "metadata": {},
   "outputs": [],
   "source": [
    "def getTij(i,j, distanceMatrix, initDataDF):\n",
    "    Ni = initDataDF.iloc[i]['S']\n",
    "    Ti = mu*Ni\n",
    "\n",
    "    if(i==j):\n",
    "        return Ni - Ti;\n",
    "    \n",
    "    Nj = initDataDF.iloc[j]['S']\n",
    "    Sij = getSij(i,j,distanceMatrix, initDataDF)\n",
    "    Tij = Ti * ((Ni * Nj) /((Ni + Sij)*(Ni + Nj + Sij)))\n",
    "    return Tij\n",
    "    \n",
    "    "
   ]
  },
  {
   "cell_type": "code",
   "execution_count": 8,
   "metadata": {},
   "outputs": [
    {
     "name": "stdout",
     "output_type": "stream",
     "text": [
      "Thiruvananthapuram(C)\n",
      "Karakulam\n",
      "497.2141021296551\n"
     ]
    }
   ],
   "source": [
    "print(initDataDF.iloc[63]['name'])\n",
    "print(initDataDF.iloc[23]['name'])\n",
    "\n",
    "print(getTij(63,23,distanceMatrix, initDataDF))\n",
    "#print(getTij(26,23,distanceMatrix, initDataDF))\n"
   ]
  },
  {
   "cell_type": "code",
   "execution_count": 9,
   "metadata": {},
   "outputs": [],
   "source": [
    "data = []\n",
    "\n",
    "#resultsDF = pd.DataFrame(data)\n",
    "\n",
    "for i in range(0,r-1):\n",
    "    for j in range(0,r-1):\n",
    "        Tij = getTij(i,j,distanceMatrix, initDataDF)\n",
    "        #print(\"(\", i, \",\", j, \") \",  initDataDF.iloc[i]['name'], \" \", initDataDF.iloc[j]['name'], \" \" ,Tij)\n",
    "        data.append({'iName': initDataDF.iloc[i]['name'], 'jName': initDataDF.iloc[j]['name'], 'Tij': Tij});\n",
    "        \n",
    "resultsDF = pd.DataFrame(data);\n"
   ]
  },
  {
   "cell_type": "code",
   "execution_count": 11,
   "metadata": {},
   "outputs": [],
   "source": [
    "#resultsDF.info\n",
    "resultsDF.to_csv(\"../output/tmatrix_results.csv\")\n",
    "\n"
   ]
  },
  {
   "cell_type": "code",
   "execution_count": null,
   "metadata": {},
   "outputs": [],
   "source": [
    "resultsDF[resultsDF['iName']==\"Thiruvananthapuram(C)\"].head(30)"
   ]
  },
  {
   "cell_type": "code",
   "execution_count": null,
   "metadata": {},
   "outputs": [],
   "source": [
    "resultsDF.loc[4811]"
   ]
  },
  {
   "cell_type": "code",
   "execution_count": null,
   "metadata": {},
   "outputs": [],
   "source": []
  }
 ],
 "metadata": {
  "kernelspec": {
   "display_name": "Python 3",
   "language": "python",
   "name": "python3"
  },
  "language_info": {
   "codemirror_mode": {
    "name": "ipython",
    "version": 3
   },
   "file_extension": ".py",
   "mimetype": "text/x-python",
   "name": "python",
   "nbconvert_exporter": "python",
   "pygments_lexer": "ipython3",
   "version": "3.7.5"
  }
 },
 "nbformat": 4,
 "nbformat_minor": 2
}
