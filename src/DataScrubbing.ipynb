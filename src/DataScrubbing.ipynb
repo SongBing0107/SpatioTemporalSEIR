{
 "cells": [
  {
   "cell_type": "code",
   "execution_count": 2,
   "metadata": {
    "ExecuteTime": {
     "end_time": "2020-04-24T15:30:05.178634Z",
     "start_time": "2020-04-24T15:30:02.560661Z"
    }
   },
   "outputs": [],
   "source": [
    "import numpy as np;\n",
    "import pandas as pd;\n"
   ]
  },
  {
   "cell_type": "markdown",
   "metadata": {},
   "source": [
    "## Initialize Parameters"
   ]
  },
  {
   "cell_type": "code",
   "execution_count": 3,
   "metadata": {
    "ExecuteTime": {
     "end_time": "2020-04-24T15:30:05.186071Z",
     "start_time": "2020-04-24T15:30:05.181009Z"
    }
   },
   "outputs": [],
   "source": [
    "## parameters and global variables\n",
    "\n",
    "district = \"all\"\n"
   ]
  },
  {
   "cell_type": "markdown",
   "metadata": {},
   "source": [
    "## Load and Initialize Data"
   ]
  },
  {
   "cell_type": "code",
   "execution_count": 12,
   "metadata": {
    "ExecuteTime": {
     "end_time": "2020-04-24T15:36:32.381763Z",
     "start_time": "2020-04-24T15:36:31.583377Z"
    },
    "scrolled": true
   },
   "outputs": [
    {
     "data": {
      "text/html": [
       "<div>\n",
       "<style scoped>\n",
       "    .dataframe tbody tr th:only-of-type {\n",
       "        vertical-align: middle;\n",
       "    }\n",
       "\n",
       "    .dataframe tbody tr th {\n",
       "        vertical-align: top;\n",
       "    }\n",
       "\n",
       "    .dataframe thead th {\n",
       "        text-align: right;\n",
       "    }\n",
       "</style>\n",
       "<table border=\"1\" class=\"dataframe\">\n",
       "  <thead>\n",
       "    <tr style=\"text-align: right;\">\n",
       "      <th></th>\n",
       "      <th>Unnamed: 0</th>\n",
       "      <th>fromName</th>\n",
       "      <th>toName</th>\n",
       "      <th>value</th>\n",
       "    </tr>\n",
       "  </thead>\n",
       "  <tbody>\n",
       "    <tr>\n",
       "      <th>0</th>\n",
       "      <td>0</td>\n",
       "      <td>Karumkulam__Thiruvananthapuram</td>\n",
       "      <td>Karumkulam__Thiruvananthapuram</td>\n",
       "      <td>0</td>\n",
       "    </tr>\n",
       "    <tr>\n",
       "      <th>1</th>\n",
       "      <td>1</td>\n",
       "      <td>Karumkulam__Thiruvananthapuram</td>\n",
       "      <td>Kanjiramkulam__Thiruvananthapuram</td>\n",
       "      <td>2415</td>\n",
       "    </tr>\n",
       "    <tr>\n",
       "      <th>2</th>\n",
       "      <td>2</td>\n",
       "      <td>Karumkulam__Thiruvananthapuram</td>\n",
       "      <td>Athiyannoor__Thiruvananthapuram</td>\n",
       "      <td>6056</td>\n",
       "    </tr>\n",
       "    <tr>\n",
       "      <th>3</th>\n",
       "      <td>3</td>\n",
       "      <td>Karumkulam__Thiruvananthapuram</td>\n",
       "      <td>Venganoor__Thiruvananthapuram</td>\n",
       "      <td>9291</td>\n",
       "    </tr>\n",
       "    <tr>\n",
       "      <th>4</th>\n",
       "      <td>4</td>\n",
       "      <td>Karumkulam__Thiruvananthapuram</td>\n",
       "      <td>Madavoor__Thiruvananthapuram</td>\n",
       "      <td>58664</td>\n",
       "    </tr>\n",
       "    <tr>\n",
       "      <th>...</th>\n",
       "      <td>...</td>\n",
       "      <td>...</td>\n",
       "      <td>...</td>\n",
       "      <td>...</td>\n",
       "    </tr>\n",
       "    <tr>\n",
       "      <th>1072254</th>\n",
       "      <td>1073290</td>\n",
       "      <td>Punnapra North__Alappuzha</td>\n",
       "      <td>Purappuzha__Idukki</td>\n",
       "      <td>56559</td>\n",
       "    </tr>\n",
       "    <tr>\n",
       "      <th>1072255</th>\n",
       "      <td>1073291</td>\n",
       "      <td>Punnapra North__Alappuzha</td>\n",
       "      <td>Thodupuzha(M)__Idukki</td>\n",
       "      <td>63681</td>\n",
       "    </tr>\n",
       "    <tr>\n",
       "      <th>1072256</th>\n",
       "      <td>1073292</td>\n",
       "      <td>Punnapra North__Alappuzha</td>\n",
       "      <td>Kuttichal__Thiruvananthapuram</td>\n",
       "      <td>132795</td>\n",
       "    </tr>\n",
       "    <tr>\n",
       "      <th>1072257</th>\n",
       "      <td>1073293</td>\n",
       "      <td>Punnapra North__Alappuzha</td>\n",
       "      <td>Akathethara__Palakkad</td>\n",
       "      <td>155690</td>\n",
       "    </tr>\n",
       "    <tr>\n",
       "      <th>1072259</th>\n",
       "      <td>1073295</td>\n",
       "      <td>Punnapra North__Alappuzha</td>\n",
       "      <td>Punnapra North__Alappuzha</td>\n",
       "      <td>0</td>\n",
       "    </tr>\n",
       "  </tbody>\n",
       "</table>\n",
       "<p>1069156 rows × 4 columns</p>\n",
       "</div>"
      ],
      "text/plain": [
       "         Unnamed: 0                        fromName  \\\n",
       "0                 0  Karumkulam__Thiruvananthapuram   \n",
       "1                 1  Karumkulam__Thiruvananthapuram   \n",
       "2                 2  Karumkulam__Thiruvananthapuram   \n",
       "3                 3  Karumkulam__Thiruvananthapuram   \n",
       "4                 4  Karumkulam__Thiruvananthapuram   \n",
       "...             ...                             ...   \n",
       "1072254     1073290       Punnapra North__Alappuzha   \n",
       "1072255     1073291       Punnapra North__Alappuzha   \n",
       "1072256     1073292       Punnapra North__Alappuzha   \n",
       "1072257     1073293       Punnapra North__Alappuzha   \n",
       "1072259     1073295       Punnapra North__Alappuzha   \n",
       "\n",
       "                                    toName   value  \n",
       "0           Karumkulam__Thiruvananthapuram       0  \n",
       "1        Kanjiramkulam__Thiruvananthapuram    2415  \n",
       "2          Athiyannoor__Thiruvananthapuram    6056  \n",
       "3            Venganoor__Thiruvananthapuram    9291  \n",
       "4             Madavoor__Thiruvananthapuram   58664  \n",
       "...                                    ...     ...  \n",
       "1072254                 Purappuzha__Idukki   56559  \n",
       "1072255              Thodupuzha(M)__Idukki   63681  \n",
       "1072256      Kuttichal__Thiruvananthapuram  132795  \n",
       "1072257              Akathethara__Palakkad  155690  \n",
       "1072259          Punnapra North__Alappuzha       0  \n",
       "\n",
       "[1069156 rows x 4 columns]"
      ]
     },
     "execution_count": 12,
     "metadata": {},
     "output_type": "execute_result"
    }
   ],
   "source": [
    "\n",
    "## Load distance data\n",
    "distanceData = pd.read_csv(\"../data/\" + district + \"_distance_matrix.csv\")\n",
    "\n",
    "\n",
    "distanceData = distanceData.drop(distanceData[distanceData['fromName']=='Naranammoozhi__Pathanamthitta'].index,axis=0)\n",
    "distanceData = distanceData.drop(distanceData[distanceData['toName']=='Naranammoozhi__Pathanamthitta'].index,axis=0)\n",
    "distanceData\n"
   ]
  },
  {
   "cell_type": "markdown",
   "metadata": {
    "ExecuteTime": {
     "end_time": "2020-04-24T05:14:36.245094Z",
     "start_time": "2020-04-24T05:14:36.240507Z"
    }
   },
   "source": [
    "## Save output"
   ]
  },
  {
   "cell_type": "code",
   "execution_count": 14,
   "metadata": {
    "ExecuteTime": {
     "end_time": "2020-04-24T15:37:21.979742Z",
     "start_time": "2020-04-24T15:37:17.656709Z"
    }
   },
   "outputs": [],
   "source": [
    "distanceData.to_csv(\"../data/\" + district + \"_distance_matrix.csv\")\n"
   ]
  },
  {
   "cell_type": "code",
   "execution_count": null,
   "metadata": {},
   "outputs": [],
   "source": []
  }
 ],
 "metadata": {
  "kernelspec": {
   "display_name": "Python 3",
   "language": "python",
   "name": "python3"
  },
  "language_info": {
   "codemirror_mode": {
    "name": "ipython",
    "version": 3
   },
   "file_extension": ".py",
   "mimetype": "text/x-python",
   "name": "python",
   "nbconvert_exporter": "python",
   "pygments_lexer": "ipython3",
   "version": "3.7.5"
  }
 },
 "nbformat": 4,
 "nbformat_minor": 2
}
