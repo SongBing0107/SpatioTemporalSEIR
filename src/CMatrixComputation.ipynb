{
 "cells": [
  {
   "cell_type": "code",
   "execution_count": 1,
   "metadata": {
    "ExecuteTime": {
     "end_time": "2020-04-20T22:03:31.477784Z",
     "start_time": "2020-04-20T22:03:30.489298Z"
    }
   },
   "outputs": [],
   "source": [
    "import numpy as np;\n",
    "import pandas as pd;"
   ]
  },
  {
   "cell_type": "markdown",
   "metadata": {},
   "source": [
    "## Initialize Parameters"
   ]
  },
  {
   "cell_type": "code",
   "execution_count": 2,
   "metadata": {
    "ExecuteTime": {
     "end_time": "2020-04-20T22:03:31.484260Z",
     "start_time": "2020-04-20T22:03:31.479302Z"
    }
   },
   "outputs": [],
   "source": [
    "## Parameters and Global variables\n",
    "district = \"ksg\"\n"
   ]
  },
  {
   "cell_type": "markdown",
   "metadata": {},
   "source": [
    "## Load and Initialize Data"
   ]
  },
  {
   "cell_type": "code",
   "execution_count": 3,
   "metadata": {
    "ExecuteTime": {
     "end_time": "2020-04-20T22:03:31.504843Z",
     "start_time": "2020-04-20T22:03:31.487453Z"
    }
   },
   "outputs": [],
   "source": [
    "## Population data\n",
    "initDataDF = pd.read_csv(\"../data/\" + district + \"_init_data.csv\")\n",
    "\n",
    "## Number of regions\n",
    "r = len(initDataDF.index)\n",
    "\n",
    "## T-Matrix\n",
    "tData = pd.read_csv(\"../output/\" + district + \"_tmatrix_results.csv\")\n",
    "\n",
    "## Sort distance data by name for easy matrix transformation\n",
    "initDataDF.sort_values(by=['name'], inplace=True)"
   ]
  },
  {
   "cell_type": "code",
   "execution_count": 4,
   "metadata": {
    "ExecuteTime": {
     "end_time": "2020-04-20T22:03:31.529947Z",
     "start_time": "2020-04-20T22:03:31.507114Z"
    }
   },
   "outputs": [
    {
     "data": {
      "text/html": [
       "<div>\n",
       "<style scoped>\n",
       "    .dataframe tbody tr th:only-of-type {\n",
       "        vertical-align: middle;\n",
       "    }\n",
       "\n",
       "    .dataframe tbody tr th {\n",
       "        vertical-align: top;\n",
       "    }\n",
       "\n",
       "    .dataframe thead th {\n",
       "        text-align: right;\n",
       "    }\n",
       "</style>\n",
       "<table border=\"1\" class=\"dataframe\">\n",
       "  <thead>\n",
       "    <tr style=\"text-align: right;\">\n",
       "      <th></th>\n",
       "      <th>Unnamed: 0</th>\n",
       "      <th>iName</th>\n",
       "      <th>jName</th>\n",
       "      <th>Tij</th>\n",
       "    </tr>\n",
       "  </thead>\n",
       "  <tbody>\n",
       "    <tr>\n",
       "      <th>0</th>\n",
       "      <td>0</td>\n",
       "      <td>Ajanur__Kasaragod</td>\n",
       "      <td>Ajanur__Kasaragod</td>\n",
       "      <td>48661.470000</td>\n",
       "    </tr>\n",
       "    <tr>\n",
       "      <th>1</th>\n",
       "      <td>1</td>\n",
       "      <td>Ajanur__Kasaragod</td>\n",
       "      <td>Badiyaduka__Kasaragod</td>\n",
       "      <td>1.071977</td>\n",
       "    </tr>\n",
       "    <tr>\n",
       "      <th>2</th>\n",
       "      <td>2</td>\n",
       "      <td>Ajanur__Kasaragod</td>\n",
       "      <td>Balal__Kasaragod</td>\n",
       "      <td>0.639348</td>\n",
       "    </tr>\n",
       "    <tr>\n",
       "      <th>3</th>\n",
       "      <td>3</td>\n",
       "      <td>Ajanur__Kasaragod</td>\n",
       "      <td>Bedadka__Kasaragod</td>\n",
       "      <td>5.770197</td>\n",
       "    </tr>\n",
       "    <tr>\n",
       "      <th>4</th>\n",
       "      <td>4</td>\n",
       "      <td>Ajanur__Kasaragod</td>\n",
       "      <td>Beloor__Kasaragod</td>\n",
       "      <td>0.254734</td>\n",
       "    </tr>\n",
       "  </tbody>\n",
       "</table>\n",
       "</div>"
      ],
      "text/plain": [
       "   Unnamed: 0              iName                  jName           Tij\n",
       "0           0  Ajanur__Kasaragod      Ajanur__Kasaragod  48661.470000\n",
       "1           1  Ajanur__Kasaragod  Badiyaduka__Kasaragod      1.071977\n",
       "2           2  Ajanur__Kasaragod       Balal__Kasaragod      0.639348\n",
       "3           3  Ajanur__Kasaragod     Bedadka__Kasaragod      5.770197\n",
       "4           4  Ajanur__Kasaragod      Beloor__Kasaragod      0.254734"
      ]
     },
     "execution_count": 4,
     "metadata": {},
     "output_type": "execute_result"
    }
   ],
   "source": [
    "tData.head(5)\n",
    "# TODO fix the unnamed colum"
   ]
  },
  {
   "cell_type": "markdown",
   "metadata": {},
   "source": [
    "## Prepare T-Matrix"
   ]
  },
  {
   "cell_type": "code",
   "execution_count": 5,
   "metadata": {
    "ExecuteTime": {
     "end_time": "2020-04-20T22:03:31.539006Z",
     "start_time": "2020-04-20T22:03:31.532556Z"
    }
   },
   "outputs": [],
   "source": [
    "\n",
    "tMatrix = tData['Tij'].to_numpy().reshape(r,r)\n"
   ]
  },
  {
   "cell_type": "markdown",
   "metadata": {},
   "source": [
    "## Function Definition"
   ]
  },
  {
   "cell_type": "code",
   "execution_count": 6,
   "metadata": {
    "ExecuteTime": {
     "end_time": "2020-04-20T22:03:31.549756Z",
     "start_time": "2020-04-20T22:03:31.541808Z"
    }
   },
   "outputs": [],
   "source": [
    "def getCij(i, j, tMatrix, initDataDF):\n",
    "    Ni = initDataDF.iloc[i]['S']\n",
    "    cwSum = 0\n",
    "    for k in range(0,r-1):\n",
    "        Tik = tMatrix[i][k]\n",
    "        Tjk = tMatrix[j][k]\n",
    "        TlkSum = 0;\n",
    "\n",
    "        for l in range(0, r-1):\n",
    "            TlkSum = TlkSum + tMatrix[l][k]\n",
    "        \n",
    "        cwSum = cwSum + (Tik/Ni)*(Tjk/TlkSum)\n",
    "\n",
    "    return cwSum"
   ]
  },
  {
   "cell_type": "code",
   "execution_count": 7,
   "metadata": {
    "ExecuteTime": {
     "end_time": "2020-04-20T22:03:31.569914Z",
     "start_time": "2020-04-20T22:03:31.554745Z"
    }
   },
   "outputs": [
    {
     "data": {
      "text/plain": [
       "3.935769418313691e-05"
      ]
     },
     "execution_count": 7,
     "metadata": {},
     "output_type": "execute_result"
    }
   ],
   "source": [
    "getCij(0,1, tMatrix, initDataDF)"
   ]
  },
  {
   "cell_type": "markdown",
   "metadata": {},
   "source": [
    "## Compute C-Matrix"
   ]
  },
  {
   "cell_type": "code",
   "execution_count": 8,
   "metadata": {
    "ExecuteTime": {
     "end_time": "2020-04-20T22:03:35.994394Z",
     "start_time": "2020-04-20T22:03:31.574692Z"
    }
   },
   "outputs": [],
   "source": [
    "resultsDF = pd.DataFrame(columns=['iName', 'jName', 'Cij'], );\n",
    "for i in range(0,r):\n",
    "    for j in range(0,r):\n",
    "        Cij = getCij(i,j,tMatrix, initDataDF)\n",
    "        resultsDF = resultsDF.append({'iName': initDataDF.iloc[i]['name'], 'jName': initDataDF.iloc[j]['name'], 'Cij': Cij},ignore_index=True)\n",
    " "
   ]
  },
  {
   "cell_type": "markdown",
   "metadata": {},
   "source": [
    "## Save Output"
   ]
  },
  {
   "cell_type": "code",
   "execution_count": 9,
   "metadata": {
    "ExecuteTime": {
     "end_time": "2020-04-20T22:03:36.017913Z",
     "start_time": "2020-04-20T22:03:35.997381Z"
    }
   },
   "outputs": [],
   "source": [
    "resultsDF.to_csv(\"../output/\" + district + \"_cmatrix_results.csv\")"
   ]
  },
  {
   "cell_type": "code",
   "execution_count": 10,
   "metadata": {
    "ExecuteTime": {
     "end_time": "2020-04-20T22:03:36.035372Z",
     "start_time": "2020-04-20T22:03:36.019946Z"
    }
   },
   "outputs": [
    {
     "data": {
      "text/html": [
       "<div>\n",
       "<style scoped>\n",
       "    .dataframe tbody tr th:only-of-type {\n",
       "        vertical-align: middle;\n",
       "    }\n",
       "\n",
       "    .dataframe tbody tr th {\n",
       "        vertical-align: top;\n",
       "    }\n",
       "\n",
       "    .dataframe thead th {\n",
       "        text-align: right;\n",
       "    }\n",
       "</style>\n",
       "<table border=\"1\" class=\"dataframe\">\n",
       "  <thead>\n",
       "    <tr style=\"text-align: right;\">\n",
       "      <th></th>\n",
       "      <th>iName</th>\n",
       "      <th>jName</th>\n",
       "      <th>Cij</th>\n",
       "    </tr>\n",
       "  </thead>\n",
       "  <tbody>\n",
       "    <tr>\n",
       "      <th>0</th>\n",
       "      <td>Ajanur__Kasaragod</td>\n",
       "      <td>Ajanur__Kasaragod</td>\n",
       "      <td>0.981142</td>\n",
       "    </tr>\n",
       "    <tr>\n",
       "      <th>1</th>\n",
       "      <td>Ajanur__Kasaragod</td>\n",
       "      <td>Badiyaduka__Kasaragod</td>\n",
       "      <td>0.000039</td>\n",
       "    </tr>\n",
       "    <tr>\n",
       "      <th>2</th>\n",
       "      <td>Ajanur__Kasaragod</td>\n",
       "      <td>Balal__Kasaragod</td>\n",
       "      <td>0.000031</td>\n",
       "    </tr>\n",
       "    <tr>\n",
       "      <th>3</th>\n",
       "      <td>Ajanur__Kasaragod</td>\n",
       "      <td>Bedadka__Kasaragod</td>\n",
       "      <td>0.000173</td>\n",
       "    </tr>\n",
       "    <tr>\n",
       "      <th>4</th>\n",
       "      <td>Ajanur__Kasaragod</td>\n",
       "      <td>Beloor__Kasaragod</td>\n",
       "      <td>0.000007</td>\n",
       "    </tr>\n",
       "    <tr>\n",
       "      <th>5</th>\n",
       "      <td>Ajanur__Kasaragod</td>\n",
       "      <td>Chemmanad__Kasaragod</td>\n",
       "      <td>0.000331</td>\n",
       "    </tr>\n",
       "    <tr>\n",
       "      <th>6</th>\n",
       "      <td>Ajanur__Kasaragod</td>\n",
       "      <td>Chengala__Kasaragod</td>\n",
       "      <td>0.000155</td>\n",
       "    </tr>\n",
       "    <tr>\n",
       "      <th>7</th>\n",
       "      <td>Ajanur__Kasaragod</td>\n",
       "      <td>Cheruvathur__Kasaragod</td>\n",
       "      <td>0.000142</td>\n",
       "    </tr>\n",
       "    <tr>\n",
       "      <th>8</th>\n",
       "      <td>Ajanur__Kasaragod</td>\n",
       "      <td>Delampadi__Kasaragod</td>\n",
       "      <td>0.000021</td>\n",
       "    </tr>\n",
       "    <tr>\n",
       "      <th>9</th>\n",
       "      <td>Ajanur__Kasaragod</td>\n",
       "      <td>East Eleri__Kasaragod</td>\n",
       "      <td>0.000028</td>\n",
       "    </tr>\n",
       "  </tbody>\n",
       "</table>\n",
       "</div>"
      ],
      "text/plain": [
       "               iName                   jName       Cij\n",
       "0  Ajanur__Kasaragod       Ajanur__Kasaragod  0.981142\n",
       "1  Ajanur__Kasaragod   Badiyaduka__Kasaragod  0.000039\n",
       "2  Ajanur__Kasaragod        Balal__Kasaragod  0.000031\n",
       "3  Ajanur__Kasaragod      Bedadka__Kasaragod  0.000173\n",
       "4  Ajanur__Kasaragod       Beloor__Kasaragod  0.000007\n",
       "5  Ajanur__Kasaragod    Chemmanad__Kasaragod  0.000331\n",
       "6  Ajanur__Kasaragod     Chengala__Kasaragod  0.000155\n",
       "7  Ajanur__Kasaragod  Cheruvathur__Kasaragod  0.000142\n",
       "8  Ajanur__Kasaragod    Delampadi__Kasaragod  0.000021\n",
       "9  Ajanur__Kasaragod   East Eleri__Kasaragod  0.000028"
      ]
     },
     "execution_count": 10,
     "metadata": {},
     "output_type": "execute_result"
    }
   ],
   "source": [
    "resultsDF.head(10)"
   ]
  }
 ],
 "metadata": {
  "kernelspec": {
   "display_name": "Python 3",
   "language": "python",
   "name": "python3"
  },
  "language_info": {
   "codemirror_mode": {
    "name": "ipython",
    "version": 3
   },
   "file_extension": ".py",
   "mimetype": "text/x-python",
   "name": "python",
   "nbconvert_exporter": "python",
   "pygments_lexer": "ipython3",
   "version": "3.7.5"
  }
 },
 "nbformat": 4,
 "nbformat_minor": 2
}
