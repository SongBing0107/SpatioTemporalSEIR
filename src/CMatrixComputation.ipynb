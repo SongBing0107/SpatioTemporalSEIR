{
 "cells": [
  {
   "cell_type": "code",
   "execution_count": 12,
   "metadata": {},
   "outputs": [],
   "source": [
    "import numpy as np;\n",
    "import pandas as pd;"
   ]
  },
  {
   "cell_type": "code",
   "execution_count": 13,
   "metadata": {},
   "outputs": [],
   "source": [
    "## Parameters and Global variables\n",
    "\n",
    "ROOT_DIR = \"/Users/sreeramh/Documents/Kerala_Covid/SpatioTemporal/gitsrc/SpatioTemporalSEIR\""
   ]
  },
  {
   "cell_type": "code",
   "execution_count": 14,
   "metadata": {},
   "outputs": [],
   "source": [
    "initDataDF = pd.read_csv(ROOT_DIR + \"/data/tvm_init_data.csv\")\n",
    "r = len(initDataDF.index)\n",
    "\n",
    "tData = pd.read_csv(ROOT_DIR + \"/output/tmatrix_results.csv\")"
   ]
  },
  {
   "cell_type": "code",
   "execution_count": 15,
   "metadata": {},
   "outputs": [
    {
     "data": {
      "text/html": [
       "<div>\n",
       "<style scoped>\n",
       "    .dataframe tbody tr th:only-of-type {\n",
       "        vertical-align: middle;\n",
       "    }\n",
       "\n",
       "    .dataframe tbody tr th {\n",
       "        vertical-align: top;\n",
       "    }\n",
       "\n",
       "    .dataframe thead th {\n",
       "        text-align: right;\n",
       "    }\n",
       "</style>\n",
       "<table border=\"1\" class=\"dataframe\">\n",
       "  <thead>\n",
       "    <tr style=\"text-align: right;\">\n",
       "      <th></th>\n",
       "      <th>Unnamed: 0</th>\n",
       "      <th>iName</th>\n",
       "      <th>jName</th>\n",
       "      <th>Tij</th>\n",
       "    </tr>\n",
       "  </thead>\n",
       "  <tbody>\n",
       "    <tr>\n",
       "      <th>0</th>\n",
       "      <td>0</td>\n",
       "      <td>Amboori</td>\n",
       "      <td>Amboori</td>\n",
       "      <td>15760.800000</td>\n",
       "    </tr>\n",
       "    <tr>\n",
       "      <th>1</th>\n",
       "      <td>1</td>\n",
       "      <td>Amboori</td>\n",
       "      <td>Anad</td>\n",
       "      <td>0.056256</td>\n",
       "    </tr>\n",
       "    <tr>\n",
       "      <th>2</th>\n",
       "      <td>2</td>\n",
       "      <td>Amboori</td>\n",
       "      <td>Anchuthengu</td>\n",
       "      <td>0.004837</td>\n",
       "    </tr>\n",
       "    <tr>\n",
       "      <th>3</th>\n",
       "      <td>3</td>\n",
       "      <td>Amboori</td>\n",
       "      <td>Andoorkonam</td>\n",
       "      <td>0.012198</td>\n",
       "    </tr>\n",
       "    <tr>\n",
       "      <th>4</th>\n",
       "      <td>4</td>\n",
       "      <td>Amboori</td>\n",
       "      <td>Aruvikkara</td>\n",
       "      <td>0.127005</td>\n",
       "    </tr>\n",
       "  </tbody>\n",
       "</table>\n",
       "</div>"
      ],
      "text/plain": [
       "   Unnamed: 0    iName        jName           Tij\n",
       "0           0  Amboori      Amboori  15760.800000\n",
       "1           1  Amboori         Anad      0.056256\n",
       "2           2  Amboori  Anchuthengu      0.004837\n",
       "3           3  Amboori  Andoorkonam      0.012198\n",
       "4           4  Amboori   Aruvikkara      0.127005"
      ]
     },
     "execution_count": 15,
     "metadata": {},
     "output_type": "execute_result"
    }
   ],
   "source": [
    "tData.head(5)\n",
    "# TODO fix the unnamed colum"
   ]
  },
  {
   "cell_type": "code",
   "execution_count": 16,
   "metadata": {},
   "outputs": [
    {
     "data": {
      "text/plain": [
       "array([1.57608000e+04, 5.62561420e-02, 4.83713128e-03, 1.21984106e-02,\n",
       "       1.27005094e-01, 6.97968498e-01, 6.17829769e+00, 1.28915440e-01,\n",
       "       1.19214671e-02, 9.30593741e-03, 2.15887447e-01, 8.24165420e-03,\n",
       "       2.62971034e-01, 4.85837964e-03, 9.13001010e-03, 6.16060809e-03,\n",
       "       6.09299394e-03, 6.70230211e-03, 1.75797731e-02, 1.09546181e-02,\n",
       "       7.32072609e+01, 1.19690029e-01, 4.53517128e-02, 8.68635189e-02,\n",
       "       9.03838773e-03, 1.01920889e-01, 5.28428745e-02, 2.21564893e+00,\n",
       "       6.15455776e-03, 1.07433847e-02, 5.65809442e-01, 9.03861263e-02,\n",
       "       8.25794910e-02, 5.81789980e+00, 5.72970478e-03, 4.92133892e-01,\n",
       "       6.61078613e-03, 1.35384848e-02, 1.68994295e-02, 1.21255004e+00,\n",
       "       1.29940628e-02, 8.25437541e-03, 1.35608691e-02, 1.07111910e-02,\n",
       "       1.21488462e-01, 1.05311260e-02, 1.23240299e+00, 3.34834885e+01,\n",
       "       4.42339842e-03, 2.39420665e-01, 4.22668895e-03, 1.00337168e-02,\n",
       "       1.25899868e-02, 5.04367952e-01, 8.20376350e-03, 1.29192255e-02,\n",
       "       9.66068002e-01, 3.70805892e+00, 4.55720346e-02, 1.21728798e-02,\n",
       "       1.12156230e-02, 9.97442208e-03, 6.74586106e-02, 8.69908354e-01,\n",
       "       8.56764918e-02, 1.40362302e-01, 4.64926463e-03, 8.16888357e-03,\n",
       "       9.83951293e-03, 3.55695957e-01, 2.38624996e+01, 1.85635810e-02,\n",
       "       7.92423493e-02, 4.82911933e-03, 2.95738887e-01, 1.40273977e-01])"
      ]
     },
     "execution_count": 16,
     "metadata": {},
     "output_type": "execute_result"
    }
   ],
   "source": [
    "tMatrix = tData['Tij'].to_numpy().reshape(r-1,r-1)\n",
    "tMatrix[0]"
   ]
  },
  {
   "cell_type": "code",
   "execution_count": 17,
   "metadata": {},
   "outputs": [
    {
     "data": {
      "text/html": [
       "<div>\n",
       "<style scoped>\n",
       "    .dataframe tbody tr th:only-of-type {\n",
       "        vertical-align: middle;\n",
       "    }\n",
       "\n",
       "    .dataframe tbody tr th {\n",
       "        vertical-align: top;\n",
       "    }\n",
       "\n",
       "    .dataframe thead th {\n",
       "        text-align: right;\n",
       "    }\n",
       "</style>\n",
       "<table border=\"1\" class=\"dataframe\">\n",
       "  <thead>\n",
       "    <tr style=\"text-align: right;\">\n",
       "      <th></th>\n",
       "      <th>name</th>\n",
       "      <th>S</th>\n",
       "      <th>E</th>\n",
       "      <th>I</th>\n",
       "      <th>H</th>\n",
       "      <th>R</th>\n",
       "    </tr>\n",
       "  </thead>\n",
       "  <tbody>\n",
       "    <tr>\n",
       "      <th>0</th>\n",
       "      <td>Amboori</td>\n",
       "      <td>15920</td>\n",
       "      <td>0</td>\n",
       "      <td>20</td>\n",
       "      <td>0</td>\n",
       "      <td>0</td>\n",
       "    </tr>\n",
       "    <tr>\n",
       "      <th>1</th>\n",
       "      <td>Anad</td>\n",
       "      <td>31687</td>\n",
       "      <td>0</td>\n",
       "      <td>0</td>\n",
       "      <td>0</td>\n",
       "      <td>0</td>\n",
       "    </tr>\n",
       "    <tr>\n",
       "      <th>2</th>\n",
       "      <td>Anchuthengu</td>\n",
       "      <td>17396</td>\n",
       "      <td>0</td>\n",
       "      <td>0</td>\n",
       "      <td>0</td>\n",
       "      <td>0</td>\n",
       "    </tr>\n",
       "    <tr>\n",
       "      <th>3</th>\n",
       "      <td>Andoorkonam</td>\n",
       "      <td>30781</td>\n",
       "      <td>0</td>\n",
       "      <td>0</td>\n",
       "      <td>0</td>\n",
       "      <td>0</td>\n",
       "    </tr>\n",
       "    <tr>\n",
       "      <th>4</th>\n",
       "      <td>Aruvikkara</td>\n",
       "      <td>33396</td>\n",
       "      <td>0</td>\n",
       "      <td>0</td>\n",
       "      <td>0</td>\n",
       "      <td>0</td>\n",
       "    </tr>\n",
       "  </tbody>\n",
       "</table>\n",
       "</div>"
      ],
      "text/plain": [
       "          name      S  E   I  H  R\n",
       "0      Amboori  15920  0  20  0  0\n",
       "1         Anad  31687  0   0  0  0\n",
       "2  Anchuthengu  17396  0   0  0  0\n",
       "3  Andoorkonam  30781  0   0  0  0\n",
       "4   Aruvikkara  33396  0   0  0  0"
      ]
     },
     "execution_count": 17,
     "metadata": {},
     "output_type": "execute_result"
    }
   ],
   "source": [
    "initDataDF.head(5)"
   ]
  },
  {
   "cell_type": "code",
   "execution_count": 18,
   "metadata": {},
   "outputs": [],
   "source": [
    "def getCij(i, j, tMatrix, initDataDF):\n",
    "    Ni = initDataDF.iloc[i]['S']\n",
    "    cwSum = 0\n",
    "    #print(\"Ni = \", Ni)\n",
    "    for k in range(0,r-1):\n",
    "        Tik = tMatrix[i][k]\n",
    "        #print(\"Tik = \", Tik)\n",
    "\n",
    "        Tjk = tMatrix[j][k]\n",
    "        #print(\"Tjk = \", Tjk)\n",
    "\n",
    "        TlkSum = 0;\n",
    "        for l in range(0, r-1):\n",
    "            TlkSum = TlkSum + tMatrix[l][k]\n",
    "        \n",
    "        \n",
    "        #print(\"TlkSum = \", TlkSum)\n",
    "        cwSum = cwSum + (Tik/Ni)*(Tjk/TlkSum)\n",
    "    return cwSum"
   ]
  },
  {
   "cell_type": "code",
   "execution_count": 19,
   "metadata": {},
   "outputs": [
    {
     "data": {
      "text/plain": [
       "5.234899561728604e-06"
      ]
     },
     "execution_count": 19,
     "metadata": {},
     "output_type": "execute_result"
    }
   ],
   "source": [
    "getCij(0,1, tMatrix, initDataDF)"
   ]
  },
  {
   "cell_type": "code",
   "execution_count": 20,
   "metadata": {},
   "outputs": [],
   "source": [
    "resultsDF = pd.DataFrame(columns=['iName', 'jName', 'Cij'], );\n",
    "for i in range(0,r-1):\n",
    "    for j in range(0,r-1):\n",
    "        Cij = getCij(i,j,tMatrix, initDataDF)\n",
    "        resultsDF = resultsDF.append({'iName': initDataDF.iloc[i]['name'], 'jName': initDataDF.iloc[j]['name'], 'Cij': Cij},ignore_index=True)\n",
    " "
   ]
  },
  {
   "cell_type": "code",
   "execution_count": 21,
   "metadata": {},
   "outputs": [],
   "source": [
    "resultsDF.to_csv(ROOT_DIR + \"/output/cmatrix_results.csv\")"
   ]
  },
  {
   "cell_type": "code",
   "execution_count": 22,
   "metadata": {},
   "outputs": [
    {
     "data": {
      "text/html": [
       "<div>\n",
       "<style scoped>\n",
       "    .dataframe tbody tr th:only-of-type {\n",
       "        vertical-align: middle;\n",
       "    }\n",
       "\n",
       "    .dataframe tbody tr th {\n",
       "        vertical-align: top;\n",
       "    }\n",
       "\n",
       "    .dataframe thead th {\n",
       "        text-align: right;\n",
       "    }\n",
       "</style>\n",
       "<table border=\"1\" class=\"dataframe\">\n",
       "  <thead>\n",
       "    <tr style=\"text-align: right;\">\n",
       "      <th></th>\n",
       "      <th>iName</th>\n",
       "      <th>jName</th>\n",
       "      <th>Cij</th>\n",
       "    </tr>\n",
       "  </thead>\n",
       "  <tbody>\n",
       "    <tr>\n",
       "      <th>0</th>\n",
       "      <td>Amboori</td>\n",
       "      <td>Amboori</td>\n",
       "      <td>9.806858e-01</td>\n",
       "    </tr>\n",
       "    <tr>\n",
       "      <th>1</th>\n",
       "      <td>Amboori</td>\n",
       "      <td>Anad</td>\n",
       "      <td>5.234900e-06</td>\n",
       "    </tr>\n",
       "    <tr>\n",
       "      <th>2</th>\n",
       "      <td>Amboori</td>\n",
       "      <td>Anchuthengu</td>\n",
       "      <td>6.438738e-07</td>\n",
       "    </tr>\n",
       "    <tr>\n",
       "      <th>3</th>\n",
       "      <td>Amboori</td>\n",
       "      <td>Andoorkonam</td>\n",
       "      <td>1.806746e-06</td>\n",
       "    </tr>\n",
       "    <tr>\n",
       "      <th>4</th>\n",
       "      <td>Amboori</td>\n",
       "      <td>Aruvikkara</td>\n",
       "      <td>1.064362e-05</td>\n",
       "    </tr>\n",
       "    <tr>\n",
       "      <th>5</th>\n",
       "      <td>Amboori</td>\n",
       "      <td>Aryanad</td>\n",
       "      <td>8.390307e-05</td>\n",
       "    </tr>\n",
       "    <tr>\n",
       "      <th>6</th>\n",
       "      <td>Amboori</td>\n",
       "      <td>Aryancodu</td>\n",
       "      <td>5.063011e-04</td>\n",
       "    </tr>\n",
       "    <tr>\n",
       "      <th>7</th>\n",
       "      <td>Amboori</td>\n",
       "      <td>Athiyannoor</td>\n",
       "      <td>1.009281e-05</td>\n",
       "    </tr>\n",
       "    <tr>\n",
       "      <th>8</th>\n",
       "      <td>Amboori</td>\n",
       "      <td>Attingal(M)</td>\n",
       "      <td>2.374065e-06</td>\n",
       "    </tr>\n",
       "    <tr>\n",
       "      <th>9</th>\n",
       "      <td>Amboori</td>\n",
       "      <td>Azhoor</td>\n",
       "      <td>1.425011e-06</td>\n",
       "    </tr>\n",
       "  </tbody>\n",
       "</table>\n",
       "</div>"
      ],
      "text/plain": [
       "     iName        jName           Cij\n",
       "0  Amboori      Amboori  9.806858e-01\n",
       "1  Amboori         Anad  5.234900e-06\n",
       "2  Amboori  Anchuthengu  6.438738e-07\n",
       "3  Amboori  Andoorkonam  1.806746e-06\n",
       "4  Amboori   Aruvikkara  1.064362e-05\n",
       "5  Amboori      Aryanad  8.390307e-05\n",
       "6  Amboori    Aryancodu  5.063011e-04\n",
       "7  Amboori  Athiyannoor  1.009281e-05\n",
       "8  Amboori  Attingal(M)  2.374065e-06\n",
       "9  Amboori       Azhoor  1.425011e-06"
      ]
     },
     "execution_count": 22,
     "metadata": {},
     "output_type": "execute_result"
    }
   ],
   "source": [
    "resultsDF.head(10)"
   ]
  },
  {
   "cell_type": "code",
   "execution_count": null,
   "metadata": {},
   "outputs": [],
   "source": []
  }
 ],
 "metadata": {
  "kernelspec": {
   "display_name": "Python 3",
   "language": "python",
   "name": "python3"
  },
  "language_info": {
   "codemirror_mode": {
    "name": "ipython",
    "version": 3
   },
   "file_extension": ".py",
   "mimetype": "text/x-python",
   "name": "python",
   "nbconvert_exporter": "python",
   "pygments_lexer": "ipython3",
   "version": "3.7.5"
  }
 },
 "nbformat": 4,
 "nbformat_minor": 2
}
