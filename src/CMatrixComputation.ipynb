{
 "cells": [
  {
   "cell_type": "code",
   "execution_count": 1,
   "metadata": {},
   "outputs": [],
   "source": [
    "import numpy as np;\n",
    "import pandas as pd;"
   ]
  },
  {
   "cell_type": "code",
   "execution_count": 2,
   "metadata": {},
   "outputs": [],
   "source": [
    "## Parameters and Global variables\n",
    "district = \"ksg\"\n"
   ]
  },
  {
   "cell_type": "code",
   "execution_count": 3,
   "metadata": {},
   "outputs": [],
   "source": [
    "initDataDF = pd.read_csv(\"../data/\" + district + \"_init_data.csv\")\n",
    "r = len(initDataDF.index)\n",
    "\n",
    "tData = pd.read_csv(\"../output/\" + district + \"_tmatrix_results.csv\")"
   ]
  },
  {
   "cell_type": "code",
   "execution_count": 4,
   "metadata": {},
   "outputs": [
    {
     "data": {
      "text/html": [
       "<div>\n",
       "<style scoped>\n",
       "    .dataframe tbody tr th:only-of-type {\n",
       "        vertical-align: middle;\n",
       "    }\n",
       "\n",
       "    .dataframe tbody tr th {\n",
       "        vertical-align: top;\n",
       "    }\n",
       "\n",
       "    .dataframe thead th {\n",
       "        text-align: right;\n",
       "    }\n",
       "</style>\n",
       "<table border=\"1\" class=\"dataframe\">\n",
       "  <thead>\n",
       "    <tr style=\"text-align: right;\">\n",
       "      <th></th>\n",
       "      <th>Unnamed: 0</th>\n",
       "      <th>iName</th>\n",
       "      <th>jName</th>\n",
       "      <th>Tij</th>\n",
       "    </tr>\n",
       "  </thead>\n",
       "  <tbody>\n",
       "    <tr>\n",
       "      <th>0</th>\n",
       "      <td>0</td>\n",
       "      <td>Ajanur__Kasaragod</td>\n",
       "      <td>Ajanur__Kasaragod</td>\n",
       "      <td>48661.470000</td>\n",
       "    </tr>\n",
       "    <tr>\n",
       "      <th>1</th>\n",
       "      <td>1</td>\n",
       "      <td>Ajanur__Kasaragod</td>\n",
       "      <td>Badiyaduka__Kasaragod</td>\n",
       "      <td>1.071977</td>\n",
       "    </tr>\n",
       "    <tr>\n",
       "      <th>2</th>\n",
       "      <td>2</td>\n",
       "      <td>Ajanur__Kasaragod</td>\n",
       "      <td>Balal__Kasaragod</td>\n",
       "      <td>0.639348</td>\n",
       "    </tr>\n",
       "    <tr>\n",
       "      <th>3</th>\n",
       "      <td>3</td>\n",
       "      <td>Ajanur__Kasaragod</td>\n",
       "      <td>Bedadka__Kasaragod</td>\n",
       "      <td>5.770197</td>\n",
       "    </tr>\n",
       "    <tr>\n",
       "      <th>4</th>\n",
       "      <td>4</td>\n",
       "      <td>Ajanur__Kasaragod</td>\n",
       "      <td>Beloor__Kasaragod</td>\n",
       "      <td>0.254734</td>\n",
       "    </tr>\n",
       "  </tbody>\n",
       "</table>\n",
       "</div>"
      ],
      "text/plain": [
       "   Unnamed: 0              iName                  jName           Tij\n",
       "0           0  Ajanur__Kasaragod      Ajanur__Kasaragod  48661.470000\n",
       "1           1  Ajanur__Kasaragod  Badiyaduka__Kasaragod      1.071977\n",
       "2           2  Ajanur__Kasaragod       Balal__Kasaragod      0.639348\n",
       "3           3  Ajanur__Kasaragod     Bedadka__Kasaragod      5.770197\n",
       "4           4  Ajanur__Kasaragod      Beloor__Kasaragod      0.254734"
      ]
     },
     "execution_count": 4,
     "metadata": {},
     "output_type": "execute_result"
    }
   ],
   "source": [
    "tData.head(5)\n",
    "# TODO fix the unnamed colum"
   ]
  },
  {
   "cell_type": "code",
   "execution_count": 5,
   "metadata": {},
   "outputs": [
    {
     "data": {
      "text/plain": [
       "array([4.86614700e+04, 1.07197713e+00, 6.39348124e-01, 5.77019740e+00,\n",
       "       2.54733867e-01, 9.05458968e+00, 3.86128843e+00, 3.68608533e+00,\n",
       "       5.85981446e-01, 5.05592003e-01, 5.16105922e-01, 1.07718005e+00,\n",
       "       7.43033246e+01, 8.13791243e-01, 4.89566261e+00, 1.83314103e+00,\n",
       "       2.93304808e+00, 1.09193979e+01, 5.25165449e-01, 1.05186433e+00,\n",
       "       1.08311980e+00, 1.97484335e+00, 1.25388712e+01, 8.72704786e-01,\n",
       "       6.31085288e-01, 3.73352484e-01, 1.01086708e+00, 2.98922422e+00,\n",
       "       1.01620914e+01, 1.15434047e+00, 5.75499686e-01, 1.08667564e+02,\n",
       "       4.84285936e-01, 1.49319270e+00, 1.84909350e+02, 5.25633533e-01,\n",
       "       1.11775146e+00, 1.63573058e+01, 4.70285873e-01, 3.71380727e-01])"
      ]
     },
     "execution_count": 5,
     "metadata": {},
     "output_type": "execute_result"
    }
   ],
   "source": [
    "tMatrix = tData['Tij'].to_numpy().reshape(r-1,r-1)\n",
    "tMatrix[0]"
   ]
  },
  {
   "cell_type": "code",
   "execution_count": 6,
   "metadata": {},
   "outputs": [
    {
     "data": {
      "text/html": [
       "<div>\n",
       "<style scoped>\n",
       "    .dataframe tbody tr th:only-of-type {\n",
       "        vertical-align: middle;\n",
       "    }\n",
       "\n",
       "    .dataframe tbody tr th {\n",
       "        vertical-align: top;\n",
       "    }\n",
       "\n",
       "    .dataframe thead th {\n",
       "        text-align: right;\n",
       "    }\n",
       "</style>\n",
       "<table border=\"1\" class=\"dataframe\">\n",
       "  <thead>\n",
       "    <tr style=\"text-align: right;\">\n",
       "      <th></th>\n",
       "      <th>name</th>\n",
       "      <th>S</th>\n",
       "      <th>E</th>\n",
       "      <th>I</th>\n",
       "      <th>H</th>\n",
       "      <th>R</th>\n",
       "    </tr>\n",
       "  </thead>\n",
       "  <tbody>\n",
       "    <tr>\n",
       "      <th>0</th>\n",
       "      <td>Ajanur__Kasaragod</td>\n",
       "      <td>49153</td>\n",
       "      <td>0</td>\n",
       "      <td>0</td>\n",
       "      <td>0</td>\n",
       "      <td>0</td>\n",
       "    </tr>\n",
       "    <tr>\n",
       "      <th>1</th>\n",
       "      <td>Badiyaduka__Kasaragod</td>\n",
       "      <td>34207</td>\n",
       "      <td>0</td>\n",
       "      <td>0</td>\n",
       "      <td>0</td>\n",
       "      <td>0</td>\n",
       "    </tr>\n",
       "    <tr>\n",
       "      <th>2</th>\n",
       "      <td>Balal__Kasaragod</td>\n",
       "      <td>23670</td>\n",
       "      <td>0</td>\n",
       "      <td>0</td>\n",
       "      <td>0</td>\n",
       "      <td>0</td>\n",
       "    </tr>\n",
       "    <tr>\n",
       "      <th>3</th>\n",
       "      <td>Bedadka__Kasaragod</td>\n",
       "      <td>27868</td>\n",
       "      <td>0</td>\n",
       "      <td>0</td>\n",
       "      <td>0</td>\n",
       "      <td>0</td>\n",
       "    </tr>\n",
       "    <tr>\n",
       "      <th>4</th>\n",
       "      <td>Beloor__Kasaragod</td>\n",
       "      <td>10241</td>\n",
       "      <td>0</td>\n",
       "      <td>0</td>\n",
       "      <td>0</td>\n",
       "      <td>0</td>\n",
       "    </tr>\n",
       "  </tbody>\n",
       "</table>\n",
       "</div>"
      ],
      "text/plain": [
       "                    name      S  E  I  H  R\n",
       "0      Ajanur__Kasaragod  49153  0  0  0  0\n",
       "1  Badiyaduka__Kasaragod  34207  0  0  0  0\n",
       "2       Balal__Kasaragod  23670  0  0  0  0\n",
       "3     Bedadka__Kasaragod  27868  0  0  0  0\n",
       "4      Beloor__Kasaragod  10241  0  0  0  0"
      ]
     },
     "execution_count": 6,
     "metadata": {},
     "output_type": "execute_result"
    }
   ],
   "source": [
    "initDataDF.head(5)"
   ]
  },
  {
   "cell_type": "code",
   "execution_count": 7,
   "metadata": {},
   "outputs": [],
   "source": [
    "def getCij(i, j, tMatrix, initDataDF):\n",
    "    Ni = initDataDF.iloc[i]['S']\n",
    "    cwSum = 0\n",
    "    #print(\"Ni = \", Ni)\n",
    "    for k in range(0,r-1):\n",
    "        Tik = tMatrix[i][k]\n",
    "        #print(\"Tik = \", Tik)\n",
    "\n",
    "        Tjk = tMatrix[j][k]\n",
    "        #print(\"Tjk = \", Tjk)\n",
    "\n",
    "        TlkSum = 0;\n",
    "        for l in range(0, r-1):\n",
    "            TlkSum = TlkSum + tMatrix[l][k]\n",
    "        \n",
    "        \n",
    "        #print(\"TlkSum = \", TlkSum)\n",
    "        cwSum = cwSum + (Tik/Ni)*(Tjk/TlkSum)\n",
    "    return cwSum"
   ]
  },
  {
   "cell_type": "code",
   "execution_count": 8,
   "metadata": {},
   "outputs": [
    {
     "data": {
      "text/plain": [
       "3.935769418313691e-05"
      ]
     },
     "execution_count": 8,
     "metadata": {},
     "output_type": "execute_result"
    }
   ],
   "source": [
    "getCij(0,1, tMatrix, initDataDF)"
   ]
  },
  {
   "cell_type": "code",
   "execution_count": 9,
   "metadata": {},
   "outputs": [],
   "source": [
    "resultsDF = pd.DataFrame(columns=['iName', 'jName', 'Cij'], );\n",
    "for i in range(0,r-1):\n",
    "    for j in range(0,r-1):\n",
    "        Cij = getCij(i,j,tMatrix, initDataDF)\n",
    "        resultsDF = resultsDF.append({'iName': initDataDF.iloc[i]['name'], 'jName': initDataDF.iloc[j]['name'], 'Cij': Cij},ignore_index=True)\n",
    " "
   ]
  },
  {
   "cell_type": "code",
   "execution_count": 10,
   "metadata": {},
   "outputs": [],
   "source": [
    "resultsDF.to_csv(\"../output/\" + district + \"_cmatrix_results.csv\")"
   ]
  },
  {
   "cell_type": "code",
   "execution_count": 11,
   "metadata": {},
   "outputs": [
    {
     "data": {
      "text/html": [
       "<div>\n",
       "<style scoped>\n",
       "    .dataframe tbody tr th:only-of-type {\n",
       "        vertical-align: middle;\n",
       "    }\n",
       "\n",
       "    .dataframe tbody tr th {\n",
       "        vertical-align: top;\n",
       "    }\n",
       "\n",
       "    .dataframe thead th {\n",
       "        text-align: right;\n",
       "    }\n",
       "</style>\n",
       "<table border=\"1\" class=\"dataframe\">\n",
       "  <thead>\n",
       "    <tr style=\"text-align: right;\">\n",
       "      <th></th>\n",
       "      <th>iName</th>\n",
       "      <th>jName</th>\n",
       "      <th>Cij</th>\n",
       "    </tr>\n",
       "  </thead>\n",
       "  <tbody>\n",
       "    <tr>\n",
       "      <th>0</th>\n",
       "      <td>Ajanur__Kasaragod</td>\n",
       "      <td>Ajanur__Kasaragod</td>\n",
       "      <td>0.981142</td>\n",
       "    </tr>\n",
       "    <tr>\n",
       "      <th>1</th>\n",
       "      <td>Ajanur__Kasaragod</td>\n",
       "      <td>Badiyaduka__Kasaragod</td>\n",
       "      <td>0.000039</td>\n",
       "    </tr>\n",
       "    <tr>\n",
       "      <th>2</th>\n",
       "      <td>Ajanur__Kasaragod</td>\n",
       "      <td>Balal__Kasaragod</td>\n",
       "      <td>0.000031</td>\n",
       "    </tr>\n",
       "    <tr>\n",
       "      <th>3</th>\n",
       "      <td>Ajanur__Kasaragod</td>\n",
       "      <td>Bedadka__Kasaragod</td>\n",
       "      <td>0.000173</td>\n",
       "    </tr>\n",
       "    <tr>\n",
       "      <th>4</th>\n",
       "      <td>Ajanur__Kasaragod</td>\n",
       "      <td>Beloor__Kasaragod</td>\n",
       "      <td>0.000007</td>\n",
       "    </tr>\n",
       "    <tr>\n",
       "      <th>5</th>\n",
       "      <td>Ajanur__Kasaragod</td>\n",
       "      <td>Chemmanad__Kasaragod</td>\n",
       "      <td>0.000331</td>\n",
       "    </tr>\n",
       "    <tr>\n",
       "      <th>6</th>\n",
       "      <td>Ajanur__Kasaragod</td>\n",
       "      <td>Chengala__Kasaragod</td>\n",
       "      <td>0.000155</td>\n",
       "    </tr>\n",
       "    <tr>\n",
       "      <th>7</th>\n",
       "      <td>Ajanur__Kasaragod</td>\n",
       "      <td>Cheruvathur__Kasaragod</td>\n",
       "      <td>0.000142</td>\n",
       "    </tr>\n",
       "    <tr>\n",
       "      <th>8</th>\n",
       "      <td>Ajanur__Kasaragod</td>\n",
       "      <td>Delampadi__Kasaragod</td>\n",
       "      <td>0.000021</td>\n",
       "    </tr>\n",
       "    <tr>\n",
       "      <th>9</th>\n",
       "      <td>Ajanur__Kasaragod</td>\n",
       "      <td>East Eleri__Kasaragod</td>\n",
       "      <td>0.000028</td>\n",
       "    </tr>\n",
       "  </tbody>\n",
       "</table>\n",
       "</div>"
      ],
      "text/plain": [
       "               iName                   jName       Cij\n",
       "0  Ajanur__Kasaragod       Ajanur__Kasaragod  0.981142\n",
       "1  Ajanur__Kasaragod   Badiyaduka__Kasaragod  0.000039\n",
       "2  Ajanur__Kasaragod        Balal__Kasaragod  0.000031\n",
       "3  Ajanur__Kasaragod      Bedadka__Kasaragod  0.000173\n",
       "4  Ajanur__Kasaragod       Beloor__Kasaragod  0.000007\n",
       "5  Ajanur__Kasaragod    Chemmanad__Kasaragod  0.000331\n",
       "6  Ajanur__Kasaragod     Chengala__Kasaragod  0.000155\n",
       "7  Ajanur__Kasaragod  Cheruvathur__Kasaragod  0.000142\n",
       "8  Ajanur__Kasaragod    Delampadi__Kasaragod  0.000021\n",
       "9  Ajanur__Kasaragod   East Eleri__Kasaragod  0.000028"
      ]
     },
     "execution_count": 11,
     "metadata": {},
     "output_type": "execute_result"
    }
   ],
   "source": [
    "resultsDF.head(10)"
   ]
  },
  {
   "cell_type": "code",
   "execution_count": null,
   "metadata": {},
   "outputs": [],
   "source": []
  }
 ],
 "metadata": {
  "kernelspec": {
   "display_name": "Python 3",
   "language": "python",
   "name": "python3"
  },
  "language_info": {
   "codemirror_mode": {
    "name": "ipython",
    "version": 3
   },
   "file_extension": ".py",
   "mimetype": "text/x-python",
   "name": "python",
   "nbconvert_exporter": "python",
   "pygments_lexer": "ipython3",
   "version": "3.7.5"
  }
 },
 "nbformat": 4,
 "nbformat_minor": 2
}
