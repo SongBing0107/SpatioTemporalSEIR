{
 "cells": [
  {
   "cell_type": "code",
   "execution_count": 13,
   "metadata": {
    "ExecuteTime": {
     "end_time": "2020-04-27T05:11:08.728718Z",
     "start_time": "2020-04-27T05:11:08.721624Z"
    }
   },
   "outputs": [],
   "source": [
    "import numpy as np;\n",
    "import pandas as pd;"
   ]
  },
  {
   "cell_type": "markdown",
   "metadata": {},
   "source": [
    "## Initialize Parameters"
   ]
  },
  {
   "cell_type": "code",
   "execution_count": 14,
   "metadata": {
    "ExecuteTime": {
     "end_time": "2020-04-27T05:11:10.671207Z",
     "start_time": "2020-04-27T05:11:10.667357Z"
    }
   },
   "outputs": [],
   "source": [
    "## Parameters and Global variables\n",
    "district = \"all\"\n"
   ]
  },
  {
   "cell_type": "markdown",
   "metadata": {},
   "source": [
    "## Load and Initialize Data"
   ]
  },
  {
   "cell_type": "code",
   "execution_count": 17,
   "metadata": {
    "ExecuteTime": {
     "end_time": "2020-04-27T05:11:25.225408Z",
     "start_time": "2020-04-27T05:11:23.882635Z"
    }
   },
   "outputs": [],
   "source": [
    "## Population data\n",
    "initDataDF = pd.read_csv(\"../data/\" + district + \"_population_data.csv\")\n",
    "\n",
    "## Number of regions\n",
    "r = len(initDataDF.index)\n",
    "\n",
    "## T-Matrix\n",
    "tData = pd.read_csv(\"../output/\" + district + \"_tmatrix_results.csv\")\n",
    "\n",
    "## Sort distance data by name for easy matrix transformation\n",
    "initDataDF.sort_values(by=['name'], inplace=True)"
   ]
  },
  {
   "cell_type": "markdown",
   "metadata": {},
   "source": [
    "## Prepare T-Matrix"
   ]
  },
  {
   "cell_type": "code",
   "execution_count": 20,
   "metadata": {
    "ExecuteTime": {
     "end_time": "2020-04-27T05:11:45.705765Z",
     "start_time": "2020-04-27T05:11:45.698186Z"
    }
   },
   "outputs": [
    {
     "data": {
      "text/plain": [
       "array([[6.67758000e+03, 2.04011093e-01, 1.27736878e-02, ...,\n",
       "        1.71234443e-01, 3.10471080e-02, 7.98403894e-03],\n",
       "       [1.56492852e-01, 2.90954300e+04, 7.45425270e-02, ...,\n",
       "        1.53582525e-01, 5.24077722e-02, 4.88958314e-02],\n",
       "       [9.12876427e-03, 6.94478945e-02, 3.06105800e+04, ...,\n",
       "        1.20962719e-02, 1.43087780e-02, 4.47323992e+00],\n",
       "       ...,\n",
       "       [2.26317524e-01, 2.64623336e-01, 2.23708716e-02, ...,\n",
       "        9.82944000e+03, 5.35862141e-02, 1.38566645e-02],\n",
       "       [5.32005756e-02, 1.17071223e-01, 3.43085238e-02, ...,\n",
       "        6.94738226e-02, 2.81433600e+04, 2.02946870e-02],\n",
       "       [6.30092172e-03, 5.03051619e-02, 4.93978373e+00, ...,\n",
       "        8.27395362e-03, 9.34692194e-03, 1.65401600e+04]])"
      ]
     },
     "execution_count": 20,
     "metadata": {},
     "output_type": "execute_result"
    }
   ],
   "source": [
    "\n",
    "tMatrix = tData['Tij'].to_numpy().reshape(r,r)\n",
    "tMatrix"
   ]
  },
  {
   "cell_type": "code",
   "execution_count": 21,
   "metadata": {
    "ExecuteTime": {
     "end_time": "2020-04-27T05:11:47.488362Z",
     "start_time": "2020-04-27T05:11:47.479467Z"
    }
   },
   "outputs": [
    {
     "data": {
      "text/plain": [
       "array([ 7116.24049744, 30962.63356938, 33086.67590358, ...,\n",
       "       10060.05741336, 29005.93542084, 17897.37937073])"
      ]
     },
     "execution_count": 21,
     "metadata": {},
     "output_type": "execute_result"
    }
   ],
   "source": [
    "tColSum = tMatrix.sum(axis=0)\n",
    "tColSum\n",
    "#tMatrix[0]/initDataDF['N']\n",
    "#tMatrix[1]/tColSum[0]\n",
    "#np.multiply(tMatrix[0]/Ni,tMatrix[1]/tColSum).sum()"
   ]
  },
  {
   "cell_type": "markdown",
   "metadata": {},
   "source": [
    "## Function Definition"
   ]
  },
  {
   "cell_type": "code",
   "execution_count": 22,
   "metadata": {
    "ExecuteTime": {
     "end_time": "2020-04-27T05:11:49.787148Z",
     "start_time": "2020-04-27T05:11:49.782032Z"
    }
   },
   "outputs": [],
   "source": [
    "def getCijv3(i, j, tMatrix, Ni):\n",
    "    cwSum = np.multiply(tMatrix[i]/Ni,tMatrix[j]/tColSum).sum()\n",
    "    return cwSum"
   ]
  },
  {
   "cell_type": "markdown",
   "metadata": {},
   "source": [
    "## Compute C-Matrix"
   ]
  },
  {
   "cell_type": "code",
   "execution_count": 23,
   "metadata": {
    "ExecuteTime": {
     "end_time": "2020-04-27T05:16:55.250032Z",
     "start_time": "2020-04-27T05:12:01.647052Z"
    }
   },
   "outputs": [],
   "source": [
    "data = []\n",
    "for i in range(0,r):\n",
    "    Ni = initDataDF.iloc[i]['N']\n",
    "    for j in range(0,r):\n",
    "        Cij = getCijv3(i,j,tMatrix, Ni)\n",
    "        data.append({'iName': initDataDF.iloc[i]['name'], 'jName': initDataDF.iloc[j]['name'], 'Cij': Cij})\n",
    "\n",
    "resultsDF = pd.DataFrame(data);\n"
   ]
  },
  {
   "cell_type": "markdown",
   "metadata": {},
   "source": [
    "## Save Output"
   ]
  },
  {
   "cell_type": "code",
   "execution_count": 24,
   "metadata": {
    "ExecuteTime": {
     "end_time": "2020-04-27T05:16:59.757957Z",
     "start_time": "2020-04-27T05:16:55.251392Z"
    }
   },
   "outputs": [],
   "source": [
    "resultsDF.to_csv(\"../output/\" + district + \"_cmatrix_results.csv\")"
   ]
  },
  {
   "cell_type": "code",
   "execution_count": 25,
   "metadata": {
    "ExecuteTime": {
     "end_time": "2020-04-27T05:16:59.773019Z",
     "start_time": "2020-04-27T05:16:59.760156Z"
    }
   },
   "outputs": [
    {
     "data": {
      "text/html": [
       "<div>\n",
       "<style scoped>\n",
       "    .dataframe tbody tr th:only-of-type {\n",
       "        vertical-align: middle;\n",
       "    }\n",
       "\n",
       "    .dataframe tbody tr th {\n",
       "        vertical-align: top;\n",
       "    }\n",
       "\n",
       "    .dataframe thead th {\n",
       "        text-align: right;\n",
       "    }\n",
       "</style>\n",
       "<table border=\"1\" class=\"dataframe\">\n",
       "  <thead>\n",
       "    <tr style=\"text-align: right;\">\n",
       "      <th></th>\n",
       "      <th>iName</th>\n",
       "      <th>jName</th>\n",
       "      <th>Cij</th>\n",
       "    </tr>\n",
       "  </thead>\n",
       "  <tbody>\n",
       "    <tr>\n",
       "      <th>0</th>\n",
       "      <td>ARNagar__Malappuram</td>\n",
       "      <td>ARNagar__Malappuram</td>\n",
       "      <td>0.854012</td>\n",
       "    </tr>\n",
       "    <tr>\n",
       "      <th>1</th>\n",
       "      <td>ARNagar__Malappuram</td>\n",
       "      <td>Adat__Thrissur</td>\n",
       "      <td>0.000053</td>\n",
       "    </tr>\n",
       "    <tr>\n",
       "      <th>2</th>\n",
       "      <td>ARNagar__Malappuram</td>\n",
       "      <td>Adichanalloor__Kollam</td>\n",
       "      <td>0.000003</td>\n",
       "    </tr>\n",
       "    <tr>\n",
       "      <th>3</th>\n",
       "      <td>ARNagar__Malappuram</td>\n",
       "      <td>Adimali__Idukki</td>\n",
       "      <td>0.000012</td>\n",
       "    </tr>\n",
       "    <tr>\n",
       "      <th>4</th>\n",
       "      <td>ARNagar__Malappuram</td>\n",
       "      <td>Adoor(M)__Pathanamthitta</td>\n",
       "      <td>0.000006</td>\n",
       "    </tr>\n",
       "    <tr>\n",
       "      <th>5</th>\n",
       "      <td>ARNagar__Malappuram</td>\n",
       "      <td>Agali__Palakkad</td>\n",
       "      <td>0.000046</td>\n",
       "    </tr>\n",
       "    <tr>\n",
       "      <th>6</th>\n",
       "      <td>ARNagar__Malappuram</td>\n",
       "      <td>Aiykkaranadu__Ernakulam</td>\n",
       "      <td>0.000007</td>\n",
       "    </tr>\n",
       "    <tr>\n",
       "      <th>7</th>\n",
       "      <td>ARNagar__Malappuram</td>\n",
       "      <td>Ajanur__Kasaragod</td>\n",
       "      <td>0.000014</td>\n",
       "    </tr>\n",
       "    <tr>\n",
       "      <th>8</th>\n",
       "      <td>ARNagar__Malappuram</td>\n",
       "      <td>Akalakunnam__Kottayam</td>\n",
       "      <td>0.000004</td>\n",
       "    </tr>\n",
       "    <tr>\n",
       "      <th>9</th>\n",
       "      <td>ARNagar__Malappuram</td>\n",
       "      <td>Akathethara__Palakkad</td>\n",
       "      <td>0.000038</td>\n",
       "    </tr>\n",
       "  </tbody>\n",
       "</table>\n",
       "</div>"
      ],
      "text/plain": [
       "                 iName                     jName       Cij\n",
       "0  ARNagar__Malappuram       ARNagar__Malappuram  0.854012\n",
       "1  ARNagar__Malappuram            Adat__Thrissur  0.000053\n",
       "2  ARNagar__Malappuram     Adichanalloor__Kollam  0.000003\n",
       "3  ARNagar__Malappuram           Adimali__Idukki  0.000012\n",
       "4  ARNagar__Malappuram  Adoor(M)__Pathanamthitta  0.000006\n",
       "5  ARNagar__Malappuram           Agali__Palakkad  0.000046\n",
       "6  ARNagar__Malappuram   Aiykkaranadu__Ernakulam  0.000007\n",
       "7  ARNagar__Malappuram         Ajanur__Kasaragod  0.000014\n",
       "8  ARNagar__Malappuram     Akalakunnam__Kottayam  0.000004\n",
       "9  ARNagar__Malappuram     Akathethara__Palakkad  0.000038"
      ]
     },
     "execution_count": 25,
     "metadata": {},
     "output_type": "execute_result"
    }
   ],
   "source": [
    "resultsDF.head(10)"
   ]
  },
  {
   "cell_type": "code",
   "execution_count": null,
   "metadata": {},
   "outputs": [],
   "source": []
  }
 ],
 "metadata": {
  "kernelspec": {
   "display_name": "Python 3",
   "language": "python",
   "name": "python3"
  },
  "language_info": {
   "codemirror_mode": {
    "name": "ipython",
    "version": 3
   },
   "file_extension": ".py",
   "mimetype": "text/x-python",
   "name": "python",
   "nbconvert_exporter": "python",
   "pygments_lexer": "ipython3",
   "version": "3.7.5"
  }
 },
 "nbformat": 4,
 "nbformat_minor": 2
}
