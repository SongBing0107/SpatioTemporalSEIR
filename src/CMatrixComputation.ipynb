{
 "cells": [
  {
   "cell_type": "code",
   "execution_count": 1,
   "metadata": {
    "ExecuteTime": {
     "end_time": "2020-04-20T22:58:15.722358Z",
     "start_time": "2020-04-20T22:58:15.212515Z"
    }
   },
   "outputs": [],
   "source": [
    "import numpy as np;\n",
    "import pandas as pd;"
   ]
  },
  {
   "cell_type": "markdown",
   "metadata": {},
   "source": [
    "## Initialize Parameters"
   ]
  },
  {
   "cell_type": "code",
   "execution_count": 2,
   "metadata": {
    "ExecuteTime": {
     "end_time": "2020-04-20T22:58:15.727529Z",
     "start_time": "2020-04-20T22:58:15.724253Z"
    }
   },
   "outputs": [],
   "source": [
    "## Parameters and Global variables\n",
    "district = \"tvm\"\n"
   ]
  },
  {
   "cell_type": "markdown",
   "metadata": {},
   "source": [
    "## Load and Initialize Data"
   ]
  },
  {
   "cell_type": "code",
   "execution_count": 3,
   "metadata": {
    "ExecuteTime": {
     "end_time": "2020-04-20T22:58:15.749915Z",
     "start_time": "2020-04-20T22:58:15.730479Z"
    }
   },
   "outputs": [],
   "source": [
    "## Population data\n",
    "initDataDF = pd.read_csv(\"../data/\" + district + \"_init_data.csv\")\n",
    "\n",
    "## Number of regions\n",
    "r = len(initDataDF.index)\n",
    "\n",
    "## T-Matrix\n",
    "tData = pd.read_csv(\"../output/\" + district + \"_tmatrix_results.csv\")\n",
    "\n",
    "## Sort distance data by name for easy matrix transformation\n",
    "initDataDF.sort_values(by=['name'], inplace=True)"
   ]
  },
  {
   "cell_type": "code",
   "execution_count": 4,
   "metadata": {
    "ExecuteTime": {
     "end_time": "2020-04-20T22:58:15.769152Z",
     "start_time": "2020-04-20T22:58:15.752036Z"
    }
   },
   "outputs": [
    {
     "data": {
      "text/html": [
       "<div>\n",
       "<style scoped>\n",
       "    .dataframe tbody tr th:only-of-type {\n",
       "        vertical-align: middle;\n",
       "    }\n",
       "\n",
       "    .dataframe tbody tr th {\n",
       "        vertical-align: top;\n",
       "    }\n",
       "\n",
       "    .dataframe thead th {\n",
       "        text-align: right;\n",
       "    }\n",
       "</style>\n",
       "<table border=\"1\" class=\"dataframe\">\n",
       "  <thead>\n",
       "    <tr style=\"text-align: right;\">\n",
       "      <th></th>\n",
       "      <th>Unnamed: 0</th>\n",
       "      <th>iName</th>\n",
       "      <th>jName</th>\n",
       "      <th>Tij</th>\n",
       "    </tr>\n",
       "  </thead>\n",
       "  <tbody>\n",
       "    <tr>\n",
       "      <th>0</th>\n",
       "      <td>0</td>\n",
       "      <td>Amboori__Thiruvananthapuram</td>\n",
       "      <td>Amboori__Thiruvananthapuram</td>\n",
       "      <td>15760.800000</td>\n",
       "    </tr>\n",
       "    <tr>\n",
       "      <th>1</th>\n",
       "      <td>1</td>\n",
       "      <td>Amboori__Thiruvananthapuram</td>\n",
       "      <td>Anad__Thiruvananthapuram</td>\n",
       "      <td>0.056256</td>\n",
       "    </tr>\n",
       "    <tr>\n",
       "      <th>2</th>\n",
       "      <td>2</td>\n",
       "      <td>Amboori__Thiruvananthapuram</td>\n",
       "      <td>Anchuthengu__Thiruvananthapuram</td>\n",
       "      <td>0.004837</td>\n",
       "    </tr>\n",
       "    <tr>\n",
       "      <th>3</th>\n",
       "      <td>3</td>\n",
       "      <td>Amboori__Thiruvananthapuram</td>\n",
       "      <td>Andoorkonam__Thiruvananthapuram</td>\n",
       "      <td>0.012198</td>\n",
       "    </tr>\n",
       "    <tr>\n",
       "      <th>4</th>\n",
       "      <td>4</td>\n",
       "      <td>Amboori__Thiruvananthapuram</td>\n",
       "      <td>Aruvikkara__Thiruvananthapuram</td>\n",
       "      <td>0.127005</td>\n",
       "    </tr>\n",
       "  </tbody>\n",
       "</table>\n",
       "</div>"
      ],
      "text/plain": [
       "   Unnamed: 0                        iName                            jName  \\\n",
       "0           0  Amboori__Thiruvananthapuram      Amboori__Thiruvananthapuram   \n",
       "1           1  Amboori__Thiruvananthapuram         Anad__Thiruvananthapuram   \n",
       "2           2  Amboori__Thiruvananthapuram  Anchuthengu__Thiruvananthapuram   \n",
       "3           3  Amboori__Thiruvananthapuram  Andoorkonam__Thiruvananthapuram   \n",
       "4           4  Amboori__Thiruvananthapuram   Aruvikkara__Thiruvananthapuram   \n",
       "\n",
       "            Tij  \n",
       "0  15760.800000  \n",
       "1      0.056256  \n",
       "2      0.004837  \n",
       "3      0.012198  \n",
       "4      0.127005  "
      ]
     },
     "execution_count": 4,
     "metadata": {},
     "output_type": "execute_result"
    }
   ],
   "source": [
    "tData.head(5)\n",
    "# TODO fix the unnamed colum"
   ]
  },
  {
   "cell_type": "markdown",
   "metadata": {},
   "source": [
    "## Prepare T-Matrix"
   ]
  },
  {
   "cell_type": "code",
   "execution_count": 5,
   "metadata": {
    "ExecuteTime": {
     "end_time": "2020-04-20T22:58:15.782081Z",
     "start_time": "2020-04-20T22:58:15.771128Z"
    }
   },
   "outputs": [],
   "source": [
    "\n",
    "tMatrix = tData['Tij'].to_numpy().reshape(r,r)\n"
   ]
  },
  {
   "cell_type": "markdown",
   "metadata": {},
   "source": [
    "## Function Definition"
   ]
  },
  {
   "cell_type": "code",
   "execution_count": 6,
   "metadata": {
    "ExecuteTime": {
     "end_time": "2020-04-20T22:58:15.793780Z",
     "start_time": "2020-04-20T22:58:15.783669Z"
    }
   },
   "outputs": [],
   "source": [
    "def getCij(i, j, tMatrix, initDataDF):\n",
    "    Ni = initDataDF.iloc[i]['S']\n",
    "    cwSum = 0\n",
    "    for k in range(0,r-1):\n",
    "        Tik = tMatrix[i][k]\n",
    "        Tjk = tMatrix[j][k]\n",
    "        TlkSum = 0;\n",
    "\n",
    "        for l in range(0, r-1):\n",
    "            TlkSum = TlkSum + tMatrix[l][k]\n",
    "        \n",
    "        cwSum = cwSum + (Tik/Ni)*(Tjk/TlkSum)\n",
    "\n",
    "    return cwSum"
   ]
  },
  {
   "cell_type": "code",
   "execution_count": 7,
   "metadata": {
    "ExecuteTime": {
     "end_time": "2020-04-20T22:58:15.809269Z",
     "start_time": "2020-04-20T22:58:15.796455Z"
    }
   },
   "outputs": [
    {
     "data": {
      "text/plain": [
       "5.2349157416915176e-06"
      ]
     },
     "execution_count": 7,
     "metadata": {},
     "output_type": "execute_result"
    }
   ],
   "source": [
    "getCij(0,1, tMatrix, initDataDF)"
   ]
  },
  {
   "cell_type": "markdown",
   "metadata": {},
   "source": [
    "## Compute C-Matrix"
   ]
  },
  {
   "cell_type": "code",
   "execution_count": 8,
   "metadata": {
    "ExecuteTime": {
     "end_time": "2020-04-20T22:58:42.808724Z",
     "start_time": "2020-04-20T22:58:15.812030Z"
    }
   },
   "outputs": [],
   "source": [
    "resultsDF = pd.DataFrame(columns=['iName', 'jName', 'Cij'], );\n",
    "for i in range(0,r):\n",
    "    for j in range(0,r):\n",
    "        Cij = getCij(i,j,tMatrix, initDataDF)\n",
    "        resultsDF = resultsDF.append({'iName': initDataDF.iloc[i]['name'], 'jName': initDataDF.iloc[j]['name'], 'Cij': Cij},ignore_index=True)\n",
    " "
   ]
  },
  {
   "cell_type": "markdown",
   "metadata": {},
   "source": [
    "## Save Output"
   ]
  },
  {
   "cell_type": "code",
   "execution_count": 9,
   "metadata": {
    "ExecuteTime": {
     "end_time": "2020-04-20T22:58:42.849458Z",
     "start_time": "2020-04-20T22:58:42.810662Z"
    }
   },
   "outputs": [],
   "source": [
    "resultsDF.to_csv(\"../output/\" + district + \"_cmatrix_results.csv\")"
   ]
  },
  {
   "cell_type": "code",
   "execution_count": 10,
   "metadata": {
    "ExecuteTime": {
     "end_time": "2020-04-20T22:58:42.861586Z",
     "start_time": "2020-04-20T22:58:42.851283Z"
    }
   },
   "outputs": [
    {
     "data": {
      "text/html": [
       "<div>\n",
       "<style scoped>\n",
       "    .dataframe tbody tr th:only-of-type {\n",
       "        vertical-align: middle;\n",
       "    }\n",
       "\n",
       "    .dataframe tbody tr th {\n",
       "        vertical-align: top;\n",
       "    }\n",
       "\n",
       "    .dataframe thead th {\n",
       "        text-align: right;\n",
       "    }\n",
       "</style>\n",
       "<table border=\"1\" class=\"dataframe\">\n",
       "  <thead>\n",
       "    <tr style=\"text-align: right;\">\n",
       "      <th></th>\n",
       "      <th>iName</th>\n",
       "      <th>jName</th>\n",
       "      <th>Cij</th>\n",
       "    </tr>\n",
       "  </thead>\n",
       "  <tbody>\n",
       "    <tr>\n",
       "      <th>0</th>\n",
       "      <td>Amboori__Thiruvananthapuram</td>\n",
       "      <td>Amboori__Thiruvananthapuram</td>\n",
       "      <td>9.806868e-01</td>\n",
       "    </tr>\n",
       "    <tr>\n",
       "      <th>1</th>\n",
       "      <td>Amboori__Thiruvananthapuram</td>\n",
       "      <td>Anad__Thiruvananthapuram</td>\n",
       "      <td>5.234916e-06</td>\n",
       "    </tr>\n",
       "    <tr>\n",
       "      <th>2</th>\n",
       "      <td>Amboori__Thiruvananthapuram</td>\n",
       "      <td>Anchuthengu__Thiruvananthapuram</td>\n",
       "      <td>6.523232e-07</td>\n",
       "    </tr>\n",
       "    <tr>\n",
       "      <th>3</th>\n",
       "      <td>Amboori__Thiruvananthapuram</td>\n",
       "      <td>Andoorkonam__Thiruvananthapuram</td>\n",
       "      <td>1.832264e-06</td>\n",
       "    </tr>\n",
       "    <tr>\n",
       "      <th>4</th>\n",
       "      <td>Amboori__Thiruvananthapuram</td>\n",
       "      <td>Aruvikkara__Thiruvananthapuram</td>\n",
       "      <td>1.064363e-05</td>\n",
       "    </tr>\n",
       "    <tr>\n",
       "      <th>5</th>\n",
       "      <td>Amboori__Thiruvananthapuram</td>\n",
       "      <td>Aryanad__Thiruvananthapuram</td>\n",
       "      <td>8.390318e-05</td>\n",
       "    </tr>\n",
       "    <tr>\n",
       "      <th>6</th>\n",
       "      <td>Amboori__Thiruvananthapuram</td>\n",
       "      <td>Aryancodu__Thiruvananthapuram</td>\n",
       "      <td>5.063016e-04</td>\n",
       "    </tr>\n",
       "    <tr>\n",
       "      <th>7</th>\n",
       "      <td>Amboori__Thiruvananthapuram</td>\n",
       "      <td>Athiyannoor__Thiruvananthapuram</td>\n",
       "      <td>1.009282e-05</td>\n",
       "    </tr>\n",
       "    <tr>\n",
       "      <th>8</th>\n",
       "      <td>Amboori__Thiruvananthapuram</td>\n",
       "      <td>Attingal(M)__Thiruvananthapuram</td>\n",
       "      <td>2.414715e-06</td>\n",
       "    </tr>\n",
       "    <tr>\n",
       "      <th>9</th>\n",
       "      <td>Amboori__Thiruvananthapuram</td>\n",
       "      <td>Azhoor__Thiruvananthapuram</td>\n",
       "      <td>1.445750e-06</td>\n",
       "    </tr>\n",
       "  </tbody>\n",
       "</table>\n",
       "</div>"
      ],
      "text/plain": [
       "                         iName                            jName           Cij\n",
       "0  Amboori__Thiruvananthapuram      Amboori__Thiruvananthapuram  9.806868e-01\n",
       "1  Amboori__Thiruvananthapuram         Anad__Thiruvananthapuram  5.234916e-06\n",
       "2  Amboori__Thiruvananthapuram  Anchuthengu__Thiruvananthapuram  6.523232e-07\n",
       "3  Amboori__Thiruvananthapuram  Andoorkonam__Thiruvananthapuram  1.832264e-06\n",
       "4  Amboori__Thiruvananthapuram   Aruvikkara__Thiruvananthapuram  1.064363e-05\n",
       "5  Amboori__Thiruvananthapuram      Aryanad__Thiruvananthapuram  8.390318e-05\n",
       "6  Amboori__Thiruvananthapuram    Aryancodu__Thiruvananthapuram  5.063016e-04\n",
       "7  Amboori__Thiruvananthapuram  Athiyannoor__Thiruvananthapuram  1.009282e-05\n",
       "8  Amboori__Thiruvananthapuram  Attingal(M)__Thiruvananthapuram  2.414715e-06\n",
       "9  Amboori__Thiruvananthapuram       Azhoor__Thiruvananthapuram  1.445750e-06"
      ]
     },
     "execution_count": 10,
     "metadata": {},
     "output_type": "execute_result"
    }
   ],
   "source": [
    "resultsDF.head(10)"
   ]
  }
 ],
 "metadata": {
  "kernelspec": {
   "display_name": "Python 3",
   "language": "python",
   "name": "python3"
  },
  "language_info": {
   "codemirror_mode": {
    "name": "ipython",
    "version": 3
   },
   "file_extension": ".py",
   "mimetype": "text/x-python",
   "name": "python",
   "nbconvert_exporter": "python",
   "pygments_lexer": "ipython3",
   "version": "3.7.5"
  }
 },
 "nbformat": 4,
 "nbformat_minor": 2
}
