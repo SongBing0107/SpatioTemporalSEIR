{
 "cells": [
  {
   "cell_type": "code",
   "execution_count": 1,
   "metadata": {
    "ExecuteTime": {
     "end_time": "2020-04-24T15:57:05.192177Z",
     "start_time": "2020-04-24T15:57:04.446789Z"
    }
   },
   "outputs": [],
   "source": [
    "import numpy as np;\n",
    "import pandas as pd;"
   ]
  },
  {
   "cell_type": "markdown",
   "metadata": {},
   "source": [
    "## Initialize Parameters"
   ]
  },
  {
   "cell_type": "code",
   "execution_count": 2,
   "metadata": {
    "ExecuteTime": {
     "end_time": "2020-04-24T15:57:05.584849Z",
     "start_time": "2020-04-24T15:57:05.577989Z"
    }
   },
   "outputs": [],
   "source": [
    "## Parameters and Global variables\n",
    "district = \"all\"\n"
   ]
  },
  {
   "cell_type": "markdown",
   "metadata": {},
   "source": [
    "## Load and Initialize Data"
   ]
  },
  {
   "cell_type": "code",
   "execution_count": 5,
   "metadata": {
    "ExecuteTime": {
     "end_time": "2020-04-24T15:57:15.888613Z",
     "start_time": "2020-04-24T15:57:15.241835Z"
    }
   },
   "outputs": [],
   "source": [
    "## Population data\n",
    "initDataDF = pd.read_csv(\"../data/\" + district + \"_init_data.csv\")\n",
    "\n",
    "## Number of regions\n",
    "r = len(initDataDF.index)\n",
    "\n",
    "## T-Matrix\n",
    "tData = pd.read_csv(\"../output/\" + district + \"_tmatrix_results.csv\")\n",
    "\n",
    "## Sort distance data by name for easy matrix transformation\n",
    "initDataDF.sort_values(by=['name'], inplace=True)"
   ]
  },
  {
   "cell_type": "code",
   "execution_count": 6,
   "metadata": {
    "ExecuteTime": {
     "end_time": "2020-04-24T15:57:16.187551Z",
     "start_time": "2020-04-24T15:57:16.095973Z"
    }
   },
   "outputs": [
    {
     "data": {
      "text/html": [
       "<div>\n",
       "<style scoped>\n",
       "    .dataframe tbody tr th:only-of-type {\n",
       "        vertical-align: middle;\n",
       "    }\n",
       "\n",
       "    .dataframe tbody tr th {\n",
       "        vertical-align: top;\n",
       "    }\n",
       "\n",
       "    .dataframe thead th {\n",
       "        text-align: right;\n",
       "    }\n",
       "</style>\n",
       "<table border=\"1\" class=\"dataframe\">\n",
       "  <thead>\n",
       "    <tr style=\"text-align: right;\">\n",
       "      <th></th>\n",
       "      <th>Unnamed: 0</th>\n",
       "      <th>iName</th>\n",
       "      <th>jName</th>\n",
       "      <th>Tij</th>\n",
       "    </tr>\n",
       "  </thead>\n",
       "  <tbody>\n",
       "  </tbody>\n",
       "</table>\n",
       "</div>"
      ],
      "text/plain": [
       "Empty DataFrame\n",
       "Columns: [Unnamed: 0, iName, jName, Tij]\n",
       "Index: []"
      ]
     },
     "execution_count": 6,
     "metadata": {},
     "output_type": "execute_result"
    }
   ],
   "source": [
    "tData.head(5)\n",
    "tData[tData.isnull().any(axis=1)]\n",
    "# TODO fix the unnamed colum"
   ]
  },
  {
   "cell_type": "markdown",
   "metadata": {},
   "source": [
    "## Prepare T-Matrix"
   ]
  },
  {
   "cell_type": "code",
   "execution_count": 7,
   "metadata": {
    "ExecuteTime": {
     "end_time": "2020-04-24T15:57:19.210633Z",
     "start_time": "2020-04-24T15:57:19.202645Z"
    }
   },
   "outputs": [
    {
     "data": {
      "text/plain": [
       "array([[6.67758000e+03, 2.04013815e-01, 1.27738582e-02, ...,\n",
       "        1.71236727e-01, 3.10475222e-02, 7.98414545e-03],\n",
       "       [1.56496093e-01, 2.90954300e+04, 7.45440709e-02, ...,\n",
       "        1.53585706e-01, 5.24088576e-02, 4.88968441e-02],\n",
       "       [9.12982284e-03, 6.94559477e-02, 3.06105800e+04, ...,\n",
       "        1.20976746e-02, 1.43104373e-02, 4.47375863e+00],\n",
       "       ...,\n",
       "       [2.26326396e-01, 2.64633709e-01, 2.23717485e-02, ...,\n",
       "        9.82944000e+03, 5.35883146e-02, 1.38572077e-02],\n",
       "       [5.32014866e-02, 1.17073228e-01, 3.43091112e-02, ...,\n",
       "        6.94750121e-02, 2.81433600e+04, 2.02950345e-02],\n",
       "       [6.30217340e-03, 5.03151550e-02, 4.94076502e+00, ...,\n",
       "        8.27559724e-03, 9.34877871e-03, 1.65401600e+04]])"
      ]
     },
     "execution_count": 7,
     "metadata": {},
     "output_type": "execute_result"
    }
   ],
   "source": [
    "\n",
    "tMatrix = tData['Tij'].to_numpy().reshape(r,r)\n",
    "tMatrix"
   ]
  },
  {
   "cell_type": "code",
   "execution_count": 8,
   "metadata": {
    "ExecuteTime": {
     "end_time": "2020-04-24T15:57:22.042169Z",
     "start_time": "2020-04-24T15:57:22.031146Z"
    }
   },
   "outputs": [
    {
     "data": {
      "text/plain": [
       "array([ 7116.24111591, 30962.62130169, 33086.53479988, ...,\n",
       "       10060.05380915, 29005.93804394, 17897.24073407])"
      ]
     },
     "execution_count": 8,
     "metadata": {},
     "output_type": "execute_result"
    }
   ],
   "source": [
    "tColSum = tMatrix.sum(axis=0)\n",
    "tColSum\n",
    "#tMatrix[0]/initDataDF['N']\n",
    "#tMatrix[1]/tColSum[0]\n",
    "#np.multiply(tMatrix[0]/Ni,tMatrix[1]/tColSum).sum()"
   ]
  },
  {
   "cell_type": "markdown",
   "metadata": {},
   "source": [
    "## Function Definition"
   ]
  },
  {
   "cell_type": "code",
   "execution_count": 9,
   "metadata": {
    "ExecuteTime": {
     "end_time": "2020-04-24T15:57:24.050980Z",
     "start_time": "2020-04-24T15:57:24.043690Z"
    }
   },
   "outputs": [],
   "source": [
    "def getCijv3(i, j, tMatrix, Ni):\n",
    "    cwSum = np.multiply(tMatrix[i]/Ni,tMatrix[j]/tColSum).sum()\n",
    "    return cwSum"
   ]
  },
  {
   "cell_type": "code",
   "execution_count": 10,
   "metadata": {
    "ExecuteTime": {
     "end_time": "2020-04-24T15:57:24.652242Z",
     "start_time": "2020-04-24T15:57:24.647105Z"
    }
   },
   "outputs": [],
   "source": [
    "def getCijv2(i, j, tMatrix, Ni):\n",
    "    cwSum = 0\n",
    "    for k in range(0,r-1):\n",
    "        Tik = tMatrix[i][k]\n",
    "        Tjk = tMatrix[j][k]\n",
    "        TlkSum = tMatrix.sum(axis=0)[k]\n",
    "        \n",
    "        cwSum = cwSum + (Tik/Ni)*(Tjk/TlkSum)\n",
    "\n",
    "    return cwSum"
   ]
  },
  {
   "cell_type": "code",
   "execution_count": 11,
   "metadata": {
    "ExecuteTime": {
     "end_time": "2020-04-24T15:57:25.449121Z",
     "start_time": "2020-04-24T15:57:25.442399Z"
    }
   },
   "outputs": [],
   "source": [
    "def getCij(i, j, tMatrix, initDataDF):\n",
    "    Ni = initDataDF.iloc[i]['S']\n",
    "    cwSum = 0\n",
    "    for k in range(0,r-1):\n",
    "        Tik = tMatrix[i][k]\n",
    "        Tjk = tMatrix[j][k]\n",
    "        TlkSum = 0;\n",
    "\n",
    "        for l in range(0, r-1):\n",
    "            TlkSum = TlkSum + tMatrix[l][k]\n",
    "        \n",
    "        cwSum = cwSum + (Tik/Ni)*(Tjk/TlkSum)\n",
    "\n",
    "    return cwSum"
   ]
  },
  {
   "cell_type": "code",
   "execution_count": 12,
   "metadata": {
    "ExecuteTime": {
     "end_time": "2020-04-24T15:57:26.669983Z",
     "start_time": "2020-04-24T15:57:26.266805Z"
    }
   },
   "outputs": [
    {
     "data": {
      "text/plain": [
       "5.31551802829101e-05"
      ]
     },
     "execution_count": 12,
     "metadata": {},
     "output_type": "execute_result"
    }
   ],
   "source": [
    "getCij(0,1, tMatrix, initDataDF)"
   ]
  },
  {
   "cell_type": "markdown",
   "metadata": {},
   "source": [
    "## Compute C-Matrix"
   ]
  },
  {
   "cell_type": "code",
   "execution_count": 13,
   "metadata": {
    "ExecuteTime": {
     "end_time": "2020-04-24T16:02:51.567760Z",
     "start_time": "2020-04-24T15:57:28.786491Z"
    }
   },
   "outputs": [],
   "source": [
    "data = []\n",
    "for i in range(0,r):\n",
    "    Ni = initDataDF.iloc[i]['N']\n",
    "    for j in range(0,r):\n",
    "        Cij = getCijv3(i,j,tMatrix, Ni)\n",
    "        data.append({'iName': initDataDF.iloc[i]['name'], 'jName': initDataDF.iloc[j]['name'], 'Cij': Cij})\n",
    "\n",
    "resultsDF = pd.DataFrame(data);\n"
   ]
  },
  {
   "cell_type": "markdown",
   "metadata": {},
   "source": [
    "## Save Output"
   ]
  },
  {
   "cell_type": "code",
   "execution_count": 14,
   "metadata": {
    "ExecuteTime": {
     "end_time": "2020-04-24T16:02:56.468255Z",
     "start_time": "2020-04-24T16:02:51.570317Z"
    }
   },
   "outputs": [],
   "source": [
    "resultsDF.to_csv(\"../output/\" + district + \"_cmatrix_results.csv\")"
   ]
  },
  {
   "cell_type": "code",
   "execution_count": 15,
   "metadata": {
    "ExecuteTime": {
     "end_time": "2020-04-24T16:02:56.495571Z",
     "start_time": "2020-04-24T16:02:56.472451Z"
    }
   },
   "outputs": [
    {
     "data": {
      "text/html": [
       "<div>\n",
       "<style scoped>\n",
       "    .dataframe tbody tr th:only-of-type {\n",
       "        vertical-align: middle;\n",
       "    }\n",
       "\n",
       "    .dataframe tbody tr th {\n",
       "        vertical-align: top;\n",
       "    }\n",
       "\n",
       "    .dataframe thead th {\n",
       "        text-align: right;\n",
       "    }\n",
       "</style>\n",
       "<table border=\"1\" class=\"dataframe\">\n",
       "  <thead>\n",
       "    <tr style=\"text-align: right;\">\n",
       "      <th></th>\n",
       "      <th>iName</th>\n",
       "      <th>jName</th>\n",
       "      <th>Cij</th>\n",
       "    </tr>\n",
       "  </thead>\n",
       "  <tbody>\n",
       "    <tr>\n",
       "      <th>0</th>\n",
       "      <td>ARNagar__Malappuram</td>\n",
       "      <td>ARNagar__Malappuram</td>\n",
       "      <td>0.854012</td>\n",
       "    </tr>\n",
       "    <tr>\n",
       "      <th>1</th>\n",
       "      <td>ARNagar__Malappuram</td>\n",
       "      <td>Adat__Thrissur</td>\n",
       "      <td>0.000053</td>\n",
       "    </tr>\n",
       "    <tr>\n",
       "      <th>2</th>\n",
       "      <td>ARNagar__Malappuram</td>\n",
       "      <td>Adichanalloor__Kollam</td>\n",
       "      <td>0.000003</td>\n",
       "    </tr>\n",
       "    <tr>\n",
       "      <th>3</th>\n",
       "      <td>ARNagar__Malappuram</td>\n",
       "      <td>Adimali__Idukki</td>\n",
       "      <td>0.000012</td>\n",
       "    </tr>\n",
       "    <tr>\n",
       "      <th>4</th>\n",
       "      <td>ARNagar__Malappuram</td>\n",
       "      <td>Adoor(M)__Pathanamthitta</td>\n",
       "      <td>0.000006</td>\n",
       "    </tr>\n",
       "    <tr>\n",
       "      <th>5</th>\n",
       "      <td>ARNagar__Malappuram</td>\n",
       "      <td>Agali__Palakkad</td>\n",
       "      <td>0.000046</td>\n",
       "    </tr>\n",
       "    <tr>\n",
       "      <th>6</th>\n",
       "      <td>ARNagar__Malappuram</td>\n",
       "      <td>Aiykkaranadu__Ernakulam</td>\n",
       "      <td>0.000007</td>\n",
       "    </tr>\n",
       "    <tr>\n",
       "      <th>7</th>\n",
       "      <td>ARNagar__Malappuram</td>\n",
       "      <td>Ajanur__Kasaragod</td>\n",
       "      <td>0.000014</td>\n",
       "    </tr>\n",
       "    <tr>\n",
       "      <th>8</th>\n",
       "      <td>ARNagar__Malappuram</td>\n",
       "      <td>Akalakunnam__Kottayam</td>\n",
       "      <td>0.000004</td>\n",
       "    </tr>\n",
       "    <tr>\n",
       "      <th>9</th>\n",
       "      <td>ARNagar__Malappuram</td>\n",
       "      <td>Akathethara__Palakkad</td>\n",
       "      <td>0.000038</td>\n",
       "    </tr>\n",
       "  </tbody>\n",
       "</table>\n",
       "</div>"
      ],
      "text/plain": [
       "                 iName                     jName       Cij\n",
       "0  ARNagar__Malappuram       ARNagar__Malappuram  0.854012\n",
       "1  ARNagar__Malappuram            Adat__Thrissur  0.000053\n",
       "2  ARNagar__Malappuram     Adichanalloor__Kollam  0.000003\n",
       "3  ARNagar__Malappuram           Adimali__Idukki  0.000012\n",
       "4  ARNagar__Malappuram  Adoor(M)__Pathanamthitta  0.000006\n",
       "5  ARNagar__Malappuram           Agali__Palakkad  0.000046\n",
       "6  ARNagar__Malappuram   Aiykkaranadu__Ernakulam  0.000007\n",
       "7  ARNagar__Malappuram         Ajanur__Kasaragod  0.000014\n",
       "8  ARNagar__Malappuram     Akalakunnam__Kottayam  0.000004\n",
       "9  ARNagar__Malappuram     Akathethara__Palakkad  0.000038"
      ]
     },
     "execution_count": 15,
     "metadata": {},
     "output_type": "execute_result"
    }
   ],
   "source": [
    "resultsDF.head(10)"
   ]
  },
  {
   "cell_type": "code",
   "execution_count": null,
   "metadata": {},
   "outputs": [],
   "source": []
  }
 ],
 "metadata": {
  "kernelspec": {
   "display_name": "Python 3",
   "language": "python",
   "name": "python3"
  },
  "language_info": {
   "codemirror_mode": {
    "name": "ipython",
    "version": 3
   },
   "file_extension": ".py",
   "mimetype": "text/x-python",
   "name": "python",
   "nbconvert_exporter": "python",
   "pygments_lexer": "ipython3",
   "version": "3.7.5"
  }
 },
 "nbformat": 4,
 "nbformat_minor": 2
}
