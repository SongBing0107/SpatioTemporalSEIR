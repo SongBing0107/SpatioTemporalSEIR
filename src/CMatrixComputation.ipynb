{
 "cells": [
  {
   "cell_type": "code",
   "execution_count": 1,
   "metadata": {
    "ExecuteTime": {
     "end_time": "2020-04-23T05:29:44.075965Z",
     "start_time": "2020-04-23T05:29:43.362227Z"
    }
   },
   "outputs": [],
   "source": [
    "import numpy as np;\n",
    "import pandas as pd;"
   ]
  },
  {
   "cell_type": "markdown",
   "metadata": {},
   "source": [
    "## Initialize Parameters"
   ]
  },
  {
   "cell_type": "code",
   "execution_count": 2,
   "metadata": {
    "ExecuteTime": {
     "end_time": "2020-04-23T05:29:44.081235Z",
     "start_time": "2020-04-23T05:29:44.077778Z"
    }
   },
   "outputs": [],
   "source": [
    "## Parameters and Global variables\n",
    "district = \"tvm\"\n"
   ]
  },
  {
   "cell_type": "markdown",
   "metadata": {},
   "source": [
    "## Load and Initialize Data"
   ]
  },
  {
   "cell_type": "code",
   "execution_count": 3,
   "metadata": {
    "ExecuteTime": {
     "end_time": "2020-04-23T05:29:44.099015Z",
     "start_time": "2020-04-23T05:29:44.084063Z"
    }
   },
   "outputs": [],
   "source": [
    "## Population data\n",
    "initDataDF = pd.read_csv(\"../data/\" + district + \"_init_data.csv\")\n",
    "\n",
    "## Number of regions\n",
    "r = len(initDataDF.index)\n",
    "\n",
    "## T-Matrix\n",
    "tData = pd.read_csv(\"../output/\" + district + \"_tmatrix_results.csv\")\n",
    "\n",
    "## Sort distance data by name for easy matrix transformation\n",
    "initDataDF.sort_values(by=['name'], inplace=True)"
   ]
  },
  {
   "cell_type": "code",
   "execution_count": 4,
   "metadata": {
    "ExecuteTime": {
     "end_time": "2020-04-23T05:29:44.115167Z",
     "start_time": "2020-04-23T05:29:44.100909Z"
    }
   },
   "outputs": [
    {
     "data": {
      "text/html": [
       "<div>\n",
       "<style scoped>\n",
       "    .dataframe tbody tr th:only-of-type {\n",
       "        vertical-align: middle;\n",
       "    }\n",
       "\n",
       "    .dataframe tbody tr th {\n",
       "        vertical-align: top;\n",
       "    }\n",
       "\n",
       "    .dataframe thead th {\n",
       "        text-align: right;\n",
       "    }\n",
       "</style>\n",
       "<table border=\"1\" class=\"dataframe\">\n",
       "  <thead>\n",
       "    <tr style=\"text-align: right;\">\n",
       "      <th></th>\n",
       "      <th>Unnamed: 0</th>\n",
       "      <th>iName</th>\n",
       "      <th>jName</th>\n",
       "      <th>Tij</th>\n",
       "    </tr>\n",
       "  </thead>\n",
       "  <tbody>\n",
       "    <tr>\n",
       "      <th>0</th>\n",
       "      <td>0</td>\n",
       "      <td>Amboori__Thiruvananthapuram</td>\n",
       "      <td>Amboori__Thiruvananthapuram</td>\n",
       "      <td>15283.200000</td>\n",
       "    </tr>\n",
       "    <tr>\n",
       "      <th>1</th>\n",
       "      <td>1</td>\n",
       "      <td>Amboori__Thiruvananthapuram</td>\n",
       "      <td>Anad__Thiruvananthapuram</td>\n",
       "      <td>2.632907</td>\n",
       "    </tr>\n",
       "    <tr>\n",
       "      <th>2</th>\n",
       "      <td>2</td>\n",
       "      <td>Amboori__Thiruvananthapuram</td>\n",
       "      <td>Anchuthengu__Thiruvananthapuram</td>\n",
       "      <td>0.334459</td>\n",
       "    </tr>\n",
       "    <tr>\n",
       "      <th>3</th>\n",
       "      <td>3</td>\n",
       "      <td>Amboori__Thiruvananthapuram</td>\n",
       "      <td>Andoorkonam__Thiruvananthapuram</td>\n",
       "      <td>1.126357</td>\n",
       "    </tr>\n",
       "    <tr>\n",
       "      <th>4</th>\n",
       "      <td>4</td>\n",
       "      <td>Amboori__Thiruvananthapuram</td>\n",
       "      <td>Aruvikkara__Thiruvananthapuram</td>\n",
       "      <td>4.373778</td>\n",
       "    </tr>\n",
       "  </tbody>\n",
       "</table>\n",
       "</div>"
      ],
      "text/plain": [
       "   Unnamed: 0                        iName                            jName  \\\n",
       "0           0  Amboori__Thiruvananthapuram      Amboori__Thiruvananthapuram   \n",
       "1           1  Amboori__Thiruvananthapuram         Anad__Thiruvananthapuram   \n",
       "2           2  Amboori__Thiruvananthapuram  Anchuthengu__Thiruvananthapuram   \n",
       "3           3  Amboori__Thiruvananthapuram  Andoorkonam__Thiruvananthapuram   \n",
       "4           4  Amboori__Thiruvananthapuram   Aruvikkara__Thiruvananthapuram   \n",
       "\n",
       "            Tij  \n",
       "0  15283.200000  \n",
       "1      2.632907  \n",
       "2      0.334459  \n",
       "3      1.126357  \n",
       "4      4.373778  "
      ]
     },
     "execution_count": 4,
     "metadata": {},
     "output_type": "execute_result"
    }
   ],
   "source": [
    "tData.head(5)\n",
    "# TODO fix the unnamed colum"
   ]
  },
  {
   "cell_type": "markdown",
   "metadata": {},
   "source": [
    "## Prepare T-Matrix"
   ]
  },
  {
   "cell_type": "code",
   "execution_count": 5,
   "metadata": {
    "ExecuteTime": {
     "end_time": "2020-04-23T05:29:44.122764Z",
     "start_time": "2020-04-23T05:29:44.116943Z"
    }
   },
   "outputs": [],
   "source": [
    "\n",
    "tMatrix = tData['Tij'].to_numpy().reshape(r,r)\n"
   ]
  },
  {
   "cell_type": "markdown",
   "metadata": {},
   "source": [
    "## Function Definition"
   ]
  },
  {
   "cell_type": "code",
   "execution_count": 6,
   "metadata": {
    "ExecuteTime": {
     "end_time": "2020-04-23T05:29:44.131063Z",
     "start_time": "2020-04-23T05:29:44.124610Z"
    }
   },
   "outputs": [],
   "source": [
    "def getCijv2(i, j, tMatrix, Ni):\n",
    "    cwSum = 0\n",
    "    for k in range(0,r-1):\n",
    "        Tik = tMatrix[i][k]\n",
    "        Tjk = tMatrix[j][k]\n",
    "        TlkSum = tMatrix.sum(axis=0)[k]\n",
    "        \n",
    "        cwSum = cwSum + (Tik/Ni)*(Tjk/TlkSum)\n",
    "\n",
    "    return cwSum"
   ]
  },
  {
   "cell_type": "code",
   "execution_count": 7,
   "metadata": {
    "ExecuteTime": {
     "end_time": "2020-04-23T05:29:44.139285Z",
     "start_time": "2020-04-23T05:29:44.133038Z"
    }
   },
   "outputs": [],
   "source": [
    "def getCij(i, j, tMatrix, initDataDF):\n",
    "    Ni = initDataDF.iloc[i]['S']\n",
    "    cwSum = 0\n",
    "    for k in range(0,r-1):\n",
    "        Tik = tMatrix[i][k]\n",
    "        Tjk = tMatrix[j][k]\n",
    "        TlkSum = 0;\n",
    "\n",
    "        for l in range(0, r-1):\n",
    "            TlkSum = TlkSum + tMatrix[l][k]\n",
    "        \n",
    "        cwSum = cwSum + (Tik/Ni)*(Tjk/TlkSum)\n",
    "\n",
    "    return cwSum"
   ]
  },
  {
   "cell_type": "code",
   "execution_count": 8,
   "metadata": {
    "ExecuteTime": {
     "end_time": "2020-04-23T05:29:44.148394Z",
     "start_time": "2020-04-23T05:29:44.141559Z"
    }
   },
   "outputs": [
    {
     "data": {
      "text/plain": [
       "0.00031567593139767813"
      ]
     },
     "execution_count": 8,
     "metadata": {},
     "output_type": "execute_result"
    }
   ],
   "source": [
    "getCij(0,1, tMatrix, initDataDF)"
   ]
  },
  {
   "cell_type": "markdown",
   "metadata": {},
   "source": [
    "## Compute C-Matrix"
   ]
  },
  {
   "cell_type": "code",
   "execution_count": 9,
   "metadata": {
    "ExecuteTime": {
     "end_time": "2020-04-23T05:29:51.623755Z",
     "start_time": "2020-04-23T05:29:44.150148Z"
    }
   },
   "outputs": [],
   "source": [
    "data = []\n",
    "for i in range(0,r):\n",
    "    Ni = initDataDF.iloc[i]['S']\n",
    "    for j in range(0,r):\n",
    "        Cij = getCijv2(i,j,tMatrix, Ni)\n",
    "        data.append({'iName': initDataDF.iloc[i]['name'], 'jName': initDataDF.iloc[j]['name'], 'Cij': Cij})\n",
    "\n",
    "resultsDF = pd.DataFrame(data);\n"
   ]
  },
  {
   "cell_type": "markdown",
   "metadata": {},
   "source": [
    "## Save Output"
   ]
  },
  {
   "cell_type": "code",
   "execution_count": 10,
   "metadata": {
    "ExecuteTime": {
     "end_time": "2020-04-23T05:29:51.672793Z",
     "start_time": "2020-04-23T05:29:51.625350Z"
    }
   },
   "outputs": [],
   "source": [
    "resultsDF.to_csv(\"../output/\" + district + \"_cmatrix_results.csv\")"
   ]
  },
  {
   "cell_type": "code",
   "execution_count": 11,
   "metadata": {
    "ExecuteTime": {
     "end_time": "2020-04-23T05:29:51.687348Z",
     "start_time": "2020-04-23T05:29:51.674539Z"
    }
   },
   "outputs": [
    {
     "data": {
      "text/html": [
       "<div>\n",
       "<style scoped>\n",
       "    .dataframe tbody tr th:only-of-type {\n",
       "        vertical-align: middle;\n",
       "    }\n",
       "\n",
       "    .dataframe tbody tr th {\n",
       "        vertical-align: top;\n",
       "    }\n",
       "\n",
       "    .dataframe thead th {\n",
       "        text-align: right;\n",
       "    }\n",
       "</style>\n",
       "<table border=\"1\" class=\"dataframe\">\n",
       "  <thead>\n",
       "    <tr style=\"text-align: right;\">\n",
       "      <th></th>\n",
       "      <th>iName</th>\n",
       "      <th>jName</th>\n",
       "      <th>Cij</th>\n",
       "    </tr>\n",
       "  </thead>\n",
       "  <tbody>\n",
       "    <tr>\n",
       "      <th>0</th>\n",
       "      <td>Amboori__Thiruvananthapuram</td>\n",
       "      <td>Amboori__Thiruvananthapuram</td>\n",
       "      <td>0.932860</td>\n",
       "    </tr>\n",
       "    <tr>\n",
       "      <th>1</th>\n",
       "      <td>Amboori__Thiruvananthapuram</td>\n",
       "      <td>Anad__Thiruvananthapuram</td>\n",
       "      <td>0.000316</td>\n",
       "    </tr>\n",
       "    <tr>\n",
       "      <th>2</th>\n",
       "      <td>Amboori__Thiruvananthapuram</td>\n",
       "      <td>Anchuthengu__Thiruvananthapuram</td>\n",
       "      <td>0.000045</td>\n",
       "    </tr>\n",
       "    <tr>\n",
       "      <th>3</th>\n",
       "      <td>Amboori__Thiruvananthapuram</td>\n",
       "      <td>Andoorkonam__Thiruvananthapuram</td>\n",
       "      <td>0.000148</td>\n",
       "    </tr>\n",
       "    <tr>\n",
       "      <th>4</th>\n",
       "      <td>Amboori__Thiruvananthapuram</td>\n",
       "      <td>Aruvikkara__Thiruvananthapuram</td>\n",
       "      <td>0.000460</td>\n",
       "    </tr>\n",
       "    <tr>\n",
       "      <th>5</th>\n",
       "      <td>Amboori__Thiruvananthapuram</td>\n",
       "      <td>Aryanad__Thiruvananthapuram</td>\n",
       "      <td>0.000809</td>\n",
       "    </tr>\n",
       "    <tr>\n",
       "      <th>6</th>\n",
       "      <td>Amboori__Thiruvananthapuram</td>\n",
       "      <td>Aryancodu__Thiruvananthapuram</td>\n",
       "      <td>0.003573</td>\n",
       "    </tr>\n",
       "    <tr>\n",
       "      <th>7</th>\n",
       "      <td>Amboori__Thiruvananthapuram</td>\n",
       "      <td>Athiyannoor__Thiruvananthapuram</td>\n",
       "      <td>0.000449</td>\n",
       "    </tr>\n",
       "    <tr>\n",
       "      <th>8</th>\n",
       "      <td>Amboori__Thiruvananthapuram</td>\n",
       "      <td>Attingal(M)__Thiruvananthapuram</td>\n",
       "      <td>0.000185</td>\n",
       "    </tr>\n",
       "    <tr>\n",
       "      <th>9</th>\n",
       "      <td>Amboori__Thiruvananthapuram</td>\n",
       "      <td>Azhoor__Thiruvananthapuram</td>\n",
       "      <td>0.000106</td>\n",
       "    </tr>\n",
       "  </tbody>\n",
       "</table>\n",
       "</div>"
      ],
      "text/plain": [
       "                         iName                            jName       Cij\n",
       "0  Amboori__Thiruvananthapuram      Amboori__Thiruvananthapuram  0.932860\n",
       "1  Amboori__Thiruvananthapuram         Anad__Thiruvananthapuram  0.000316\n",
       "2  Amboori__Thiruvananthapuram  Anchuthengu__Thiruvananthapuram  0.000045\n",
       "3  Amboori__Thiruvananthapuram  Andoorkonam__Thiruvananthapuram  0.000148\n",
       "4  Amboori__Thiruvananthapuram   Aruvikkara__Thiruvananthapuram  0.000460\n",
       "5  Amboori__Thiruvananthapuram      Aryanad__Thiruvananthapuram  0.000809\n",
       "6  Amboori__Thiruvananthapuram    Aryancodu__Thiruvananthapuram  0.003573\n",
       "7  Amboori__Thiruvananthapuram  Athiyannoor__Thiruvananthapuram  0.000449\n",
       "8  Amboori__Thiruvananthapuram  Attingal(M)__Thiruvananthapuram  0.000185\n",
       "9  Amboori__Thiruvananthapuram       Azhoor__Thiruvananthapuram  0.000106"
      ]
     },
     "execution_count": 11,
     "metadata": {},
     "output_type": "execute_result"
    }
   ],
   "source": [
    "resultsDF.head(10)"
   ]
  }
 ],
 "metadata": {
  "kernelspec": {
   "display_name": "Python 3",
   "language": "python",
   "name": "python3"
  },
  "language_info": {
   "codemirror_mode": {
    "name": "ipython",
    "version": 3
   },
   "file_extension": ".py",
   "mimetype": "text/x-python",
   "name": "python",
   "nbconvert_exporter": "python",
   "pygments_lexer": "ipython3",
   "version": "3.7.5"
  }
 },
 "nbformat": 4,
 "nbformat_minor": 2
}
