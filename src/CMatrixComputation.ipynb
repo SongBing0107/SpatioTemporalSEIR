{
 "cells": [
  {
   "cell_type": "code",
   "execution_count": 1,
   "metadata": {},
   "outputs": [],
   "source": [
    "import numpy as np;\n",
    "import pandas as pd;"
   ]
  },
  {
   "cell_type": "markdown",
   "metadata": {},
   "source": [
    "## Initialize Parameters"
   ]
  },
  {
   "cell_type": "code",
   "execution_count": 2,
   "metadata": {},
   "outputs": [],
   "source": [
    "## Parameters and Global variables\n",
    "district = \"tvm\"\n"
   ]
  },
  {
   "cell_type": "markdown",
   "metadata": {},
   "source": [
    "## Load and Initialize Data"
   ]
  },
  {
   "cell_type": "code",
   "execution_count": 3,
   "metadata": {},
   "outputs": [],
   "source": [
    "## Population data\n",
    "initDataDF = pd.read_csv(\"../data/\" + district + \"_init_data.csv\")\n",
    "\n",
    "## Number of regions\n",
    "r = len(initDataDF.index)\n",
    "\n",
    "## T-Matrix\n",
    "tData = pd.read_csv(\"../output/\" + district + \"_tmatrix_results.csv\")\n",
    "\n",
    "## Sort distance data by name for easy matrix transformation\n",
    "initDataDF.sort_values(by=['name'], inplace=True)"
   ]
  },
  {
   "cell_type": "code",
   "execution_count": 4,
   "metadata": {},
   "outputs": [
    {
     "data": {
      "text/html": [
       "<div>\n",
       "<style scoped>\n",
       "    .dataframe tbody tr th:only-of-type {\n",
       "        vertical-align: middle;\n",
       "    }\n",
       "\n",
       "    .dataframe tbody tr th {\n",
       "        vertical-align: top;\n",
       "    }\n",
       "\n",
       "    .dataframe thead th {\n",
       "        text-align: right;\n",
       "    }\n",
       "</style>\n",
       "<table border=\"1\" class=\"dataframe\">\n",
       "  <thead>\n",
       "    <tr style=\"text-align: right;\">\n",
       "      <th></th>\n",
       "      <th>Unnamed: 0</th>\n",
       "      <th>iName</th>\n",
       "      <th>jName</th>\n",
       "      <th>Tij</th>\n",
       "    </tr>\n",
       "  </thead>\n",
       "  <tbody>\n",
       "    <tr>\n",
       "      <th>0</th>\n",
       "      <td>0</td>\n",
       "      <td>Amboori</td>\n",
       "      <td>Amboori</td>\n",
       "      <td>15760.800000</td>\n",
       "    </tr>\n",
       "    <tr>\n",
       "      <th>1</th>\n",
       "      <td>1</td>\n",
       "      <td>Amboori</td>\n",
       "      <td>Anad</td>\n",
       "      <td>0.056256</td>\n",
       "    </tr>\n",
       "    <tr>\n",
       "      <th>2</th>\n",
       "      <td>2</td>\n",
       "      <td>Amboori</td>\n",
       "      <td>Anchuthengu</td>\n",
       "      <td>0.004837</td>\n",
       "    </tr>\n",
       "    <tr>\n",
       "      <th>3</th>\n",
       "      <td>3</td>\n",
       "      <td>Amboori</td>\n",
       "      <td>Andoorkonam</td>\n",
       "      <td>0.012198</td>\n",
       "    </tr>\n",
       "    <tr>\n",
       "      <th>4</th>\n",
       "      <td>4</td>\n",
       "      <td>Amboori</td>\n",
       "      <td>Aruvikkara</td>\n",
       "      <td>0.127005</td>\n",
       "    </tr>\n",
       "  </tbody>\n",
       "</table>\n",
       "</div>"
      ],
      "text/plain": [
       "   Unnamed: 0    iName        jName           Tij\n",
       "0           0  Amboori      Amboori  15760.800000\n",
       "1           1  Amboori         Anad      0.056256\n",
       "2           2  Amboori  Anchuthengu      0.004837\n",
       "3           3  Amboori  Andoorkonam      0.012198\n",
       "4           4  Amboori   Aruvikkara      0.127005"
      ]
     },
     "execution_count": 4,
     "metadata": {},
     "output_type": "execute_result"
    }
   ],
   "source": [
    "tData.head(5)\n",
    "# TODO fix the unnamed colum"
   ]
  },
  {
   "cell_type": "markdown",
   "metadata": {},
   "source": [
    "## Prepare T-Matrix"
   ]
  },
  {
   "cell_type": "code",
   "execution_count": 5,
   "metadata": {},
   "outputs": [],
   "source": [
    "\n",
    "tMatrix = tData['Tij'].to_numpy().reshape(r-1,r-1)\n"
   ]
  },
  {
   "cell_type": "markdown",
   "metadata": {},
   "source": [
    "## Function Definition"
   ]
  },
  {
   "cell_type": "code",
   "execution_count": 6,
   "metadata": {},
   "outputs": [],
   "source": [
    "def getCij(i, j, tMatrix, initDataDF):\n",
    "    Ni = initDataDF.iloc[i]['S']\n",
    "    cwSum = 0\n",
    "    for k in range(0,r-1):\n",
    "        Tik = tMatrix[i][k]\n",
    "        Tjk = tMatrix[j][k]\n",
    "        TlkSum = 0;\n",
    "\n",
    "        for l in range(0, r-1):\n",
    "            TlkSum = TlkSum + tMatrix[l][k]\n",
    "        \n",
    "        cwSum = cwSum + (Tik/Ni)*(Tjk/TlkSum)\n",
    "\n",
    "    return cwSum"
   ]
  },
  {
   "cell_type": "code",
   "execution_count": 7,
   "metadata": {},
   "outputs": [
    {
     "data": {
      "text/plain": [
       "5.234899561728604e-06"
      ]
     },
     "execution_count": 7,
     "metadata": {},
     "output_type": "execute_result"
    }
   ],
   "source": [
    "getCij(0,1, tMatrix, initDataDF)"
   ]
  },
  {
   "cell_type": "markdown",
   "metadata": {},
   "source": [
    "## Compute C-Matrix"
   ]
  },
  {
   "cell_type": "code",
   "execution_count": 8,
   "metadata": {},
   "outputs": [],
   "source": [
    "resultsDF = pd.DataFrame(columns=['iName', 'jName', 'Cij'], );\n",
    "for i in range(0,r-1):\n",
    "    for j in range(0,r-1):\n",
    "        Cij = getCij(i,j,tMatrix, initDataDF)\n",
    "        resultsDF = resultsDF.append({'iName': initDataDF.iloc[i]['name'], 'jName': initDataDF.iloc[j]['name'], 'Cij': Cij},ignore_index=True)\n",
    " "
   ]
  },
  {
   "cell_type": "markdown",
   "metadata": {},
   "source": [
    "## Save Output"
   ]
  },
  {
   "cell_type": "code",
   "execution_count": 9,
   "metadata": {},
   "outputs": [],
   "source": [
    "resultsDF.to_csv(\"../output/\" + district + \"_cmatrix_results.csv\")"
   ]
  },
  {
   "cell_type": "code",
   "execution_count": 10,
   "metadata": {},
   "outputs": [
    {
     "data": {
      "text/html": [
       "<div>\n",
       "<style scoped>\n",
       "    .dataframe tbody tr th:only-of-type {\n",
       "        vertical-align: middle;\n",
       "    }\n",
       "\n",
       "    .dataframe tbody tr th {\n",
       "        vertical-align: top;\n",
       "    }\n",
       "\n",
       "    .dataframe thead th {\n",
       "        text-align: right;\n",
       "    }\n",
       "</style>\n",
       "<table border=\"1\" class=\"dataframe\">\n",
       "  <thead>\n",
       "    <tr style=\"text-align: right;\">\n",
       "      <th></th>\n",
       "      <th>iName</th>\n",
       "      <th>jName</th>\n",
       "      <th>Cij</th>\n",
       "    </tr>\n",
       "  </thead>\n",
       "  <tbody>\n",
       "    <tr>\n",
       "      <th>0</th>\n",
       "      <td>Amboori</td>\n",
       "      <td>Amboori</td>\n",
       "      <td>9.806858e-01</td>\n",
       "    </tr>\n",
       "    <tr>\n",
       "      <th>1</th>\n",
       "      <td>Amboori</td>\n",
       "      <td>Anad</td>\n",
       "      <td>5.234900e-06</td>\n",
       "    </tr>\n",
       "    <tr>\n",
       "      <th>2</th>\n",
       "      <td>Amboori</td>\n",
       "      <td>Anchuthengu</td>\n",
       "      <td>6.438738e-07</td>\n",
       "    </tr>\n",
       "    <tr>\n",
       "      <th>3</th>\n",
       "      <td>Amboori</td>\n",
       "      <td>Andoorkonam</td>\n",
       "      <td>1.806746e-06</td>\n",
       "    </tr>\n",
       "    <tr>\n",
       "      <th>4</th>\n",
       "      <td>Amboori</td>\n",
       "      <td>Aruvikkara</td>\n",
       "      <td>1.064362e-05</td>\n",
       "    </tr>\n",
       "    <tr>\n",
       "      <th>5</th>\n",
       "      <td>Amboori</td>\n",
       "      <td>Aryanad</td>\n",
       "      <td>8.390307e-05</td>\n",
       "    </tr>\n",
       "    <tr>\n",
       "      <th>6</th>\n",
       "      <td>Amboori</td>\n",
       "      <td>Aryancodu</td>\n",
       "      <td>5.063011e-04</td>\n",
       "    </tr>\n",
       "    <tr>\n",
       "      <th>7</th>\n",
       "      <td>Amboori</td>\n",
       "      <td>Athiyannoor</td>\n",
       "      <td>1.009281e-05</td>\n",
       "    </tr>\n",
       "    <tr>\n",
       "      <th>8</th>\n",
       "      <td>Amboori</td>\n",
       "      <td>Attingal(M)</td>\n",
       "      <td>2.374065e-06</td>\n",
       "    </tr>\n",
       "    <tr>\n",
       "      <th>9</th>\n",
       "      <td>Amboori</td>\n",
       "      <td>Azhoor</td>\n",
       "      <td>1.425011e-06</td>\n",
       "    </tr>\n",
       "  </tbody>\n",
       "</table>\n",
       "</div>"
      ],
      "text/plain": [
       "     iName        jName           Cij\n",
       "0  Amboori      Amboori  9.806858e-01\n",
       "1  Amboori         Anad  5.234900e-06\n",
       "2  Amboori  Anchuthengu  6.438738e-07\n",
       "3  Amboori  Andoorkonam  1.806746e-06\n",
       "4  Amboori   Aruvikkara  1.064362e-05\n",
       "5  Amboori      Aryanad  8.390307e-05\n",
       "6  Amboori    Aryancodu  5.063011e-04\n",
       "7  Amboori  Athiyannoor  1.009281e-05\n",
       "8  Amboori  Attingal(M)  2.374065e-06\n",
       "9  Amboori       Azhoor  1.425011e-06"
      ]
     },
     "execution_count": 10,
     "metadata": {},
     "output_type": "execute_result"
    }
   ],
   "source": [
    "resultsDF.head(10)"
   ]
  }
 ],
 "metadata": {
  "kernelspec": {
   "display_name": "Python 3",
   "language": "python",
   "name": "python3"
  },
  "language_info": {
   "codemirror_mode": {
    "name": "ipython",
    "version": 3
   },
   "file_extension": ".py",
   "mimetype": "text/x-python",
   "name": "python",
   "nbconvert_exporter": "python",
   "pygments_lexer": "ipython3",
   "version": "3.7.5"
  }
 },
 "nbformat": 4,
 "nbformat_minor": 2
}
