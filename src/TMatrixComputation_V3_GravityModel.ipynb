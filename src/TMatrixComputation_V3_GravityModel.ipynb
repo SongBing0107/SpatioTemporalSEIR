{
 "cells": [
  {
   "cell_type": "code",
   "execution_count": 1,
   "metadata": {
    "ExecuteTime": {
     "end_time": "2020-04-23T07:06:33.215790Z",
     "start_time": "2020-04-23T07:06:31.764584Z"
    }
   },
   "outputs": [],
   "source": [
    "import numpy as np;\n",
    "import pandas as pd;"
   ]
  },
  {
   "cell_type": "markdown",
   "metadata": {},
   "source": [
    "## Initialize Parameters"
   ]
  },
  {
   "cell_type": "code",
   "execution_count": 2,
   "metadata": {
    "ExecuteTime": {
     "end_time": "2020-04-23T07:06:33.231043Z",
     "start_time": "2020-04-23T07:06:33.218294Z"
    }
   },
   "outputs": [],
   "source": [
    "## parameters and global variables\n",
    "\n",
    "district = \"tvm\"\n",
    "\n",
    "zetaPanchayat = 0.1\n",
    "zetaMunicipality = 0.2\n",
    "zetaCorporation = 0.3\n",
    "\n",
    "\n",
    "muSmall = 0.09\n",
    "muMedium = 0.04\n",
    "muLarge = 0.02"
   ]
  },
  {
   "cell_type": "markdown",
   "metadata": {},
   "source": [
    "## Load and Initialize Data"
   ]
  },
  {
   "cell_type": "code",
   "execution_count": 3,
   "metadata": {
    "ExecuteTime": {
     "end_time": "2020-04-23T07:06:33.342925Z",
     "start_time": "2020-04-23T07:06:33.232934Z"
    }
   },
   "outputs": [
    {
     "data": {
      "text/html": [
       "<div>\n",
       "<style scoped>\n",
       "    .dataframe tbody tr th:only-of-type {\n",
       "        vertical-align: middle;\n",
       "    }\n",
       "\n",
       "    .dataframe tbody tr th {\n",
       "        vertical-align: top;\n",
       "    }\n",
       "\n",
       "    .dataframe thead th {\n",
       "        text-align: right;\n",
       "    }\n",
       "</style>\n",
       "<table border=\"1\" class=\"dataframe\">\n",
       "  <thead>\n",
       "    <tr style=\"text-align: right;\">\n",
       "      <th></th>\n",
       "      <th>name</th>\n",
       "      <th>type</th>\n",
       "      <th>S</th>\n",
       "      <th>E</th>\n",
       "      <th>I</th>\n",
       "      <th>H</th>\n",
       "      <th>R</th>\n",
       "      <th>J</th>\n",
       "      <th>T</th>\n",
       "    </tr>\n",
       "  </thead>\n",
       "  <tbody>\n",
       "    <tr>\n",
       "      <th>62</th>\n",
       "      <td>Thirupuram__Thiruvananthapuram</td>\n",
       "      <td>P</td>\n",
       "      <td>18898</td>\n",
       "      <td>0</td>\n",
       "      <td>0</td>\n",
       "      <td>0</td>\n",
       "      <td>0</td>\n",
       "      <td>1889.8</td>\n",
       "      <td>1700.82</td>\n",
       "    </tr>\n",
       "    <tr>\n",
       "      <th>63</th>\n",
       "      <td>Thiruvananthapuram(C)__Thiruvananthapuram</td>\n",
       "      <td>C</td>\n",
       "      <td>966856</td>\n",
       "      <td>0</td>\n",
       "      <td>0</td>\n",
       "      <td>0</td>\n",
       "      <td>0</td>\n",
       "      <td>290056.8</td>\n",
       "      <td>19337.12</td>\n",
       "    </tr>\n",
       "    <tr>\n",
       "      <th>64</th>\n",
       "      <td>Tholikkodu__Thiruvananthapuram</td>\n",
       "      <td>P</td>\n",
       "      <td>25274</td>\n",
       "      <td>0</td>\n",
       "      <td>0</td>\n",
       "      <td>0</td>\n",
       "      <td>0</td>\n",
       "      <td>2527.4</td>\n",
       "      <td>1010.96</td>\n",
       "    </tr>\n",
       "    <tr>\n",
       "      <th>65</th>\n",
       "      <td>Uzhamalakkal__Thiruvananthapuram</td>\n",
       "      <td>P</td>\n",
       "      <td>21472</td>\n",
       "      <td>0</td>\n",
       "      <td>0</td>\n",
       "      <td>0</td>\n",
       "      <td>0</td>\n",
       "      <td>2147.2</td>\n",
       "      <td>1932.48</td>\n",
       "    </tr>\n",
       "    <tr>\n",
       "      <th>66</th>\n",
       "      <td>Vakkam__Thiruvananthapuram</td>\n",
       "      <td>P</td>\n",
       "      <td>16533</td>\n",
       "      <td>0</td>\n",
       "      <td>0</td>\n",
       "      <td>0</td>\n",
       "      <td>0</td>\n",
       "      <td>1653.3</td>\n",
       "      <td>1487.97</td>\n",
       "    </tr>\n",
       "    <tr>\n",
       "      <th>67</th>\n",
       "      <td>Vamanpuram__Thiruvananthapuram</td>\n",
       "      <td>P</td>\n",
       "      <td>21038</td>\n",
       "      <td>0</td>\n",
       "      <td>0</td>\n",
       "      <td>0</td>\n",
       "      <td>0</td>\n",
       "      <td>2103.8</td>\n",
       "      <td>1893.42</td>\n",
       "    </tr>\n",
       "    <tr>\n",
       "      <th>68</th>\n",
       "      <td>Varkala(M)__Thiruvananthapuram</td>\n",
       "      <td>M</td>\n",
       "      <td>40048</td>\n",
       "      <td>0</td>\n",
       "      <td>0</td>\n",
       "      <td>0</td>\n",
       "      <td>0</td>\n",
       "      <td>8009.6</td>\n",
       "      <td>3604.32</td>\n",
       "    </tr>\n",
       "    <tr>\n",
       "      <th>69</th>\n",
       "      <td>Vellanad__Thiruvananthapuram</td>\n",
       "      <td>P</td>\n",
       "      <td>31156</td>\n",
       "      <td>0</td>\n",
       "      <td>0</td>\n",
       "      <td>0</td>\n",
       "      <td>0</td>\n",
       "      <td>3115.6</td>\n",
       "      <td>2804.04</td>\n",
       "    </tr>\n",
       "    <tr>\n",
       "      <th>70</th>\n",
       "      <td>Vellarada__Thiruvananthapuram</td>\n",
       "      <td>P</td>\n",
       "      <td>40206</td>\n",
       "      <td>0</td>\n",
       "      <td>0</td>\n",
       "      <td>0</td>\n",
       "      <td>0</td>\n",
       "      <td>4020.6</td>\n",
       "      <td>1608.24</td>\n",
       "    </tr>\n",
       "    <tr>\n",
       "      <th>71</th>\n",
       "      <td>Vembayam__Thiruvananthapuram</td>\n",
       "      <td>P</td>\n",
       "      <td>38630</td>\n",
       "      <td>0</td>\n",
       "      <td>0</td>\n",
       "      <td>0</td>\n",
       "      <td>0</td>\n",
       "      <td>3863.0</td>\n",
       "      <td>1545.20</td>\n",
       "    </tr>\n",
       "    <tr>\n",
       "      <th>72</th>\n",
       "      <td>Venganoor__Thiruvananthapuram</td>\n",
       "      <td>P</td>\n",
       "      <td>35963</td>\n",
       "      <td>0</td>\n",
       "      <td>0</td>\n",
       "      <td>0</td>\n",
       "      <td>0</td>\n",
       "      <td>3596.3</td>\n",
       "      <td>3236.67</td>\n",
       "    </tr>\n",
       "    <tr>\n",
       "      <th>73</th>\n",
       "      <td>Vettoor__Thiruvananthapuram</td>\n",
       "      <td>P</td>\n",
       "      <td>18704</td>\n",
       "      <td>0</td>\n",
       "      <td>0</td>\n",
       "      <td>0</td>\n",
       "      <td>0</td>\n",
       "      <td>1870.4</td>\n",
       "      <td>1683.36</td>\n",
       "    </tr>\n",
       "    <tr>\n",
       "      <th>74</th>\n",
       "      <td>Vilappil__Thiruvananthapuram</td>\n",
       "      <td>P</td>\n",
       "      <td>36212</td>\n",
       "      <td>0</td>\n",
       "      <td>0</td>\n",
       "      <td>0</td>\n",
       "      <td>0</td>\n",
       "      <td>3621.2</td>\n",
       "      <td>3259.08</td>\n",
       "    </tr>\n",
       "    <tr>\n",
       "      <th>75</th>\n",
       "      <td>Vilavoorkal__Thiruvananthapuram</td>\n",
       "      <td>P</td>\n",
       "      <td>31761</td>\n",
       "      <td>0</td>\n",
       "      <td>0</td>\n",
       "      <td>0</td>\n",
       "      <td>0</td>\n",
       "      <td>3176.1</td>\n",
       "      <td>2858.49</td>\n",
       "    </tr>\n",
       "    <tr>\n",
       "      <th>76</th>\n",
       "      <td>Vithura__Thiruvananthapuram</td>\n",
       "      <td>P</td>\n",
       "      <td>26249</td>\n",
       "      <td>0</td>\n",
       "      <td>0</td>\n",
       "      <td>0</td>\n",
       "      <td>0</td>\n",
       "      <td>2624.9</td>\n",
       "      <td>524.98</td>\n",
       "    </tr>\n",
       "  </tbody>\n",
       "</table>\n",
       "</div>"
      ],
      "text/plain": [
       "                                         name type       S  E  I  H  R  \\\n",
       "62             Thirupuram__Thiruvananthapuram    P   18898  0  0  0  0   \n",
       "63  Thiruvananthapuram(C)__Thiruvananthapuram    C  966856  0  0  0  0   \n",
       "64             Tholikkodu__Thiruvananthapuram    P   25274  0  0  0  0   \n",
       "65           Uzhamalakkal__Thiruvananthapuram    P   21472  0  0  0  0   \n",
       "66                 Vakkam__Thiruvananthapuram    P   16533  0  0  0  0   \n",
       "67             Vamanpuram__Thiruvananthapuram    P   21038  0  0  0  0   \n",
       "68             Varkala(M)__Thiruvananthapuram    M   40048  0  0  0  0   \n",
       "69               Vellanad__Thiruvananthapuram    P   31156  0  0  0  0   \n",
       "70              Vellarada__Thiruvananthapuram    P   40206  0  0  0  0   \n",
       "71               Vembayam__Thiruvananthapuram    P   38630  0  0  0  0   \n",
       "72              Venganoor__Thiruvananthapuram    P   35963  0  0  0  0   \n",
       "73                Vettoor__Thiruvananthapuram    P   18704  0  0  0  0   \n",
       "74               Vilappil__Thiruvananthapuram    P   36212  0  0  0  0   \n",
       "75            Vilavoorkal__Thiruvananthapuram    P   31761  0  0  0  0   \n",
       "76                Vithura__Thiruvananthapuram    P   26249  0  0  0  0   \n",
       "\n",
       "           J         T  \n",
       "62    1889.8   1700.82  \n",
       "63  290056.8  19337.12  \n",
       "64    2527.4   1010.96  \n",
       "65    2147.2   1932.48  \n",
       "66    1653.3   1487.97  \n",
       "67    2103.8   1893.42  \n",
       "68    8009.6   3604.32  \n",
       "69    3115.6   2804.04  \n",
       "70    4020.6   1608.24  \n",
       "71    3863.0   1545.20  \n",
       "72    3596.3   3236.67  \n",
       "73    1870.4   1683.36  \n",
       "74    3621.2   3259.08  \n",
       "75    3176.1   2858.49  \n",
       "76    2624.9    524.98  "
      ]
     },
     "execution_count": 3,
     "metadata": {},
     "output_type": "execute_result"
    }
   ],
   "source": [
    "## Load population data\n",
    "initDataDF = pd.read_csv(\"../data/\" + district + \"_init_data.csv\")\n",
    "\n",
    "## Load distance data\n",
    "distanceData = pd.read_csv(\"../data/\" + district + \"_distance_matrix.csv\")\n",
    "\n",
    "## Load area data\n",
    "areaData = pd.read_csv(\"../data/\" + district + \"_area_data.csv\")\n",
    "\n",
    "## Number of regions\n",
    "r = len(initDataDF.index)\n",
    "\n",
    "## Sort population data and distance data by name for easy matrix transformation\n",
    "initDataDF.sort_values(by=['name'], inplace=True)\n",
    "distanceData.sort_values(by=['fromName', 'toName'], inplace=True)\n",
    "areaData.sort_values(by=['name'], inplace=True)\n",
    "\n",
    "## TODO Change S to N \n",
    "## Rename mu as muFor\n",
    "\n",
    "## Initialize Job \n",
    "initDataDF.loc[initDataDF['type']=='P','J'] = initDataDF[initDataDF['type']=='P']['S']*zetaPanchayat\n",
    "initDataDF.loc[initDataDF['type']=='M','J'] = initDataDF[initDataDF['type']=='M']['S']*zetaMunicipality\n",
    "initDataDF.loc[initDataDF['type']=='C','J'] = initDataDF[initDataDF['type']=='C']['S']*zetaCorporation\n",
    "\n",
    "## Initialize T\n",
    "areaData['areaSqKm'] = areaData['area']/(1000*1000)\n",
    "\n",
    "initDataDF.loc[areaData['areaSqKm'] <= 25,'T'] = initDataDF[areaData['areaSqKm'] <= 25]['S']*muSmall\n",
    "initDataDF.loc[(areaData['areaSqKm'] > 25) & (areaData['areaSqKm'] <= 100),'T'] = initDataDF[(areaData['areaSqKm'] > 25) & (areaData['areaSqKm'] <= 100)]['S']*muMedium\n",
    "initDataDF.loc[areaData['areaSqKm'] > 100,'T'] = initDataDF[areaData['areaSqKm'] > 100]['S']*muLarge\n",
    "\n",
    "initDataDF.tail(15)"
   ]
  },
  {
   "cell_type": "markdown",
   "metadata": {},
   "source": [
    "## Prepare Distance matrix"
   ]
  },
  {
   "cell_type": "code",
   "execution_count": 4,
   "metadata": {
    "ExecuteTime": {
     "end_time": "2020-04-23T07:06:33.353529Z",
     "start_time": "2020-04-23T07:06:33.345145Z"
    }
   },
   "outputs": [
    {
     "data": {
      "text/plain": [
       "array([[    1, 25049, 52074, ..., 17064, 19018, 19149],\n",
       "       [25049,     1, 28368, ..., 12943, 16264, 14846],\n",
       "       [52074, 28368,     1, ..., 35843, 36125, 42371],\n",
       "       ...,\n",
       "       [17064, 12943, 35843, ...,     1,  4233, 19475],\n",
       "       [19018, 16264, 36125, ...,  4233,     1, 23689],\n",
       "       [19149, 14846, 42371, ..., 19475, 23689,     1]])"
      ]
     },
     "execution_count": 4,
     "metadata": {},
     "output_type": "execute_result"
    }
   ],
   "source": [
    "distanceMatrix = distanceData['value'].to_numpy().reshape(r,r)\n",
    "np.fill_diagonal(distanceMatrix,1)\n",
    "distanceMatrix"
   ]
  },
  {
   "cell_type": "code",
   "execution_count": 5,
   "metadata": {
    "ExecuteTime": {
     "end_time": "2020-04-23T07:06:33.363876Z",
     "start_time": "2020-04-23T07:06:33.355518Z"
    }
   },
   "outputs": [
    {
     "data": {
      "text/plain": [
       "array([[1592. , 3168.7, 1739.6, ..., 3621.2, 3176.1, 2624.9],\n",
       "       [1592. , 3168.7, 1739.6, ..., 3621.2, 3176.1, 2624.9],\n",
       "       [1592. , 3168.7, 1739.6, ..., 3621.2, 3176.1, 2624.9],\n",
       "       ...,\n",
       "       [1592. , 3168.7, 1739.6, ..., 3621.2, 3176.1, 2624.9],\n",
       "       [1592. , 3168.7, 1739.6, ..., 3621.2, 3176.1, 2624.9],\n",
       "       [1592. , 3168.7, 1739.6, ..., 3621.2, 3176.1, 2624.9]])"
      ]
     },
     "execution_count": 5,
     "metadata": {},
     "output_type": "execute_result"
    }
   ],
   "source": [
    "initDataDF['J'].to_numpy()\n",
    "np.tile(initDataDF['J'].to_numpy(),(r,1))"
   ]
  },
  {
   "cell_type": "code",
   "execution_count": 6,
   "metadata": {
    "ExecuteTime": {
     "end_time": "2020-04-23T07:06:33.379190Z",
     "start_time": "2020-04-23T07:06:33.366115Z"
    }
   },
   "outputs": [
    {
     "data": {
      "text/plain": [
       "matrix([[0.5, 0.5],\n",
       "        [1.5, 1. ]])"
      ]
     },
     "execution_count": 6,
     "metadata": {},
     "output_type": "execute_result"
    }
   ],
   "source": [
    "a1 = np.asmatrix([[1,2], [3,4]])\n",
    "a2 = np.asmatrix([[2,4], [2,4]])\n",
    "\n",
    "np.multiply(a1,a1)\n",
    "a1/a2"
   ]
  },
  {
   "cell_type": "code",
   "execution_count": 7,
   "metadata": {
    "ExecuteTime": {
     "end_time": "2020-04-23T07:06:33.407040Z",
     "start_time": "2020-04-23T07:06:33.384673Z"
    }
   },
   "outputs": [
    {
     "data": {
      "text/plain": [
       "array([[0.00000000e+00, 5.05010419e-06, 6.41516043e-07, ...,\n",
       "        1.24362896e-05, 8.78141459e-06, 7.15847586e-06],\n",
       "       [2.53724426e-06, 0.00000000e+00, 2.16168278e-06, ...,\n",
       "        2.16163622e-05, 1.20071362e-05, 1.19095088e-05],\n",
       "       [5.87085273e-07, 3.93752829e-06, 0.00000000e+00, ...,\n",
       "        2.81866724e-06, 2.43376396e-06, 1.46209414e-06],\n",
       "       ...,\n",
       "       [5.46740667e-06, 1.89152124e-05, 1.35406869e-06, ...,\n",
       "        0.00000000e+00, 1.77254647e-04, 6.92082440e-06],\n",
       "       [4.40162842e-06, 1.19791607e-05, 1.33301086e-06, ...,\n",
       "        2.02095189e-04, 0.00000000e+00, 4.67755935e-06],\n",
       "       [4.34161056e-06, 1.43767993e-05, 9.68973659e-07, ...,\n",
       "        9.54767394e-06, 5.65979514e-06, 0.00000000e+00]])"
      ]
     },
     "execution_count": 7,
     "metadata": {},
     "output_type": "execute_result"
    }
   ],
   "source": [
    "tPropMatrix = np.tile(initDataDF['J'].to_numpy(),(r,1))/np.multiply(distanceMatrix,distanceMatrix)\n",
    "np.fill_diagonal(tPropMatrix,0)\n",
    "tPropMatrix"
   ]
  },
  {
   "cell_type": "markdown",
   "metadata": {},
   "source": [
    "## Function Definitions"
   ]
  },
  {
   "cell_type": "code",
   "execution_count": 8,
   "metadata": {
    "ExecuteTime": {
     "end_time": "2020-04-23T07:06:33.418804Z",
     "start_time": "2020-04-23T07:06:33.411258Z"
    }
   },
   "outputs": [],
   "source": [
    "def getTij(i,j,distanceMatrix, initDataDF, tPropMatrix):\n",
    "    Ti = initDataDF.iloc[i]['T']\n",
    "\n",
    "    if(i==j):\n",
    "        Ni = initDataDF.iloc[i]['S']\n",
    "        return Ni - Ti; ## TODO Fix this later with Ni - Tij\n",
    "    \n",
    "    Tjprop = tPropMatrix[i][j]\n",
    "    TjpropSum = tPropMatrix[i].sum();\n",
    "    ## TODO move this tPropMatrix computation.\n",
    "    return Ti*Tjprop/TjpropSum;\n",
    "    \n",
    "    "
   ]
  },
  {
   "cell_type": "markdown",
   "metadata": {},
   "source": [
    "## Compute TMatrix"
   ]
  },
  {
   "cell_type": "code",
   "execution_count": 9,
   "metadata": {
    "ExecuteTime": {
     "end_time": "2020-04-23T07:06:36.869706Z",
     "start_time": "2020-04-23T07:06:33.421944Z"
    }
   },
   "outputs": [],
   "source": [
    "data = []\n",
    "\n",
    "for i in range(0,r):\n",
    "    for j in range(0,r):\n",
    "        Tij = getTij(i,j,distanceMatrix, initDataDF, tPropMatrix)\n",
    "        data.append({'iName': initDataDF.iloc[i]['name'], 'jName': initDataDF.iloc[j]['name'], 'Tij': Tij});\n",
    "        \n",
    "resultsDF = pd.DataFrame(data);\n"
   ]
  },
  {
   "cell_type": "markdown",
   "metadata": {},
   "source": [
    "## Save output"
   ]
  },
  {
   "cell_type": "code",
   "execution_count": 10,
   "metadata": {
    "ExecuteTime": {
     "end_time": "2020-04-23T07:06:36.942801Z",
     "start_time": "2020-04-23T07:06:36.872253Z"
    }
   },
   "outputs": [],
   "source": [
    "resultsDF.to_csv(\"../output/\" + district + \"_tmatrix_results.csv\")"
   ]
  },
  {
   "cell_type": "code",
   "execution_count": null,
   "metadata": {},
   "outputs": [],
   "source": [
    "## TOP 5 per each region together with nos."
   ]
  }
 ],
 "metadata": {
  "kernelspec": {
   "display_name": "Python 3",
   "language": "python",
   "name": "python3"
  },
  "language_info": {
   "codemirror_mode": {
    "name": "ipython",
    "version": 3
   },
   "file_extension": ".py",
   "mimetype": "text/x-python",
   "name": "python",
   "nbconvert_exporter": "python",
   "pygments_lexer": "ipython3",
   "version": "3.7.5"
  }
 },
 "nbformat": 4,
 "nbformat_minor": 2
}
