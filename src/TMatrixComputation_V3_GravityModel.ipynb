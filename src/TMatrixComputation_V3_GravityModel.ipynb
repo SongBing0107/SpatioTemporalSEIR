{
 "cells": [
  {
   "cell_type": "code",
   "execution_count": 1,
   "metadata": {
    "ExecuteTime": {
     "end_time": "2020-04-24T06:02:50.878589Z",
     "start_time": "2020-04-24T06:02:49.807232Z"
    }
   },
   "outputs": [],
   "source": [
    "import numpy as np;\n",
    "import pandas as pd;\n"
   ]
  },
  {
   "cell_type": "markdown",
   "metadata": {},
   "source": [
    "## Initialize Parameters"
   ]
  },
  {
   "cell_type": "code",
   "execution_count": 2,
   "metadata": {
    "ExecuteTime": {
     "end_time": "2020-04-24T06:02:50.888608Z",
     "start_time": "2020-04-24T06:02:50.880056Z"
    }
   },
   "outputs": [],
   "source": [
    "## parameters and global variables\n",
    "\n",
    "district = \"all\"\n",
    "\n",
    "zetaPanchayat = 0.1\n",
    "zetaMunicipality = 0.2\n",
    "zetaCorporation = 0.3\n",
    "\n",
    "\n",
    "muForSmall = 0.09\n",
    "muForMedium = 0.04\n",
    "muForLarge = 0.02\n",
    "\n"
   ]
  },
  {
   "cell_type": "markdown",
   "metadata": {},
   "source": [
    "## Load and Initialize Data"
   ]
  },
  {
   "cell_type": "code",
   "execution_count": 3,
   "metadata": {
    "ExecuteTime": {
     "end_time": "2020-04-24T06:02:51.983837Z",
     "start_time": "2020-04-24T06:02:50.891914Z"
    }
   },
   "outputs": [
    {
     "name": "stderr",
     "output_type": "stream",
     "text": [
      "/Users/sreeramh/anaconda3/lib/python3.7/site-packages/ipykernel_launcher.py:27: UserWarning: Boolean Series key will be reindexed to match DataFrame index.\n",
      "/Users/sreeramh/anaconda3/lib/python3.7/site-packages/ipykernel_launcher.py:28: UserWarning: Boolean Series key will be reindexed to match DataFrame index.\n",
      "/Users/sreeramh/anaconda3/lib/python3.7/site-packages/ipykernel_launcher.py:29: UserWarning: Boolean Series key will be reindexed to match DataFrame index.\n"
     ]
    },
    {
     "data": {
      "text/html": [
       "<div>\n",
       "<style scoped>\n",
       "    .dataframe tbody tr th:only-of-type {\n",
       "        vertical-align: middle;\n",
       "    }\n",
       "\n",
       "    .dataframe tbody tr th {\n",
       "        vertical-align: top;\n",
       "    }\n",
       "\n",
       "    .dataframe thead th {\n",
       "        text-align: right;\n",
       "    }\n",
       "</style>\n",
       "<table border=\"1\" class=\"dataframe\">\n",
       "  <thead>\n",
       "    <tr style=\"text-align: right;\">\n",
       "      <th></th>\n",
       "      <th>name</th>\n",
       "      <th>type</th>\n",
       "      <th>S</th>\n",
       "      <th>E</th>\n",
       "      <th>I</th>\n",
       "      <th>H</th>\n",
       "      <th>R</th>\n",
       "      <th>N</th>\n",
       "      <th>J</th>\n",
       "      <th>T</th>\n",
       "    </tr>\n",
       "  </thead>\n",
       "  <tbody>\n",
       "    <tr>\n",
       "      <th>1021</th>\n",
       "      <td>Vettikkavala__Kollam</td>\n",
       "      <td>P</td>\n",
       "      <td>36204</td>\n",
       "      <td>0</td>\n",
       "      <td>0</td>\n",
       "      <td>0</td>\n",
       "      <td>0</td>\n",
       "      <td>36204</td>\n",
       "      <td>3620.4</td>\n",
       "      <td>1448.16</td>\n",
       "    </tr>\n",
       "    <tr>\n",
       "      <th>1022</th>\n",
       "      <td>Vettom__Malappuram</td>\n",
       "      <td>P</td>\n",
       "      <td>6577</td>\n",
       "      <td>0</td>\n",
       "      <td>0</td>\n",
       "      <td>0</td>\n",
       "      <td>0</td>\n",
       "      <td>6577</td>\n",
       "      <td>657.7</td>\n",
       "      <td>263.08</td>\n",
       "    </tr>\n",
       "    <tr>\n",
       "      <th>1023</th>\n",
       "      <td>Vettoor__Thiruvananthapuram</td>\n",
       "      <td>P</td>\n",
       "      <td>18704</td>\n",
       "      <td>0</td>\n",
       "      <td>0</td>\n",
       "      <td>0</td>\n",
       "      <td>0</td>\n",
       "      <td>18704</td>\n",
       "      <td>1870.4</td>\n",
       "      <td>748.16</td>\n",
       "    </tr>\n",
       "    <tr>\n",
       "      <th>1024</th>\n",
       "      <td>Vijayapuram__Kottayam</td>\n",
       "      <td>P</td>\n",
       "      <td>30838</td>\n",
       "      <td>0</td>\n",
       "      <td>0</td>\n",
       "      <td>0</td>\n",
       "      <td>0</td>\n",
       "      <td>30838</td>\n",
       "      <td>3083.8</td>\n",
       "      <td>1233.52</td>\n",
       "    </tr>\n",
       "    <tr>\n",
       "      <th>1025</th>\n",
       "      <td>Vilakudi__Kollam</td>\n",
       "      <td>P</td>\n",
       "      <td>32995</td>\n",
       "      <td>0</td>\n",
       "      <td>0</td>\n",
       "      <td>0</td>\n",
       "      <td>0</td>\n",
       "      <td>32995</td>\n",
       "      <td>3299.5</td>\n",
       "      <td>2969.55</td>\n",
       "    </tr>\n",
       "    <tr>\n",
       "      <th>1026</th>\n",
       "      <td>Vilappil__Thiruvananthapuram</td>\n",
       "      <td>P</td>\n",
       "      <td>36212</td>\n",
       "      <td>0</td>\n",
       "      <td>0</td>\n",
       "      <td>0</td>\n",
       "      <td>0</td>\n",
       "      <td>36212</td>\n",
       "      <td>3621.2</td>\n",
       "      <td>3259.08</td>\n",
       "    </tr>\n",
       "    <tr>\n",
       "      <th>1027</th>\n",
       "      <td>Vilavoorkal__Thiruvananthapuram</td>\n",
       "      <td>P</td>\n",
       "      <td>31761</td>\n",
       "      <td>0</td>\n",
       "      <td>0</td>\n",
       "      <td>0</td>\n",
       "      <td>0</td>\n",
       "      <td>31761</td>\n",
       "      <td>3176.1</td>\n",
       "      <td>1270.44</td>\n",
       "    </tr>\n",
       "    <tr>\n",
       "      <th>1028</th>\n",
       "      <td>Vilayoor__Palakkad</td>\n",
       "      <td>P</td>\n",
       "      <td>23389</td>\n",
       "      <td>0</td>\n",
       "      <td>0</td>\n",
       "      <td>0</td>\n",
       "      <td>0</td>\n",
       "      <td>23389</td>\n",
       "      <td>2338.9</td>\n",
       "      <td>2105.01</td>\n",
       "    </tr>\n",
       "    <tr>\n",
       "      <th>1029</th>\n",
       "      <td>Villiyappally__Kozhikode</td>\n",
       "      <td>P</td>\n",
       "      <td>34502</td>\n",
       "      <td>0</td>\n",
       "      <td>0</td>\n",
       "      <td>0</td>\n",
       "      <td>0</td>\n",
       "      <td>34502</td>\n",
       "      <td>3450.2</td>\n",
       "      <td>1380.08</td>\n",
       "    </tr>\n",
       "    <tr>\n",
       "      <th>1030</th>\n",
       "      <td>Vithura__Thiruvananthapuram</td>\n",
       "      <td>P</td>\n",
       "      <td>26249</td>\n",
       "      <td>0</td>\n",
       "      <td>0</td>\n",
       "      <td>0</td>\n",
       "      <td>0</td>\n",
       "      <td>26249</td>\n",
       "      <td>2624.9</td>\n",
       "      <td>2362.41</td>\n",
       "    </tr>\n",
       "    <tr>\n",
       "      <th>1031</th>\n",
       "      <td>Vorkady__Kasaragod</td>\n",
       "      <td>P</td>\n",
       "      <td>25756</td>\n",
       "      <td>0</td>\n",
       "      <td>0</td>\n",
       "      <td>0</td>\n",
       "      <td>0</td>\n",
       "      <td>25756</td>\n",
       "      <td>2575.6</td>\n",
       "      <td>1030.24</td>\n",
       "    </tr>\n",
       "    <tr>\n",
       "      <th>1032</th>\n",
       "      <td>Vythiri__Wayanad</td>\n",
       "      <td>P</td>\n",
       "      <td>4159</td>\n",
       "      <td>0</td>\n",
       "      <td>0</td>\n",
       "      <td>0</td>\n",
       "      <td>0</td>\n",
       "      <td>4159</td>\n",
       "      <td>415.9</td>\n",
       "      <td>83.18</td>\n",
       "    </tr>\n",
       "    <tr>\n",
       "      <th>1033</th>\n",
       "      <td>Wandoor__Malappuram</td>\n",
       "      <td>P</td>\n",
       "      <td>10239</td>\n",
       "      <td>0</td>\n",
       "      <td>0</td>\n",
       "      <td>0</td>\n",
       "      <td>0</td>\n",
       "      <td>10239</td>\n",
       "      <td>1023.9</td>\n",
       "      <td>921.51</td>\n",
       "    </tr>\n",
       "    <tr>\n",
       "      <th>1034</th>\n",
       "      <td>West Eleri__Kasaragod</td>\n",
       "      <td>P</td>\n",
       "      <td>29316</td>\n",
       "      <td>0</td>\n",
       "      <td>0</td>\n",
       "      <td>0</td>\n",
       "      <td>0</td>\n",
       "      <td>29316</td>\n",
       "      <td>2931.6</td>\n",
       "      <td>2638.44</td>\n",
       "    </tr>\n",
       "    <tr>\n",
       "      <th>1035</th>\n",
       "      <td>West Kallada__Kollam</td>\n",
       "      <td>P</td>\n",
       "      <td>18176</td>\n",
       "      <td>0</td>\n",
       "      <td>0</td>\n",
       "      <td>0</td>\n",
       "      <td>0</td>\n",
       "      <td>18176</td>\n",
       "      <td>1817.6</td>\n",
       "      <td>1635.84</td>\n",
       "    </tr>\n",
       "  </tbody>\n",
       "</table>\n",
       "</div>"
      ],
      "text/plain": [
       "                                 name type      S  E  I  H  R      N       J  \\\n",
       "1021             Vettikkavala__Kollam    P  36204  0  0  0  0  36204  3620.4   \n",
       "1022               Vettom__Malappuram    P   6577  0  0  0  0   6577   657.7   \n",
       "1023      Vettoor__Thiruvananthapuram    P  18704  0  0  0  0  18704  1870.4   \n",
       "1024            Vijayapuram__Kottayam    P  30838  0  0  0  0  30838  3083.8   \n",
       "1025                 Vilakudi__Kollam    P  32995  0  0  0  0  32995  3299.5   \n",
       "1026     Vilappil__Thiruvananthapuram    P  36212  0  0  0  0  36212  3621.2   \n",
       "1027  Vilavoorkal__Thiruvananthapuram    P  31761  0  0  0  0  31761  3176.1   \n",
       "1028               Vilayoor__Palakkad    P  23389  0  0  0  0  23389  2338.9   \n",
       "1029         Villiyappally__Kozhikode    P  34502  0  0  0  0  34502  3450.2   \n",
       "1030      Vithura__Thiruvananthapuram    P  26249  0  0  0  0  26249  2624.9   \n",
       "1031               Vorkady__Kasaragod    P  25756  0  0  0  0  25756  2575.6   \n",
       "1032                 Vythiri__Wayanad    P   4159  0  0  0  0   4159   415.9   \n",
       "1033              Wandoor__Malappuram    P  10239  0  0  0  0  10239  1023.9   \n",
       "1034            West Eleri__Kasaragod    P  29316  0  0  0  0  29316  2931.6   \n",
       "1035             West Kallada__Kollam    P  18176  0  0  0  0  18176  1817.6   \n",
       "\n",
       "            T  \n",
       "1021  1448.16  \n",
       "1022   263.08  \n",
       "1023   748.16  \n",
       "1024  1233.52  \n",
       "1025  2969.55  \n",
       "1026  3259.08  \n",
       "1027  1270.44  \n",
       "1028  2105.01  \n",
       "1029  1380.08  \n",
       "1030  2362.41  \n",
       "1031  1030.24  \n",
       "1032    83.18  \n",
       "1033   921.51  \n",
       "1034  2638.44  \n",
       "1035  1635.84  "
      ]
     },
     "execution_count": 3,
     "metadata": {},
     "output_type": "execute_result"
    }
   ],
   "source": [
    "## Load population data\n",
    "initDataDF = pd.read_csv(\"../data/\" + district + \"_init_data.csv\")\n",
    "\n",
    "## Load distance data\n",
    "distanceData = pd.read_csv(\"../data/\" + district + \"_distance_matrix.csv\")\n",
    "\n",
    "## Load area data\n",
    "areaData = pd.read_csv(\"../data/\" + district + \"_area_data.csv\")\n",
    "\n",
    "## Number of regions\n",
    "r = len(initDataDF.index)\n",
    "\n",
    "## Sort population data and distance data by name for easy matrix transformation\n",
    "initDataDF.sort_values(by=['name'], inplace=True)\n",
    "distanceData.sort_values(by=['fromName', 'toName'], inplace=True)\n",
    "areaData.sort_values(by=['name'], inplace=True)\n",
    "\n",
    "\n",
    "## Initialize Job \n",
    "initDataDF.loc[initDataDF['type']=='P','J'] = initDataDF[initDataDF['type']=='P']['N']*zetaPanchayat\n",
    "initDataDF.loc[initDataDF['type']=='M','J'] = initDataDF[initDataDF['type']=='M']['N']*zetaMunicipality\n",
    "initDataDF.loc[initDataDF['type']=='C','J'] = initDataDF[initDataDF['type']=='C']['N']*zetaCorporation\n",
    "\n",
    "## Initialize T\n",
    "areaData['areaSqKm'] = areaData['area']/(1000*1000)\n",
    "\n",
    "initDataDF.loc[areaData['areaSqKm'] <= 25,'T'] = initDataDF[areaData['areaSqKm'] <= 25]['N']*muForSmall\n",
    "initDataDF.loc[(areaData['areaSqKm'] > 25) & (areaData['areaSqKm'] <= 100),'T'] = initDataDF[(areaData['areaSqKm'] > 25) & (areaData['areaSqKm'] <= 100)]['N']*muForMedium\n",
    "initDataDF.loc[areaData['areaSqKm'] > 100,'T'] = initDataDF[areaData['areaSqKm'] > 100]['N']*muForLarge\n",
    "\n",
    "initDataDF.tail(15)"
   ]
  },
  {
   "cell_type": "markdown",
   "metadata": {},
   "source": [
    "## Matrix computation of TMatrix\n",
    "\n",
    "### Prepare Distance matrix"
   ]
  },
  {
   "cell_type": "code",
   "execution_count": 4,
   "metadata": {
    "ExecuteTime": {
     "end_time": "2020-04-24T06:02:52.037083Z",
     "start_time": "2020-04-24T06:02:52.027913Z"
    }
   },
   "outputs": [
    {
     "data": {
      "text/plain": [
       "array([[     1,  62713, 257069, ...,  38737, 153934, 239018],\n",
       "       [ 62713,      1, 194549, ...,  74778, 216606, 176575],\n",
       "       [257069, 194549,      1, ..., 263797, 410410,  18277],\n",
       "       ...,\n",
       "       [ 38737,  74778, 263797, ...,      1, 159119, 246386],\n",
       "       [153934, 216606, 410410, ..., 159119,      1, 392249],\n",
       "       [239018, 176575,  18277, ..., 246386, 392249,      1]])"
      ]
     },
     "execution_count": 4,
     "metadata": {},
     "output_type": "execute_result"
    }
   ],
   "source": [
    "distanceMatrix = distanceData['value'].to_numpy().reshape(r,r)\n",
    "np.fill_diagonal(distanceMatrix,1)\n",
    "distanceMatrix\n"
   ]
  },
  {
   "cell_type": "markdown",
   "metadata": {},
   "source": [
    "### Job matrix"
   ]
  },
  {
   "cell_type": "code",
   "execution_count": 5,
   "metadata": {
    "ExecuteTime": {
     "end_time": "2020-04-24T06:02:52.058906Z",
     "start_time": "2020-04-24T06:02:52.047869Z"
    }
   },
   "outputs": [
    {
     "data": {
      "text/plain": [
       "array([[ 733.8, 3197.3, 3363.8, ..., 1023.9, 2931.6, 1817.6],\n",
       "       [ 733.8, 3197.3, 3363.8, ..., 1023.9, 2931.6, 1817.6],\n",
       "       [ 733.8, 3197.3, 3363.8, ..., 1023.9, 2931.6, 1817.6],\n",
       "       ...,\n",
       "       [ 733.8, 3197.3, 3363.8, ..., 1023.9, 2931.6, 1817.6],\n",
       "       [ 733.8, 3197.3, 3363.8, ..., 1023.9, 2931.6, 1817.6],\n",
       "       [ 733.8, 3197.3, 3363.8, ..., 1023.9, 2931.6, 1817.6]])"
      ]
     },
     "execution_count": 5,
     "metadata": {},
     "output_type": "execute_result"
    }
   ],
   "source": [
    "jobMatrix = np.tile(initDataDF['J'].to_numpy(),(r,1))\n",
    "jobMatrix\n"
   ]
  },
  {
   "cell_type": "markdown",
   "metadata": {},
   "source": [
    "### Job by Distance Square matrix"
   ]
  },
  {
   "cell_type": "code",
   "execution_count": 6,
   "metadata": {
    "ExecuteTime": {
     "end_time": "2020-04-24T06:02:52.085866Z",
     "start_time": "2020-04-24T06:02:52.064138Z"
    }
   },
   "outputs": [
    {
     "name": "stderr",
     "output_type": "stream",
     "text": [
      "/Users/sreeramh/anaconda3/lib/python3.7/site-packages/ipykernel_launcher.py:1: RuntimeWarning: divide by zero encountered in true_divide\n",
      "  \"\"\"Entry point for launching an IPython kernel.\n"
     ]
    },
    {
     "data": {
      "text/plain": [
       "array([[0.00000000e+00, 8.12958235e-07, 5.09015198e-08, ...,\n",
       "        6.82347455e-07, 1.23718773e-07, 3.18153788e-08],\n",
       "       [1.86578911e-07, 0.00000000e+00, 8.88734748e-08, ...,\n",
       "        1.83109068e-07, 6.24832698e-08, 5.82961514e-08],\n",
       "       [1.11039703e-08, 8.44744518e-08, 0.00000000e+00, ...,\n",
       "        1.47135625e-08, 1.74047923e-08, 5.44112233e-06],\n",
       "       ...,\n",
       "       [4.89019008e-07, 5.71788869e-07, 4.83381986e-08, ...,\n",
       "        0.00000000e+00, 1.15787221e-07, 2.99409972e-08],\n",
       "       [3.09676748e-08, 6.81463223e-08, 1.99707464e-08, ...,\n",
       "        4.04402155e-08, 0.00000000e+00, 1.18133922e-08],\n",
       "       [1.28444789e-08, 1.02547472e-07, 1.00697884e-05, ...,\n",
       "        1.68665201e-08, 1.90537746e-08, 0.00000000e+00]])"
      ]
     },
     "execution_count": 6,
     "metadata": {},
     "output_type": "execute_result"
    }
   ],
   "source": [
    "tPropJByDSqMatrix = jobMatrix/np.multiply(distanceMatrix,distanceMatrix)\n",
    "np.fill_diagonal(tPropJByDSqMatrix,0)\n",
    "tPropJByDSqMatrix\n"
   ]
  },
  {
   "cell_type": "markdown",
   "metadata": {},
   "source": [
    "### Sum of Job by Distance Square matrix"
   ]
  },
  {
   "cell_type": "code",
   "execution_count": 7,
   "metadata": {
    "ExecuteTime": {
     "end_time": "2020-04-24T06:02:52.107736Z",
     "start_time": "2020-04-24T06:02:52.096157Z"
    }
   },
   "outputs": [
    {
     "data": {
      "text/plain": [
       "array([[0.00263173, 0.00263173, 0.00263173, ..., 0.00263173, 0.00263173,\n",
       "        0.00263173],\n",
       "       [0.00343086, 0.00343086, 0.00343086, ..., 0.00343086, 0.00343086,\n",
       "        0.00343086],\n",
       "       [0.0036829 , 0.0036829 , 0.0036829 , ..., 0.0036829 , 0.0036829 ,\n",
       "        0.0036829 ],\n",
       "       ...,\n",
       "       [0.000885  , 0.000885  , 0.000885  , ..., 0.000885  , 0.000885  ,\n",
       "        0.000885  ],\n",
       "       [0.0006826 , 0.0006826 , 0.0006826 , ..., 0.0006826 , 0.0006826 ,\n",
       "        0.0006826 ],\n",
       "       [0.00333536, 0.00333536, 0.00333536, ..., 0.00333536, 0.00333536,\n",
       "        0.00333536]])"
      ]
     },
     "execution_count": 7,
     "metadata": {},
     "output_type": "execute_result"
    }
   ],
   "source": [
    "tPropMatrixSum = np.tile(tPropJByDSqMatrix.sum(axis=1),(r,1)).T\n",
    "tPropMatrixSum"
   ]
  },
  {
   "cell_type": "markdown",
   "metadata": {
    "ExecuteTime": {
     "end_time": "2020-04-24T05:08:18.147456Z",
     "start_time": "2020-04-24T05:08:18.133249Z"
    }
   },
   "source": [
    "### Ti propotion matrix"
   ]
  },
  {
   "cell_type": "code",
   "execution_count": 8,
   "metadata": {
    "ExecuteTime": {
     "end_time": "2020-04-24T06:02:52.153223Z",
     "start_time": "2020-04-24T06:02:52.115506Z"
    }
   },
   "outputs": [
    {
     "name": "stderr",
     "output_type": "stream",
     "text": [
      "/Users/sreeramh/anaconda3/lib/python3.7/site-packages/ipykernel_launcher.py:1: RuntimeWarning: invalid value encountered in true_divide\n",
      "  \"\"\"Entry point for launching an IPython kernel.\n"
     ]
    },
    {
     "data": {
      "text/plain": [
       "array([[0.00000000e+00, 3.08906795e-04, 1.93414922e-05, ...,\n",
       "        2.59277483e-04, 4.70104956e-05, 1.20891655e-05],\n",
       "       [5.43824846e-05, 0.00000000e+00, 2.59041086e-05, ...,\n",
       "        5.33711233e-05, 1.82121090e-05, 1.69916822e-05],\n",
       "       [3.01500510e-06, 2.29369222e-05, 0.00000000e+00, ...,\n",
       "        3.99509948e-06, 4.72583554e-06, 1.47740053e-03],\n",
       "       ...,\n",
       "       [5.52564225e-04, 6.46089555e-04, 5.46194704e-05, ...,\n",
       "        0.00000000e+00, 1.30833107e-04, 3.38316581e-05],\n",
       "       [4.53673961e-05, 9.98338175e-05, 2.92569839e-05, ...,\n",
       "        5.92445925e-05, 0.00000000e+00, 1.73065252e-05],\n",
       "       [3.85100075e-06, 3.07455361e-05, 3.01909970e-03, ...,\n",
       "        5.05687946e-06, 5.71265682e-06, 0.00000000e+00]])"
      ]
     },
     "execution_count": 8,
     "metadata": {},
     "output_type": "execute_result"
    }
   ],
   "source": [
    "tPropMatrix = tPropJByDSqMatrix/tPropMatrixSum\n",
    "tPropMatrix"
   ]
  },
  {
   "cell_type": "markdown",
   "metadata": {},
   "source": [
    "### Ti matrix \n",
    "`number of people traveling out of region-i`"
   ]
  },
  {
   "cell_type": "code",
   "execution_count": 9,
   "metadata": {
    "ExecuteTime": {
     "end_time": "2020-04-24T06:02:52.168610Z",
     "start_time": "2020-04-24T06:02:52.159032Z"
    }
   },
   "outputs": [
    {
     "data": {
      "text/plain": [
       "array([[ 293.52,  293.52,  293.52, ...,  293.52,  293.52,  293.52],\n",
       "       [2877.57, 2877.57, 2877.57, ..., 2877.57, 2877.57, 2877.57],\n",
       "       [3027.42, 3027.42, 3027.42, ..., 3027.42, 3027.42, 3027.42],\n",
       "       ...,\n",
       "       [ 921.51,  921.51,  921.51, ...,  921.51,  921.51,  921.51],\n",
       "       [2638.44, 2638.44, 2638.44, ..., 2638.44, 2638.44, 2638.44],\n",
       "       [1635.84, 1635.84, 1635.84, ..., 1635.84, 1635.84, 1635.84]])"
      ]
     },
     "execution_count": 9,
     "metadata": {},
     "output_type": "execute_result"
    }
   ],
   "source": [
    "TiMatrix = np.tile(initDataDF['T'].to_numpy(),(r,1)).T\n",
    "TiMatrix"
   ]
  },
  {
   "cell_type": "markdown",
   "metadata": {},
   "source": [
    "### Tij Matrix"
   ]
  },
  {
   "cell_type": "code",
   "execution_count": 10,
   "metadata": {
    "ExecuteTime": {
     "end_time": "2020-04-24T06:02:52.187245Z",
     "start_time": "2020-04-24T06:02:52.171104Z"
    }
   },
   "outputs": [
    {
     "data": {
      "text/plain": [
       "array([[0.00000000e+00, 9.06703223e-02, 5.67711478e-03, ...,\n",
       "        7.61031268e-02, 1.37985207e-02, 3.54841187e-03],\n",
       "       [1.56489406e-01, 0.00000000e+00, 7.45408858e-02, ...,\n",
       "        1.53579143e-01, 5.24066184e-02, 4.88947548e-02],\n",
       "       [9.12768673e-03, 6.94396970e-02, 0.00000000e+00, ...,\n",
       "        1.20948441e-02, 1.43070890e-02, 4.47271191e+00],\n",
       "       ...,\n",
       "       [5.09193459e-01, 5.95377986e-01, 5.03323882e-02, ...,\n",
       "        0.00000000e+00, 1.20564016e-01, 3.11762113e-02],\n",
       "       [1.19699153e-01, 2.63405537e-01, 7.71927967e-02, ...,\n",
       "        1.56313303e-01, 0.00000000e+00, 4.56622284e-02],\n",
       "       [6.29962107e-03, 5.02947778e-02, 4.93876405e+00, ...,\n",
       "        8.27224569e-03, 9.34499253e-03, 0.00000000e+00]])"
      ]
     },
     "execution_count": 10,
     "metadata": {},
     "output_type": "execute_result"
    }
   ],
   "source": [
    "TijMatrix = np.multiply(TiMatrix, tPropMatrix)\n",
    "TijMatrix"
   ]
  },
  {
   "cell_type": "markdown",
   "metadata": {},
   "source": [
    "### Add Ni - Tij to diagonal elements"
   ]
  },
  {
   "cell_type": "code",
   "execution_count": 11,
   "metadata": {
    "ExecuteTime": {
     "end_time": "2020-04-24T06:02:52.205583Z",
     "start_time": "2020-04-24T06:02:52.189377Z"
    }
   },
   "outputs": [
    {
     "data": {
      "text/plain": [
       "array([[7.04448000e+03, 9.06703223e-02, 5.67711478e-03, ...,\n",
       "        7.61031268e-02, 1.37985207e-02, 3.54841187e-03],\n",
       "       [1.56489406e-01, 2.90954300e+04, 7.45408858e-02, ...,\n",
       "        1.53579143e-01, 5.24066184e-02, 4.88947548e-02],\n",
       "       [9.12768673e-03, 6.94396970e-02, 3.06105800e+04, ...,\n",
       "        1.20948441e-02, 1.43070890e-02, 4.47271191e+00],\n",
       "       ...,\n",
       "       [5.09193459e-01, 5.95377986e-01, 5.03323882e-02, ...,\n",
       "        9.31749000e+03, 1.20564016e-01, 3.11762113e-02],\n",
       "       [1.19699153e-01, 2.63405537e-01, 7.71927967e-02, ...,\n",
       "        1.56313303e-01, 2.66775600e+04, 4.56622284e-02],\n",
       "       [6.29962107e-03, 5.02947778e-02, 4.93876405e+00, ...,\n",
       "        8.27224569e-03, 9.34499253e-03, 1.65401600e+04]])"
      ]
     },
     "execution_count": 11,
     "metadata": {},
     "output_type": "execute_result"
    }
   ],
   "source": [
    "row,col = np.diag_indices_from(TijMatrix)\n",
    "TijMatrix[row,col] = initDataDF['N'].to_numpy() - TijMatrix.sum(axis=1)\n",
    "TijMatrix"
   ]
  },
  {
   "cell_type": "markdown",
   "metadata": {
    "ExecuteTime": {
     "end_time": "2020-04-24T05:14:36.245094Z",
     "start_time": "2020-04-24T05:14:36.240507Z"
    }
   },
   "source": [
    "## Save output"
   ]
  },
  {
   "cell_type": "code",
   "execution_count": 12,
   "metadata": {
    "ExecuteTime": {
     "end_time": "2020-04-24T06:08:32.125685Z",
     "start_time": "2020-04-24T06:02:52.209947Z"
    }
   },
   "outputs": [],
   "source": [
    "\n",
    "data = []\n",
    "\n",
    "for i in range(0,r):\n",
    "    for j in range(0,r):\n",
    "        Tij = TijMatrix[i][j]\n",
    "        data.append({'iName': initDataDF.iloc[i]['name'], 'jName': initDataDF.iloc[j]['name'], 'Tij': Tij});\n",
    "        \n",
    "resultsDF = pd.DataFrame(data);\n",
    "\n",
    "resultsDF.to_csv(\"../output/\" + district + \"_tmatrix_results.csv\")\n"
   ]
  },
  {
   "cell_type": "markdown",
   "metadata": {},
   "source": [
    "## Save top 5 "
   ]
  },
  {
   "cell_type": "code",
   "execution_count": 13,
   "metadata": {
    "ExecuteTime": {
     "end_time": "2020-04-24T06:08:32.637939Z",
     "start_time": "2020-04-24T06:08:32.127736Z"
    }
   },
   "outputs": [
    {
     "name": "stderr",
     "output_type": "stream",
     "text": [
      "/Users/sreeramh/anaconda3/lib/python3.7/site-packages/ipykernel_launcher.py:3: SettingWithCopyWarning: \n",
      "A value is trying to be set on a copy of a slice from a DataFrame.\n",
      "Try using .loc[row_indexer,col_indexer] = value instead\n",
      "\n",
      "See the caveats in the documentation: http://pandas.pydata.org/pandas-docs/stable/user_guide/indexing.html#returning-a-view-versus-a-copy\n",
      "  This is separate from the ipykernel package so we can avoid doing imports until\n"
     ]
    }
   ],
   "source": [
    "resultsDF[\"rank\"] = resultsDF.groupby(['iName'])['Tij'].rank(\"dense\", ascending=False)\n",
    "top5resultsDF = resultsDF[resultsDF[\"rank\"] <= 6]\n",
    "top5resultsDF[\"jName_Tij\"] = top5resultsDF[\"jName\"] + \" (\" + top5resultsDF[\"Tij\"].astype(str)  + \")\"\n",
    "top5resultsDFPivot = top5resultsDF.pivot(index=\"iName\", columns=\"rank\", values=\"jName_Tij\")\n",
    "top5resultsDFPivot.to_csv(\"../output/\" + district + \"_tmatrix_top5_regions.csv\")\n"
   ]
  },
  {
   "cell_type": "markdown",
   "metadata": {},
   "source": [
    "## Old Version\n",
    "### Function definition"
   ]
  },
  {
   "cell_type": "markdown",
   "metadata": {
    "ExecuteTime": {
     "end_time": "2020-04-24T04:23:51.346122Z",
     "start_time": "2020-04-24T04:23:51.340029Z"
    }
   },
   "source": [
    "def getTij(i,j,distanceMatrix, initDataDF, tPropMatrix):\n",
    "    Ti = initDataDF.iloc[i]['T']\n",
    "\n",
    "    if(i==j):\n",
    "        return 0;\n",
    "    \n",
    "    Tjprop = tPropMatrix[i][j]\n",
    "    TjpropSum = tPropMatrix[i].sum();\n",
    "    ## TODO move this tPropMatrix computation.\n",
    "    return Ti*Tjprop/TjpropSum;\n",
    "    \n",
    "    "
   ]
  },
  {
   "cell_type": "markdown",
   "metadata": {},
   "source": [
    "### Compute TMatrix"
   ]
  },
  {
   "cell_type": "markdown",
   "metadata": {
    "ExecuteTime": {
     "end_time": "2020-04-24T05:13:41.847593Z",
     "start_time": "2020-04-24T05:13:41.835183Z"
    }
   },
   "source": [
    "\n",
    "data = []\n",
    "\n",
    "for i in range(0,r):\n",
    "    TijSum = 0\n",
    "    for j in range(0,r):\n",
    "        Tij = getTij(i,j,distanceMatrix, initDataDF, tPropMatrix)\n",
    "        TijSum += Tij\n",
    "        data.append({'iName': initDataDF.iloc[i]['name'], 'jName': initDataDF.iloc[j]['name'], 'Tij': Tij});\n",
    "        \n",
    "resultsDF = pd.DataFrame(data);\n",
    "\n"
   ]
  },
  {
   "cell_type": "code",
   "execution_count": null,
   "metadata": {},
   "outputs": [],
   "source": []
  }
 ],
 "metadata": {
  "kernelspec": {
   "display_name": "Python 3",
   "language": "python",
   "name": "python3"
  },
  "language_info": {
   "codemirror_mode": {
    "name": "ipython",
    "version": 3
   },
   "file_extension": ".py",
   "mimetype": "text/x-python",
   "name": "python",
   "nbconvert_exporter": "python",
   "pygments_lexer": "ipython3",
   "version": "3.7.5"
  }
 },
 "nbformat": 4,
 "nbformat_minor": 2
}
