{
 "cells": [
  {
   "cell_type": "code",
   "execution_count": 13,
   "metadata": {
    "ExecuteTime": {
     "end_time": "2020-04-26T22:25:27.381589Z",
     "start_time": "2020-04-26T22:25:27.376133Z"
    }
   },
   "outputs": [],
   "source": [
    "import numpy as np;\n",
    "import pandas as pd;\n"
   ]
  },
  {
   "cell_type": "markdown",
   "metadata": {},
   "source": [
    "## Initialize Parameters"
   ]
  },
  {
   "cell_type": "code",
   "execution_count": 14,
   "metadata": {
    "ExecuteTime": {
     "end_time": "2020-04-26T22:25:35.409724Z",
     "start_time": "2020-04-26T22:25:35.404891Z"
    }
   },
   "outputs": [],
   "source": [
    "## parameters and global variables\n",
    "\n",
    "district = \"tvm\"\n",
    "\n",
    "zetaPanchayat = 0.1\n",
    "zetaMunicipality = 0.2\n",
    "zetaCorporation = 0.3\n",
    "\n",
    "\n",
    "muForSmall = 0.09\n",
    "muForMedium = 0.04\n",
    "muForLarge = 0.02\n",
    "\n"
   ]
  },
  {
   "cell_type": "markdown",
   "metadata": {},
   "source": [
    "## Load and Initialize Data"
   ]
  },
  {
   "cell_type": "code",
   "execution_count": 15,
   "metadata": {
    "ExecuteTime": {
     "end_time": "2020-04-26T22:25:38.489721Z",
     "start_time": "2020-04-26T22:25:38.384698Z"
    }
   },
   "outputs": [
    {
     "data": {
      "text/html": [
       "<div>\n",
       "<style scoped>\n",
       "    .dataframe tbody tr th:only-of-type {\n",
       "        vertical-align: middle;\n",
       "    }\n",
       "\n",
       "    .dataframe tbody tr th {\n",
       "        vertical-align: top;\n",
       "    }\n",
       "\n",
       "    .dataframe thead th {\n",
       "        text-align: right;\n",
       "    }\n",
       "</style>\n",
       "<table border=\"1\" class=\"dataframe\">\n",
       "  <thead>\n",
       "    <tr style=\"text-align: right;\">\n",
       "      <th></th>\n",
       "      <th>name</th>\n",
       "      <th>type</th>\n",
       "      <th>N</th>\n",
       "      <th>J</th>\n",
       "      <th>T</th>\n",
       "    </tr>\n",
       "  </thead>\n",
       "  <tbody>\n",
       "    <tr>\n",
       "      <th>62</th>\n",
       "      <td>Thirupuram__Thiruvananthapuram</td>\n",
       "      <td>P</td>\n",
       "      <td>18898</td>\n",
       "      <td>1889.8</td>\n",
       "      <td>1700.82</td>\n",
       "    </tr>\n",
       "    <tr>\n",
       "      <th>63</th>\n",
       "      <td>Thiruvananthapuram(C)__Thiruvananthapuram</td>\n",
       "      <td>C</td>\n",
       "      <td>966856</td>\n",
       "      <td>290056.8</td>\n",
       "      <td>19337.12</td>\n",
       "    </tr>\n",
       "    <tr>\n",
       "      <th>64</th>\n",
       "      <td>Tholikkodu__Thiruvananthapuram</td>\n",
       "      <td>P</td>\n",
       "      <td>25274</td>\n",
       "      <td>2527.4</td>\n",
       "      <td>1010.96</td>\n",
       "    </tr>\n",
       "    <tr>\n",
       "      <th>65</th>\n",
       "      <td>Uzhamalakkal__Thiruvananthapuram</td>\n",
       "      <td>P</td>\n",
       "      <td>21472</td>\n",
       "      <td>2147.2</td>\n",
       "      <td>1932.48</td>\n",
       "    </tr>\n",
       "    <tr>\n",
       "      <th>66</th>\n",
       "      <td>Vakkam__Thiruvananthapuram</td>\n",
       "      <td>P</td>\n",
       "      <td>16533</td>\n",
       "      <td>1653.3</td>\n",
       "      <td>1487.97</td>\n",
       "    </tr>\n",
       "    <tr>\n",
       "      <th>67</th>\n",
       "      <td>Vamanpuram__Thiruvananthapuram</td>\n",
       "      <td>P</td>\n",
       "      <td>21038</td>\n",
       "      <td>2103.8</td>\n",
       "      <td>1893.42</td>\n",
       "    </tr>\n",
       "    <tr>\n",
       "      <th>68</th>\n",
       "      <td>Varkala(M)__Thiruvananthapuram</td>\n",
       "      <td>M</td>\n",
       "      <td>40048</td>\n",
       "      <td>8009.6</td>\n",
       "      <td>3604.32</td>\n",
       "    </tr>\n",
       "    <tr>\n",
       "      <th>69</th>\n",
       "      <td>Vellanad__Thiruvananthapuram</td>\n",
       "      <td>P</td>\n",
       "      <td>31156</td>\n",
       "      <td>3115.6</td>\n",
       "      <td>2804.04</td>\n",
       "    </tr>\n",
       "    <tr>\n",
       "      <th>70</th>\n",
       "      <td>Vellarada__Thiruvananthapuram</td>\n",
       "      <td>P</td>\n",
       "      <td>40206</td>\n",
       "      <td>4020.6</td>\n",
       "      <td>1608.24</td>\n",
       "    </tr>\n",
       "    <tr>\n",
       "      <th>71</th>\n",
       "      <td>Vembayam__Thiruvananthapuram</td>\n",
       "      <td>P</td>\n",
       "      <td>38630</td>\n",
       "      <td>3863.0</td>\n",
       "      <td>1545.20</td>\n",
       "    </tr>\n",
       "    <tr>\n",
       "      <th>72</th>\n",
       "      <td>Venganoor__Thiruvananthapuram</td>\n",
       "      <td>P</td>\n",
       "      <td>35963</td>\n",
       "      <td>3596.3</td>\n",
       "      <td>3236.67</td>\n",
       "    </tr>\n",
       "    <tr>\n",
       "      <th>73</th>\n",
       "      <td>Vettoor__Thiruvananthapuram</td>\n",
       "      <td>P</td>\n",
       "      <td>18704</td>\n",
       "      <td>1870.4</td>\n",
       "      <td>1683.36</td>\n",
       "    </tr>\n",
       "    <tr>\n",
       "      <th>74</th>\n",
       "      <td>Vilappil__Thiruvananthapuram</td>\n",
       "      <td>P</td>\n",
       "      <td>36212</td>\n",
       "      <td>3621.2</td>\n",
       "      <td>3259.08</td>\n",
       "    </tr>\n",
       "    <tr>\n",
       "      <th>75</th>\n",
       "      <td>Vilavoorkal__Thiruvananthapuram</td>\n",
       "      <td>P</td>\n",
       "      <td>31761</td>\n",
       "      <td>3176.1</td>\n",
       "      <td>2858.49</td>\n",
       "    </tr>\n",
       "    <tr>\n",
       "      <th>76</th>\n",
       "      <td>Vithura__Thiruvananthapuram</td>\n",
       "      <td>P</td>\n",
       "      <td>26249</td>\n",
       "      <td>2624.9</td>\n",
       "      <td>524.98</td>\n",
       "    </tr>\n",
       "  </tbody>\n",
       "</table>\n",
       "</div>"
      ],
      "text/plain": [
       "                                         name type       N         J         T\n",
       "62             Thirupuram__Thiruvananthapuram    P   18898    1889.8   1700.82\n",
       "63  Thiruvananthapuram(C)__Thiruvananthapuram    C  966856  290056.8  19337.12\n",
       "64             Tholikkodu__Thiruvananthapuram    P   25274    2527.4   1010.96\n",
       "65           Uzhamalakkal__Thiruvananthapuram    P   21472    2147.2   1932.48\n",
       "66                 Vakkam__Thiruvananthapuram    P   16533    1653.3   1487.97\n",
       "67             Vamanpuram__Thiruvananthapuram    P   21038    2103.8   1893.42\n",
       "68             Varkala(M)__Thiruvananthapuram    M   40048    8009.6   3604.32\n",
       "69               Vellanad__Thiruvananthapuram    P   31156    3115.6   2804.04\n",
       "70              Vellarada__Thiruvananthapuram    P   40206    4020.6   1608.24\n",
       "71               Vembayam__Thiruvananthapuram    P   38630    3863.0   1545.20\n",
       "72              Venganoor__Thiruvananthapuram    P   35963    3596.3   3236.67\n",
       "73                Vettoor__Thiruvananthapuram    P   18704    1870.4   1683.36\n",
       "74               Vilappil__Thiruvananthapuram    P   36212    3621.2   3259.08\n",
       "75            Vilavoorkal__Thiruvananthapuram    P   31761    3176.1   2858.49\n",
       "76                Vithura__Thiruvananthapuram    P   26249    2624.9    524.98"
      ]
     },
     "execution_count": 15,
     "metadata": {},
     "output_type": "execute_result"
    }
   ],
   "source": [
    "## Load population data\n",
    "initDataDF = pd.read_csv(\"../data/\" + district + \"_population_data.csv\")\n",
    "\n",
    "\n",
    "## Load distance data\n",
    "distanceData = pd.read_csv(\"../data/\" + district + \"_distance_matrix.csv\")\n",
    "\n",
    "## Load area data\n",
    "areaData = pd.read_csv(\"../data/\" + district + \"_area_data.csv\")\n",
    "\n",
    "## Number of regions\n",
    "r = len(initDataDF.index)\n",
    "\n",
    "## Sort population data and distance data by name for easy matrix transformation\n",
    "initDataDF.sort_values(by=['name'], inplace=True)\n",
    "distanceData.sort_values(by=['fromName', 'toName'], inplace=True)\n",
    "areaData.sort_values(by=['name'], inplace=True)\n",
    "\n",
    "## Initialize Job \n",
    "initDataDF.loc[initDataDF['type']=='P','J'] = initDataDF[initDataDF['type']=='P']['N']*zetaPanchayat\n",
    "initDataDF.loc[initDataDF['type']=='M','J'] = initDataDF[initDataDF['type']=='M']['N']*zetaMunicipality\n",
    "initDataDF.loc[initDataDF['type']=='C','J'] = initDataDF[initDataDF['type']=='C']['N']*zetaCorporation\n",
    "\n",
    "## Initialize T\n",
    "areaData['areaSqKm'] = areaData['area']/(1000*1000)\n",
    "\n",
    "initDataDF.loc[areaData['areaSqKm'] <= 25,'T'] = initDataDF[areaData['areaSqKm'] <= 25]['N']*muForSmall\n",
    "initDataDF.loc[(areaData['areaSqKm'] > 25) & (areaData['areaSqKm'] <= 100),'T'] = initDataDF[(areaData['areaSqKm'] > 25) & (areaData['areaSqKm'] <= 100)]['N']*muForMedium\n",
    "initDataDF.loc[areaData['areaSqKm'] > 100,'T'] = initDataDF[areaData['areaSqKm'] > 100]['N']*muForLarge\n",
    "\n",
    "initDataDF.tail(15)"
   ]
  },
  {
   "cell_type": "markdown",
   "metadata": {},
   "source": [
    "## Matrix computation of TMatrix\n",
    "\n",
    "### Prepare Distance matrix"
   ]
  },
  {
   "cell_type": "code",
   "execution_count": 16,
   "metadata": {
    "ExecuteTime": {
     "end_time": "2020-04-26T22:25:44.116592Z",
     "start_time": "2020-04-26T22:25:44.109051Z"
    }
   },
   "outputs": [
    {
     "data": {
      "text/plain": [
       "array([[    1, 25049, 52074, ..., 17064, 19018, 19149],\n",
       "       [25049,     1, 28368, ..., 12943, 16264, 14846],\n",
       "       [52074, 28368,     1, ..., 35843, 36125, 42371],\n",
       "       ...,\n",
       "       [17064, 12943, 35843, ...,     1,  4233, 19475],\n",
       "       [19018, 16264, 36125, ...,  4233,     1, 23689],\n",
       "       [19149, 14846, 42371, ..., 19475, 23689,     1]])"
      ]
     },
     "execution_count": 16,
     "metadata": {},
     "output_type": "execute_result"
    }
   ],
   "source": [
    "distanceMatrix = np.array(distanceData['value'].to_numpy()).reshape(r,r)\n",
    "np.fill_diagonal(distanceMatrix,1)\n",
    "distanceMatrix\n"
   ]
  },
  {
   "cell_type": "markdown",
   "metadata": {},
   "source": [
    "### Job matrix"
   ]
  },
  {
   "cell_type": "code",
   "execution_count": 17,
   "metadata": {
    "ExecuteTime": {
     "end_time": "2020-04-26T22:25:47.972727Z",
     "start_time": "2020-04-26T22:25:47.964591Z"
    }
   },
   "outputs": [
    {
     "data": {
      "text/plain": [
       "array([[1592. , 3168.7, 1739.6, ..., 3621.2, 3176.1, 2624.9],\n",
       "       [1592. , 3168.7, 1739.6, ..., 3621.2, 3176.1, 2624.9],\n",
       "       [1592. , 3168.7, 1739.6, ..., 3621.2, 3176.1, 2624.9],\n",
       "       ...,\n",
       "       [1592. , 3168.7, 1739.6, ..., 3621.2, 3176.1, 2624.9],\n",
       "       [1592. , 3168.7, 1739.6, ..., 3621.2, 3176.1, 2624.9],\n",
       "       [1592. , 3168.7, 1739.6, ..., 3621.2, 3176.1, 2624.9]])"
      ]
     },
     "execution_count": 17,
     "metadata": {},
     "output_type": "execute_result"
    }
   ],
   "source": [
    "jobMatrix = np.tile(initDataDF['J'].to_numpy(),(r,1))\n",
    "jobMatrix\n"
   ]
  },
  {
   "cell_type": "markdown",
   "metadata": {},
   "source": [
    "### Job by Distance Square matrix"
   ]
  },
  {
   "cell_type": "code",
   "execution_count": 18,
   "metadata": {
    "ExecuteTime": {
     "end_time": "2020-04-26T22:25:49.871139Z",
     "start_time": "2020-04-26T22:25:49.863462Z"
    }
   },
   "outputs": [
    {
     "data": {
      "text/plain": [
       "array([[0.00000000e+00, 5.05010419e-06, 6.41516043e-07, ...,\n",
       "        1.24362896e-05, 8.78141459e-06, 7.15847586e-06],\n",
       "       [2.53724426e-06, 0.00000000e+00, 2.16168278e-06, ...,\n",
       "        2.16163622e-05, 1.20071362e-05, 1.19095088e-05],\n",
       "       [5.87085273e-07, 3.93752829e-06, 0.00000000e+00, ...,\n",
       "        2.81866724e-06, 2.43376396e-06, 1.46209414e-06],\n",
       "       ...,\n",
       "       [5.46740667e-06, 1.89152124e-05, 1.35406869e-06, ...,\n",
       "        0.00000000e+00, 1.77254647e-04, 6.92082440e-06],\n",
       "       [4.40162842e-06, 1.19791607e-05, 1.33301086e-06, ...,\n",
       "        2.02095189e-04, 0.00000000e+00, 4.67755935e-06],\n",
       "       [4.34161056e-06, 1.43767993e-05, 9.68973659e-07, ...,\n",
       "        9.54767394e-06, 5.65979514e-06, 0.00000000e+00]])"
      ]
     },
     "execution_count": 18,
     "metadata": {},
     "output_type": "execute_result"
    }
   ],
   "source": [
    "tPropJByDSqMatrix = jobMatrix/np.multiply(distanceMatrix,distanceMatrix)\n",
    "np.fill_diagonal(tPropJByDSqMatrix,0)\n",
    "tPropJByDSqMatrix\n"
   ]
  },
  {
   "cell_type": "markdown",
   "metadata": {},
   "source": [
    "### Sum of Job by Distance Square matrix"
   ]
  },
  {
   "cell_type": "code",
   "execution_count": 19,
   "metadata": {
    "ExecuteTime": {
     "end_time": "2020-04-26T22:25:53.490027Z",
     "start_time": "2020-04-26T22:25:53.482004Z"
    }
   },
   "outputs": [
    {
     "data": {
      "text/plain": [
       "array([[0.00122143, 0.00122143, 0.00122143, ..., 0.00122143, 0.00122143,\n",
       "        0.00122143],\n",
       "       [0.00346774, 0.00346774, 0.00346774, ..., 0.00346774, 0.00346774,\n",
       "        0.00346774],\n",
       "       [0.00271192, 0.00271192, 0.00271192, ..., 0.00271192, 0.00271192,\n",
       "        0.00271192],\n",
       "       ...,\n",
       "       [0.00432973, 0.00432973, 0.00432973, ..., 0.00432973, 0.00432973,\n",
       "        0.00432973],\n",
       "       [0.00586332, 0.00586332, 0.00586332, ..., 0.00586332, 0.00586332,\n",
       "        0.00586332],\n",
       "       [0.00087303, 0.00087303, 0.00087303, ..., 0.00087303, 0.00087303,\n",
       "        0.00087303]])"
      ]
     },
     "execution_count": 19,
     "metadata": {},
     "output_type": "execute_result"
    }
   ],
   "source": [
    "tPropMatrixSum = np.tile(tPropJByDSqMatrix.sum(axis=1),(r,1)).T\n",
    "tPropMatrixSum"
   ]
  },
  {
   "cell_type": "markdown",
   "metadata": {
    "ExecuteTime": {
     "end_time": "2020-04-24T05:08:18.147456Z",
     "start_time": "2020-04-24T05:08:18.133249Z"
    }
   },
   "source": [
    "### Ti propotion matrix"
   ]
  },
  {
   "cell_type": "code",
   "execution_count": 20,
   "metadata": {
    "ExecuteTime": {
     "end_time": "2020-04-26T22:25:55.206858Z",
     "start_time": "2020-04-26T22:25:55.197715Z"
    }
   },
   "outputs": [
    {
     "data": {
      "text/plain": [
       "array([[0.        , 0.00413459, 0.00052522, ..., 0.01018176, 0.00718946,\n",
       "        0.00586074],\n",
       "       [0.00073167, 0.        , 0.00062337, ..., 0.00623357, 0.00346253,\n",
       "        0.00343438],\n",
       "       [0.00021648, 0.00145193, 0.        , ..., 0.00103936, 0.00089743,\n",
       "        0.00053914],\n",
       "       ...,\n",
       "       [0.00126276, 0.00436869, 0.00031274, ..., 0.        , 0.040939  ,\n",
       "        0.00159844],\n",
       "       [0.00075071, 0.00204307, 0.00022735, ..., 0.03446773, 0.        ,\n",
       "        0.00079777],\n",
       "       [0.00497305, 0.01646773, 0.0011099 , ..., 0.01093627, 0.00648295,\n",
       "        0.        ]])"
      ]
     },
     "execution_count": 20,
     "metadata": {},
     "output_type": "execute_result"
    }
   ],
   "source": [
    "tPropMatrix = tPropJByDSqMatrix/tPropMatrixSum\n",
    "tPropMatrix"
   ]
  },
  {
   "cell_type": "markdown",
   "metadata": {},
   "source": [
    "### Ti matrix \n",
    "`number of people traveling out of region-i`"
   ]
  },
  {
   "cell_type": "code",
   "execution_count": 21,
   "metadata": {
    "ExecuteTime": {
     "end_time": "2020-04-26T22:25:58.267955Z",
     "start_time": "2020-04-26T22:25:58.260622Z"
    }
   },
   "outputs": [
    {
     "data": {
      "text/plain": [
       "array([[ 636.8 ,  636.8 ,  636.8 , ...,  636.8 ,  636.8 ,  636.8 ],\n",
       "       [2851.83, 2851.83, 2851.83, ..., 2851.83, 2851.83, 2851.83],\n",
       "       [1565.64, 1565.64, 1565.64, ..., 1565.64, 1565.64, 1565.64],\n",
       "       ...,\n",
       "       [3259.08, 3259.08, 3259.08, ..., 3259.08, 3259.08, 3259.08],\n",
       "       [2858.49, 2858.49, 2858.49, ..., 2858.49, 2858.49, 2858.49],\n",
       "       [ 524.98,  524.98,  524.98, ...,  524.98,  524.98,  524.98]])"
      ]
     },
     "execution_count": 21,
     "metadata": {},
     "output_type": "execute_result"
    }
   ],
   "source": [
    "TiMatrix = np.tile(initDataDF['T'].to_numpy(),(r,1)).T\n",
    "TiMatrix"
   ]
  },
  {
   "cell_type": "markdown",
   "metadata": {},
   "source": [
    "### Tij Matrix"
   ]
  },
  {
   "cell_type": "code",
   "execution_count": 22,
   "metadata": {
    "ExecuteTime": {
     "end_time": "2020-04-26T22:25:59.941085Z",
     "start_time": "2020-04-26T22:25:59.931586Z"
    }
   },
   "outputs": [
    {
     "data": {
      "text/plain": [
       "array([[  0.        ,   2.63290663,   0.33445881, ...,   6.4837453 ,\n",
       "          4.57825102,   3.73212073],\n",
       "       [  2.08660316,   0.        ,   1.77774533, ...,  17.7770704 ,\n",
       "          9.87454332,   9.7942556 ],\n",
       "       [  0.33893448,   2.27320314,   0.        , ...,   1.62726531,\n",
       "          1.405054  ,   0.84409222],\n",
       "       ...,\n",
       "       [  4.11543701,  14.23789554,   1.01923722, ...,   0.        ,\n",
       "        133.42346395,   5.20945644],\n",
       "       [  2.14588667,   5.84009347,   0.6498709 , ...,  98.52566626,\n",
       "          0.        ,   2.28040882],\n",
       "       [  2.61074987,   8.64523118,   0.58267498, ...,   5.74132298,\n",
       "          3.40341659,   0.        ]])"
      ]
     },
     "execution_count": 22,
     "metadata": {},
     "output_type": "execute_result"
    }
   ],
   "source": [
    "TijMatrix = np.multiply(TiMatrix, tPropMatrix)\n",
    "TijMatrix"
   ]
  },
  {
   "cell_type": "markdown",
   "metadata": {},
   "source": [
    "### Add Ni - Tij to diagonal elements"
   ]
  },
  {
   "cell_type": "code",
   "execution_count": 23,
   "metadata": {
    "ExecuteTime": {
     "end_time": "2020-04-26T22:26:03.226187Z",
     "start_time": "2020-04-26T22:26:03.217436Z"
    }
   },
   "outputs": [
    {
     "data": {
      "text/plain": [
       "array([[1.52832000e+04, 2.63290663e+00, 3.34458811e-01, ...,\n",
       "        6.48374530e+00, 4.57825102e+00, 3.73212073e+00],\n",
       "       [2.08660316e+00, 2.88351700e+04, 1.77774533e+00, ...,\n",
       "        1.77770704e+01, 9.87454332e+00, 9.79425560e+00],\n",
       "       [3.38934475e-01, 2.27320314e+00, 1.58303600e+04, ...,\n",
       "        1.62726531e+00, 1.40505400e+00, 8.44092216e-01],\n",
       "       ...,\n",
       "       [4.11543701e+00, 1.42378955e+01, 1.01923722e+00, ...,\n",
       "        3.29529200e+04, 1.33423464e+02, 5.20945644e+00],\n",
       "       [2.14588667e+00, 5.84009347e+00, 6.49870904e-01, ...,\n",
       "        9.85256663e+01, 2.89025100e+04, 2.28040882e+00],\n",
       "       [2.61074987e+00, 8.64523118e+00, 5.82674981e-01, ...,\n",
       "        5.74132298e+00, 3.40341659e+00, 2.57240200e+04]])"
      ]
     },
     "execution_count": 23,
     "metadata": {},
     "output_type": "execute_result"
    }
   ],
   "source": [
    "row,col = np.diag_indices_from(TijMatrix)\n",
    "TijMatrix[row,col] = initDataDF['N'].to_numpy() - TijMatrix.sum(axis=1)\n",
    "TijMatrix"
   ]
  },
  {
   "cell_type": "markdown",
   "metadata": {
    "ExecuteTime": {
     "end_time": "2020-04-24T05:14:36.245094Z",
     "start_time": "2020-04-24T05:14:36.240507Z"
    }
   },
   "source": [
    "## Save output"
   ]
  },
  {
   "cell_type": "code",
   "execution_count": 24,
   "metadata": {
    "ExecuteTime": {
     "end_time": "2020-04-26T22:26:07.948747Z",
     "start_time": "2020-04-26T22:26:06.292360Z"
    }
   },
   "outputs": [],
   "source": [
    "\n",
    "data = []\n",
    "\n",
    "for i in range(0,r):\n",
    "    for j in range(0,r):\n",
    "        Tij = TijMatrix[i][j]\n",
    "        data.append({'iName': initDataDF.iloc[i]['name'], 'jName': initDataDF.iloc[j]['name'], 'Tij': Tij});\n",
    "        \n",
    "resultsDF = pd.DataFrame(data);\n",
    "\n",
    "resultsDF.to_csv(\"../output/\" + district + \"_tmatrix_results.csv\")\n"
   ]
  },
  {
   "cell_type": "markdown",
   "metadata": {},
   "source": [
    "## Save top 5 "
   ]
  },
  {
   "cell_type": "code",
   "execution_count": 25,
   "metadata": {
    "ExecuteTime": {
     "end_time": "2020-04-26T22:26:09.835153Z",
     "start_time": "2020-04-26T22:26:09.755518Z"
    }
   },
   "outputs": [
    {
     "name": "stderr",
     "output_type": "stream",
     "text": [
      "/Users/sreeramh/anaconda3/lib/python3.7/site-packages/ipykernel_launcher.py:3: SettingWithCopyWarning: \n",
      "A value is trying to be set on a copy of a slice from a DataFrame.\n",
      "Try using .loc[row_indexer,col_indexer] = value instead\n",
      "\n",
      "See the caveats in the documentation: http://pandas.pydata.org/pandas-docs/stable/user_guide/indexing.html#returning-a-view-versus-a-copy\n",
      "  This is separate from the ipykernel package so we can avoid doing imports until\n"
     ]
    }
   ],
   "source": [
    "resultsDF[\"rank\"] = resultsDF.groupby(['iName'])['Tij'].rank(\"dense\", ascending=False)\n",
    "top5resultsDF = resultsDF[resultsDF[\"rank\"] <= 6]\n",
    "top5resultsDF[\"jName_Tij\"] = top5resultsDF[\"jName\"] + \" (\" + top5resultsDF[\"Tij\"].astype(str)  + \")\"\n",
    "top5resultsDFPivot = top5resultsDF.pivot(index=\"iName\", columns=\"rank\", values=\"jName_Tij\")\n",
    "top5resultsDFPivot.to_csv(\"../output/\" + district + \"_tmatrix_top5_regions.csv\")\n"
   ]
  },
  {
   "cell_type": "markdown",
   "metadata": {},
   "source": [
    "## Old Version\n",
    "### Function definition"
   ]
  },
  {
   "cell_type": "markdown",
   "metadata": {
    "ExecuteTime": {
     "end_time": "2020-04-24T04:23:51.346122Z",
     "start_time": "2020-04-24T04:23:51.340029Z"
    }
   },
   "source": [
    "def getTij(i,j,distanceMatrix, initDataDF, tPropMatrix):\n",
    "    Ti = initDataDF.iloc[i]['T']\n",
    "\n",
    "    if(i==j):\n",
    "        return 0;\n",
    "    \n",
    "    Tjprop = tPropMatrix[i][j]\n",
    "    TjpropSum = tPropMatrix[i].sum();\n",
    "    ## TODO move this tPropMatrix computation.\n",
    "    return Ti*Tjprop/TjpropSum;\n",
    "    \n",
    "    "
   ]
  },
  {
   "cell_type": "markdown",
   "metadata": {},
   "source": [
    "### Compute TMatrix"
   ]
  },
  {
   "cell_type": "markdown",
   "metadata": {
    "ExecuteTime": {
     "end_time": "2020-04-24T05:13:41.847593Z",
     "start_time": "2020-04-24T05:13:41.835183Z"
    }
   },
   "source": [
    "\n",
    "data = []\n",
    "\n",
    "for i in range(0,r):\n",
    "    TijSum = 0\n",
    "    for j in range(0,r):\n",
    "        Tij = getTij(i,j,distanceMatrix, initDataDF, tPropMatrix)\n",
    "        TijSum += Tij\n",
    "        data.append({'iName': initDataDF.iloc[i]['name'], 'jName': initDataDF.iloc[j]['name'], 'Tij': Tij});\n",
    "        \n",
    "resultsDF = pd.DataFrame(data);\n",
    "\n"
   ]
  },
  {
   "cell_type": "code",
   "execution_count": null,
   "metadata": {},
   "outputs": [],
   "source": []
  }
 ],
 "metadata": {
  "kernelspec": {
   "display_name": "Python 3",
   "language": "python",
   "name": "python3"
  },
  "language_info": {
   "codemirror_mode": {
    "name": "ipython",
    "version": 3
   },
   "file_extension": ".py",
   "mimetype": "text/x-python",
   "name": "python",
   "nbconvert_exporter": "python",
   "pygments_lexer": "ipython3",
   "version": "3.7.5"
  }
 },
 "nbformat": 4,
 "nbformat_minor": 2
}
