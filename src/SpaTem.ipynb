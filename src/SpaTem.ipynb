{
 "cells": [
  {
   "cell_type": "code",
   "execution_count": 1,
   "metadata": {},
   "outputs": [],
   "source": [
    "import numpy as np;\n",
    "import pandas as pd;\n",
    "import plotly.express as px;\n"
   ]
  },
  {
   "cell_type": "code",
   "execution_count": 2,
   "metadata": {},
   "outputs": [
    {
     "name": "stdout",
     "output_type": "stream",
     "text": [
      "{'beta': 0.49, 'tE': 5, 'tI': 5, 'tH': 9, 'mu': 0.001, 'cw': 15, 'ch': 5}\n"
     ]
    }
   ],
   "source": [
    "# Global parameters\n",
    "NO_OF_DAYS = 75\n",
    "modelParameter = {}\n",
    "modelParameter[\"beta\"] = 0.49  \n",
    "modelParameter[\"tE\"] = 5\n",
    "modelParameter[\"tI\"] = 5\n",
    "modelParameter[\"tH\"] = 9\n",
    "modelParameter[\"mu\"] = 0.001\n",
    "modelParameter[\"cw\"] = 15\n",
    "modelParameter[\"ch\"] = 5\n",
    "\n",
    "\n",
    "print(modelParameter)\n"
   ]
  },
  {
   "cell_type": "code",
   "execution_count": 3,
   "metadata": {},
   "outputs": [],
   "source": [
    "# Load data\n",
    "initDataDF = pd.read_csv(\"../data/tvm_init_data.csv\")\n",
    "#print(initDataDF)\n",
    "\n",
    "cSparseMatrix = pd.read_csv(\"../output/cmatrix_results.csv\")\n",
    "#print(neighborDF)\n"
   ]
  },
  {
   "cell_type": "code",
   "execution_count": 4,
   "metadata": {},
   "outputs": [],
   "source": [
    "## Differential equation\n",
    "def deriv(y, Ni, contactRatio, modelParameter):\n",
    "    Si, Ei, Ii, Hi, Ri = y\n",
    "    dSdt = -modelParameter[\"beta\"] * Si * contactRatio\n",
    "    dEdt = (modelParameter[\"beta\"] * Si * contactRatio) - (Ei/modelParameter[\"tE\"])\n",
    "    dIdt = (Ei/modelParameter[\"tE\"]) -  (Ii/modelParameter[\"tI\"])\n",
    "    dHdt = (Ii/modelParameter[\"tI\"]) - (Hi/modelParameter[\"tH\"])\n",
    "    dRdt = (Hi/modelParameter[\"tH\"])\n",
    "    return dSdt, dEdt, dIdt, dHdt, dRdt"
   ]
  },
  {
   "cell_type": "code",
   "execution_count": 5,
   "metadata": {},
   "outputs": [],
   "source": [
    "def findSpatialContactRatio(name, NDict, yDict, cSparseMatrix, modelParameter):\n",
    "    # TODO conver this to a matrix operation\n",
    "    contactRatio = 0;\n",
    "    Ci = cSparseMatrix[cSparseMatrix['iName']==name]\n",
    "    cw = modelParameter[\"cw\"]\n",
    "    ch = modelParameter[\"ch\"]\n",
    "    for index, Cij in Ci.iterrows():\n",
    "        jName = Cij['jName']\n",
    "        cij = cw*Cij['Cij']\n",
    "\n",
    "        if(jName == name):\n",
    "            cij = (cw+ch)*Cij['Cij']\n",
    "            \n",
    "        Ij = yDict[jName][2]\n",
    "        Nj = NDict[jName]\n",
    "        contactRatio = contactRatio +  (cij*Ij/Nj)\n",
    "    return contactRatio;\n",
    "        "
   ]
  },
  {
   "cell_type": "code",
   "execution_count": 6,
   "metadata": {},
   "outputs": [],
   "source": [
    "## next count \n",
    "def derivNext(y, rates) :\n",
    "    S,E,I,H, R = y\n",
    "    dSdt, dEdt, dIdt, dHdt, dRdt = rates\n",
    "    S1 = S + dSdt\n",
    "    E1 = E + dEdt\n",
    "    I1 = I + dIdt\n",
    "    H1 = H + dHdt\n",
    "    R1 = R + dRdt\n",
    "    if S1 <= 0:\n",
    "        S1 = 0\n",
    "    if E1 <= 0:\n",
    "        E1 = 0\n",
    "    if I1 <=0:\n",
    "        I1 = 0\n",
    "    if H1 <= 0:\n",
    "        H1 = 0\n",
    "    if R1 <= 0:\n",
    "        R1 = 0\n",
    "        \n",
    "    return S1, E1, I1, H1, R1\n"
   ]
  },
  {
   "cell_type": "code",
   "execution_count": null,
   "metadata": {},
   "outputs": [],
   "source": [
    "yDict = {};\n",
    "NDict = {};\n",
    "resultsDF = pd.DataFrame(columns=['name', 'day', 'S', 'E', 'I', 'H', 'R'], );\n",
    "\n",
    "for index, row in initDataDF.iterrows():\n",
    "    NDict[row['name']] = row['S'] + row['E'] + row['I'] + row['H'] + row['R']\n",
    "    yDict[row['name']] = row['S'], row['E'], row['I'], row['H'], row['R'] \n",
    "    \n",
    "\n",
    "for day in range(1,NO_OF_DAYS):\n",
    "    for index, row in initDataDF.iterrows():\n",
    "        name = row['name'];\n",
    "        y = yDict[name]; \n",
    "        \n",
    "        contactRatio = findSpatialContactRatio(name, NDict, yDict, cSparseMatrix, modelParameter);\n",
    "        #print(name, \"contactRatio = \", contactRatio)\n",
    "        \n",
    "        rates = deriv(y, NDict[name], contactRatio, modelParameter)\n",
    "        yNext = derivNext(y, rates) \n",
    "        \n",
    "        yDict[name] = yNext\n",
    "        #print(name, yNext)\n",
    "        resultsDF = resultsDF.append({'name': name, 'day': day, 'S': yNext[0], 'E': yNext[1], 'I': yNext[2], 'H': yNext[3], 'R': yNext[4]},ignore_index=True)\n"
   ]
  },
  {
   "cell_type": "code",
   "execution_count": null,
   "metadata": {},
   "outputs": [],
   "source": [
    "resultsDF.head(10)"
   ]
  },
  {
   "cell_type": "code",
   "execution_count": null,
   "metadata": {},
   "outputs": [],
   "source": [
    "resultsDF.to_csv(\"../output/results.csv\")"
   ]
  },
  {
   "cell_type": "code",
   "execution_count": null,
   "metadata": {},
   "outputs": [],
   "source": [
    "fig = px.scatter(resultsDF, x=\"day\", y=\"H\", color=\"name\")\n",
    "fig.show()"
   ]
  },
  {
   "cell_type": "code",
   "execution_count": null,
   "metadata": {},
   "outputs": [],
   "source": []
  }
 ],
 "metadata": {
  "kernelspec": {
   "display_name": "Python 3",
   "language": "python",
   "name": "python3"
  },
  "language_info": {
   "codemirror_mode": {
    "name": "ipython",
    "version": 3
   },
   "file_extension": ".py",
   "mimetype": "text/x-python",
   "name": "python",
   "nbconvert_exporter": "python",
   "pygments_lexer": "ipython3",
   "version": "3.7.5"
  }
 },
 "nbformat": 4,
 "nbformat_minor": 2
}
